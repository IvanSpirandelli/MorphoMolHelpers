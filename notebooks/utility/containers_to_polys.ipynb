{
 "cells": [
  {
   "cell_type": "code",
   "execution_count": 2,
   "metadata": {},
   "outputs": [],
   "source": [
    "import Pkg; \n",
    "\n",
    "if split(pwd(),\"/\")[end] == \"utility\"\n",
    "    cd(joinpath(@__DIR__, \"../../../MorphoMolMonteCarlo/\"))\n",
    "    Pkg.activate(\"Project.toml\")\n",
    "end\n",
    "\n",
    "using MorphoMol\n",
    "\n",
    "if split(pwd(), \"/\")[end] == \"MorphoMolMonteCarlo\"\n",
    "    cd(joinpath(@__DIR__, \"../MMMCNotebooks/\"))\n",
    "    Pkg.activate(\"Project.toml\")\n",
    "end\n",
    "\n",
    "using StaticArrays\n",
    "using Rotations\n",
    "using Distances\n",
    "using JLD2"
   ]
  },
  {
   "cell_type": "code",
   "execution_count": 6,
   "metadata": {},
   "outputs": [
    {
     "name": "stdout",
     "output_type": "stream",
     "text": [
      "[0.0, 0.0, 0.0, 50.0, 50.0, 50.0, -0.47666069551177503, 2.611591106156659, 0.21942261511184177, 13.174610184653794, 44.59054264615526, 48.980246657818455]\n"
     ]
    }
   ],
   "source": [
    "@load \"assets/input/jld2/2_6r7m_touching_init/2_6r7m_touching_1.jld2\" template_mol template_radii x_init\n",
    "n_mol = Int(length(x_init) / 6)\n",
    "n_atoms_per_mol = length(template_radii)\n",
    "radii = [template_radii; template_radii]\n",
    "MorphoMol.Utilities.state_to_poly(MorphoMol.Utilities.get_flat_realization(x_init, template_mol), radii, \"assets/output/test\", n_mol, n_atoms_per_mol)\n",
    "println(x_init)"
   ]
  },
  {
   "cell_type": "code",
   "execution_count": 4,
   "metadata": {},
   "outputs": [],
   "source": [
    "folder = \"assets/input/jld2/2_low/\"\n",
    "mol_type = \"2tmv\"\n",
    "for file in readdir(folder)\n",
    "    if split(file, \".\")[end] == \"jld2\" && split(file, \"_\")[1] == mol_type\n",
    "        id = split(file, \".\")[1]\n",
    "        @load \"$(folder)$(file)\" template_mol template_radii x_init\n",
    "        n_mol = Int(length(x_init) / 6)\n",
    "        n_atoms_per_mol = length(template_radii)\n",
    "        radii = [template_radii; template_radii]\n",
    "        MorphoMol.Utilities.state_to_poly(MorphoMol.Utilities.get_flat_realization(x_init, template_mol), radii, \"$(folder)/$(id)\", n_mol, n_atoms_per_mol)\n",
    "    end\n",
    "end"
   ]
  },
  {
   "cell_type": "code",
   "execution_count": 5,
   "metadata": {},
   "outputs": [
    {
     "name": "stdout",
     "output_type": "stream",
     "text": [
      "2tmv_1.jld2: 8068.845376257597\n",
      "2tmv_10.jld2: 8068.404931680222\n",
      "2tmv_11.jld2: 8068.309327247629\n",
      "2tmv_12.jld2: 8067.6825631039355\n",
      "2tmv_13.jld2: 8066.663001716776\n",
      "2tmv_14.jld2: 8057.870218579325\n",
      "2tmv_15.jld2: 8056.550361360152\n",
      "2tmv_16.jld2: 8067.9164929580265\n",
      "2tmv_17.jld2: 8070.769023164123\n",
      "2tmv_2.jld2: 8066.672216398206\n",
      "2tmv_3.jld2: 8071.308333562088\n",
      "2tmv_4.jld2: 8069.859170940323\n",
      "2tmv_5.jld2: 8066.709716808957\n",
      "2tmv_6.jld2: 8058.9871021432145\n",
      "2tmv_7.jld2: 8070.193525088187\n",
      "2tmv_8.jld2: 8069.687114139514\n",
      "2tmv_9.jld2: 8070.125910416395\n"
     ]
    }
   ],
   "source": [
    "pf = MorphoMol.Energies.get_prefactors(1.4, 0.3665)\n",
    "folder = \"assets/input/jld2/2_low/\"\n",
    "for file in readdir(folder)\n",
    "    if split(file, \".\")[end] == \"jld2\" && split(file, \"_\")[1] == mol_type\n",
    "        @load \"$(folder)$(file)\" template_mol template_radii x_init\n",
    "        n_mol = Int(length(x_init) / 6)\n",
    "        n_atoms_per_mol = length(template_radii)\n",
    "        radii = [template_radii; template_radii]\n",
    "        E = MorphoMol.Energies.solvation_free_energy(\n",
    "            MorphoMol.Utilities.get_flat_realization(x_init, template_mol),\n",
    "            n_atoms_per_mol,\n",
    "            radii,\n",
    "            1.4,\n",
    "            pf,\n",
    "            0.0,\n",
    "            0.85\n",
    "        )\n",
    "        println(file, \": \",E)\n",
    "    end\n",
    "end"
   ]
  }
 ],
 "metadata": {
  "kernelspec": {
   "display_name": "Julia 1.10.4",
   "language": "julia",
   "name": "julia-1.10"
  },
  "language_info": {
   "file_extension": ".jl",
   "mimetype": "application/julia",
   "name": "julia",
   "version": "1.10.4"
  }
 },
 "nbformat": 4,
 "nbformat_minor": 2
}
