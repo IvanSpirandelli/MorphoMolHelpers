{
 "cells": [
  {
   "cell_type": "code",
   "execution_count": 1,
   "metadata": {},
   "outputs": [
    {
     "name": "stderr",
     "output_type": "stream",
     "text": [
      "\u001b[32m\u001b[1m  Activating\u001b[22m\u001b[39m project at `~/Doktor/Code/MorphoMol/MorphoMolNotebooks`\n"
     ]
    }
   ],
   "source": [
    "import Pkg; \n",
    "\n",
    "cd(joinpath(@__DIR__, \"../../\"))\n",
    "Pkg.activate(\"Project.toml\")\n",
    "\n",
    "using MorphoMol\n",
    "using PyCall\n",
    "using JLD2\n",
    "using LinearAlgebra\n",
    "using NearestNeighbors\n",
    "using Rotations"
   ]
  },
  {
   "cell_type": "code",
   "execution_count": 2,
   "metadata": {},
   "outputs": [
    {
     "data": {
      "text/plain": [
       "get_interface_diagram_as_numpy_false (generic function with 1 method)"
      ]
     },
     "execution_count": 2,
     "metadata": {},
     "output_type": "execute_result"
    }
   ],
   "source": [
    "using PyCall\n",
    "\n",
    "function get_interface_diagram(points, n_atoms_per_mol)\n",
    "    py\"\"\"\n",
    "    import oineus as oin\n",
    "    import numpy as np\n",
    "    import torch\n",
    "    import diode\n",
    "\n",
    "    def get_interface_diagram(points, n_atoms_per_mol):\n",
    "        points = np.asarray(points)\n",
    "        print(\"PYTHON:\")\n",
    "        print(\"x: \", min([p[0] for p in points]), \" \", max([p[0] for p in points]))\n",
    "        print(\"y: \", min([p[1] for p in points]), \" \", max([p[1] for p in points]))\n",
    "        print(\"z: \", min([p[2] for p in points]), \" \", max([p[2] for p in points]))\n",
    "\n",
    "        simplices = diode.fill_alpha_shapes(points)\n",
    "        # #print(simplices)\n",
    "        # for sim in simplices:\n",
    "        #     if len(sim[0]) == 1:\n",
    "        #          print(sim)\n",
    "        \n",
    "        fil = oin.Filtration_double([oin.Simplex_double(s[0], s[1]) for s in simplices])\n",
    "\n",
    "        def is_multi(sigma):\n",
    "            has_a = has_b = False\n",
    "            for v in sigma.vertices:\n",
    "                if v < n_atoms_per_mol:\n",
    "                    has_a = True\n",
    "                else:\n",
    "                    has_b = True\n",
    "            return has_a and has_b\n",
    "\n",
    "        fil = fil.subfiltration(is_multi)\n",
    "        # second argument: True for cohomology, False for homology (incorrect for subfiltration)\n",
    "        dcmp = oin.Decomposition(fil, True)\n",
    "        params = oin.ReductionParams()\n",
    "        params.clearing_opt = False\n",
    "        dcmp.reduce(params)\n",
    "        #odgm = dcmp.diagram(fil, include_inf_points=False)\n",
    "        dgm = dcmp.diagram(fil, include_inf_points=False).in_dimension(2, as_numpy=False)\n",
    "        print(\"OINEUS\")\n",
    "        print(fil.cells()[3632])\n",
    "        print(fil.cells()[5180])\n",
    "        print(dgm)\n",
    "        #return dgm\n",
    "    \"\"\"\n",
    "    py\"get_interface_diagram\"(points, n_atoms_per_mol)\n",
    "end"
   ]
  },
  {
   "cell_type": "code",
   "execution_count": null,
   "metadata": {},
   "outputs": [],
   "source": [
    "@load \"assets/output/persistence/exploding.jld2\" input output\n",
    "display(interactive_simulation_analysis(merge!(input, Dict(\"mol_type\" => \"6r7m\")), output))\n",
    "\n",
    "points = MorphoMol.Utilities.get_matrix_realization(output[\"states\"][end], input[\"template_centers\"])\n",
    "points = [e for e in eachcol(hcat(points...))];\n",
    "println(\"JULIA:\")\n",
    "println(\"x: \", minimum([p[1] for p in points]), \" \", maximum([p[1] for p in points]))\n",
    "println(\"y: \", minimum([p[2] for p in points]), \" \", maximum([p[2] for p in points]))\n",
    "println(\"z: \", minimum([p[3] for p in points]), \" \", maximum([p[3] for p in points]))\n",
    "\n",
    "dgms = get_interface_diagram(points, 1206)\n",
    "dgms"
   ]
  }
 ],
 "metadata": {
  "kernelspec": {
   "display_name": "Julia Oineus 1.10.4",
   "language": "julia",
   "name": "julia-oineus-1.10"
  },
  "language_info": {
   "file_extension": ".jl",
   "mimetype": "application/julia",
   "name": "julia",
   "version": "1.10.4"
  }
 },
 "nbformat": 4,
 "nbformat_minor": 2
}
