{
 "cells": [
  {
   "cell_type": "code",
   "execution_count": 2,
   "metadata": {},
   "outputs": [
    {
     "name": "stderr",
     "output_type": "stream",
     "text": [
      "\u001b[32m\u001b[1m  Activating\u001b[22m\u001b[39m project at `~/Doktor/Code/MorphoMol/MorphoMolNotebooks`\n"
     ]
    }
   ],
   "source": [
    "import Pkg; \n",
    "\n",
    "cd(joinpath(@__DIR__, \"../../\"))\n",
    "Pkg.activate(\"Project.toml\")\n",
    "\n",
    "using MorphoMol\n",
    "using PyCall\n",
    "using JLD2\n",
    "using LinearAlgebra\n",
    "using NearestNeighbors\n",
    "using Rotations"
   ]
  },
  {
   "cell_type": "code",
   "execution_count": 17,
   "metadata": {},
   "outputs": [
    {
     "data": {
      "text/plain": [
       "get_interface_diagram_as_numpy_false (generic function with 1 method)"
      ]
     },
     "execution_count": 17,
     "metadata": {},
     "output_type": "execute_result"
    }
   ],
   "source": [
    "function get_interface_diagram(points, n_atoms_per_mol)\n",
    "    py\"\"\"\n",
    "    import oineus as oin\n",
    "    import numpy as np\n",
    "    import torch\n",
    "    import diode\n",
    "\n",
    "    def get_interface_diagram(points, n_atoms_per_mol):\n",
    "        points = np.asarray(points)\n",
    "        simplices = diode.fill_alpha_shapes(points)\n",
    "        fil = oin.Filtration_double([oin.Simplex_double(s[0], s[1]) for s in simplices])\n",
    "\n",
    "        def is_multi(sigma):\n",
    "            has_a = has_b = False\n",
    "            for v in sigma.vertices:\n",
    "                if v < n_atoms_per_mol:\n",
    "                    has_a = True\n",
    "                else:\n",
    "                    has_b = True\n",
    "            return has_a and has_b\n",
    "\n",
    "        fil = fil.subfiltration(is_multi)\n",
    "        # second argument: True for cohomology, False for homology (incorrect for subfiltration)\n",
    "        dcmp = oin.Decomposition(fil, True)\n",
    "        params = oin.ReductionParams()\n",
    "        params.clearing_opt = False\n",
    "        dcmp.reduce(params)\n",
    "        dgm = dcmp.diagram(fil, include_inf_points=False)\n",
    "        return dgm\n",
    "    \"\"\"\n",
    "    py\"get_interface_diagram\"(points, n_atoms_per_mol)\n",
    "end\n",
    "\n",
    "function get_interface_diagram_as_numpy_false(points, n_atoms_per_mol)\n",
    "    py\"\"\"\n",
    "    import oineus as oin\n",
    "    import numpy as np\n",
    "    import torch\n",
    "    import diode\n",
    "\n",
    "    def get_interface_diagram(points, n_atoms_per_mol):\n",
    "        points = np.asarray(points)\n",
    "        simplices = diode.fill_alpha_shapes(points)\n",
    "        fil = oin.Filtration_double([oin.Simplex_double(s[0], s[1]) for s in simplices])\n",
    "\n",
    "        def is_multi(sigma):\n",
    "            has_a = has_b = False\n",
    "            for v in sigma.vertices:\n",
    "                if v < n_atoms_per_mol:\n",
    "                    has_a = True\n",
    "                else:\n",
    "                    has_b = True\n",
    "            return has_a and has_b\n",
    "\n",
    "        fil = fil.subfiltration(is_multi)\n",
    "        # second argument: True for cohomology, False for homology (incorrect for subfiltration)\n",
    "        dcmp = oin.Decomposition(fil, True)\n",
    "        params = oin.ReductionParams()\n",
    "        params.clearing_opt = False\n",
    "        dcmp.reduce(params)\n",
    "        dgm = dcmp.diagram(fil, as_numpy = False, include_inf_points=False)\n",
    "        return dgm\n",
    "    \"\"\"\n",
    "    py\"get_interface_diagram\"(points, n_atoms_per_mol)\n",
    "end"
   ]
  },
  {
   "cell_type": "code",
   "execution_count": 5,
   "metadata": {},
   "outputs": [],
   "source": [
    "@load \"../../Data/measure_paths/jld2s/6r7m/19.jld2\" dgms tps Es thetas realizations\n",
    "#tps = [get_total_persistence(dim_dgms, -0.1) for dim_dgms in dgms] #Recalculating due to weights!\n",
    "xs = [i for i in 1:length(dgms)];\n",
    "two_ps = [MorphoMol.Energies.get_persistence(dgm[2], -0.1) for dgm in dgms]\n",
    "three_ps = [MorphoMol.Energies.get_persistence(dgm[3], -0.1) for dgm in dgms]\n",
    "tps = [MorphoMol.Energies.get_total_persistence(dgm, -0.1) for dgm in dgms];"
   ]
  },
  {
   "cell_type": "code",
   "execution_count": 19,
   "metadata": {},
   "outputs": [
    {
     "data": {
      "text/plain": [
       "2412×3 Matrix{Float64}:\n",
       " 192.146  17.5403  108.954\n",
       " 192.159  18.7326  109.789\n",
       " 190.793  19.4012  109.816\n",
       " 189.944  19.1296  108.971\n",
       " 193.209  19.7276  109.296\n",
       " 192.832  20.2909  108.052\n",
       " 190.583  20.266   110.8\n",
       " 189.439  21.1632  110.81\n",
       " 189.815  22.463   110.111\n",
       " 190.96   22.9147  110.183\n",
       " 188.986  21.4729  112.237\n",
       " 188.275  20.3565  112.962\n",
       " 187.042  19.8928  112.526\n",
       "   ⋮               \n",
       " 142.614  27.2821   77.3803\n",
       " 142.155  28.1685   79.5785\n",
       " 143.658  28.174    77.1878\n",
       " 143.19   29.0494   79.3854\n",
       " 143.927  29.0492   78.1984\n",
       " 138.316  27.7224   77.2578\n",
       " 137.77   27.815    75.9117\n",
       " 138.885  28.0611   74.9054\n",
       " 139.608  29.0511   75.0005\n",
       " 136.726  28.9354   75.8019\n",
       " 135.58   28.6005   76.5924\n",
       " 136.294  29.1243   74.3553"
      ]
     },
     "execution_count": 19,
     "metadata": {},
     "output_type": "execute_result"
    }
   ],
   "source": [
    "points = mapreduce(permutedims, vcat, [realizations[1][1]; realizations[1][2]])"
   ]
  },
  {
   "cell_type": "code",
   "execution_count": 21,
   "metadata": {},
   "outputs": [
    {
     "data": {
      "text/plain": [
       "PyObject <oineus._oineus.Diagrams_double object at 0x2bc72d4b0>"
      ]
     },
     "execution_count": 21,
     "metadata": {},
     "output_type": "execute_result"
    }
   ],
   "source": [
    "get_interface_diagram(points, 1206)"
   ]
  }
 ],
 "metadata": {
  "kernelspec": {
   "display_name": "Julia Oineus 1.10.4",
   "language": "julia",
   "name": "julia-oineus-1.10"
  },
  "language_info": {
   "file_extension": ".jl",
   "mimetype": "application/julia",
   "name": "julia",
   "version": "1.10.4"
  }
 },
 "nbformat": 4,
 "nbformat_minor": 2
}
