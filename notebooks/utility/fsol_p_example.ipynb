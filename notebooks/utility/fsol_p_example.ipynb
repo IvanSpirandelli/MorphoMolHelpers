{
 "cells": [
  {
   "cell_type": "code",
   "execution_count": 26,
   "metadata": {},
   "outputs": [
    {
     "name": "stderr",
     "output_type": "stream",
     "text": [
      "\u001b[32m\u001b[1m  Activating\u001b[22m\u001b[39m new project at `~/Doktor/Code`\n"
     ]
    },
    {
     "ename": "LoadError",
     "evalue": "ArgumentError: Package MorphoMol not found in current path, maybe you meant `import/using .MorphoMol`.\n- Otherwise, run `import Pkg; Pkg.add(\"MorphoMol\")` to install the MorphoMol package.",
     "output_type": "error",
     "traceback": [
      "ArgumentError: Package MorphoMol not found in current path, maybe you meant `import/using .MorphoMol`.\n- Otherwise, run `import Pkg; Pkg.add(\"MorphoMol\")` to install the MorphoMol package.",
      "",
      "Stacktrace:",
      " [1] macro expansion",
      "   @ ./loading.jl:1772 [inlined]",
      " [2] macro expansion",
      "   @ ./lock.jl:267 [inlined]",
      " [3] __require(into::Module, mod::Symbol)",
      "   @ Base ./loading.jl:1753",
      " [4] #invoke_in_world#3",
      "   @ ./essentials.jl:926 [inlined]",
      " [5] invoke_in_world",
      "   @ ./essentials.jl:923 [inlined]",
      " [6] require(into::Module, mod::Symbol)",
      "   @ Base ./loading.jl:1746"
     ]
    }
   ],
   "source": [
    "import Pkg; \n",
    "\n",
    "cd(joinpath(@__DIR__, \"../../\"))\n",
    "Pkg.activate(\"Project.toml\")\n",
    "\n",
    "using MorphoMol\n",
    "using PyCall\n",
    "using JLD2\n",
    "using LinearAlgebra\n",
    "using Rotations\n",
    "using GLMakie"
   ]
  },
  {
   "cell_type": "code",
   "execution_count": 27,
   "metadata": {},
   "outputs": [
    {
     "data": {
      "text/plain": [
       "\"/Users/ivanspirandelli/Doktor/Code/Notebooks/oineus_venv/bin/python3\""
      ]
     },
     "execution_count": 27,
     "metadata": {},
     "output_type": "execute_result"
    }
   ],
   "source": [
    "pyimport(\"sys\").executable"
   ]
  },
  {
   "cell_type": "code",
   "execution_count": 28,
   "metadata": {},
   "outputs": [
    {
     "data": {
      "text/plain": [
       "get_coboundary_diagram (generic function with 1 method)"
      ]
     },
     "execution_count": 28,
     "metadata": {},
     "output_type": "execute_result"
    }
   ],
   "source": [
    "py\"\"\"\n",
    "import oineus as oin\n",
    "import numpy as np\n",
    "import torch\n",
    "import diode\n",
    "\n",
    "def get_coboundary_diagram(points, n_atoms_per_mol):\n",
    "    points = np.asarray(points)\n",
    "    simplices = diode.fill_alpha_shapes(points)\n",
    "    fil = oin.Filtration_double([oin.Simplex_double(s[0], s[1]) for s in simplices])\n",
    "\n",
    "    def is_multi(sigma):\n",
    "        has_a = has_b = False\n",
    "        for v in sigma.vertices:\n",
    "            if v < n_atoms_per_mol:\n",
    "                has_a = True\n",
    "            else:\n",
    "                has_b = True\n",
    "        return has_a and has_b\n",
    "    fil = fil.subfiltration(is_multi)\n",
    "    # second argument: True for cohomology, False for homology (incorrect for subfiltration)\n",
    "    dcmp = oin.Decomposition(fil, True)\n",
    "    params = oin.ReductionParams()\n",
    "    params.clearing_opt = False\n",
    "    dcmp.reduce(params)\n",
    "    dgm = dcmp.diagram(fil, include_inf_points=False)\n",
    "    return dgm\n",
    "\"\"\"\n",
    "\n",
    "function get_coboundary_diagram(points::Vector{Vector{Float64}}, n_atoms_per_mol::Int)\n",
    "    py\"get_coboundary_diagram\"(points, n_atoms_per_mol) \n",
    "end"
   ]
  },
  {
   "cell_type": "code",
   "execution_count": 29,
   "metadata": {},
   "outputs": [
    {
     "data": {
      "text/plain": [
       "solvation_free_energy_and_measures_in_bounds (generic function with 1 method)"
      ]
     },
     "execution_count": 29,
     "metadata": {},
     "output_type": "execute_result"
    }
   ],
   "source": [
    "perturb_all(x, Σ) = x .+ (randn(length(x)) .* Σ)\n",
    "\n",
    "function perturb_single_randomly_chosen(x, σ_r, σ_t)\n",
    "    x_cand = deepcopy(x)\n",
    "    i  = rand(0:(length(x)÷6)-1)\n",
    "    x_cand[(i*6)+1:(i*6)+6] = x_cand[(i*6)+1:(i*6)+6] .+ randn(6) .* [σ_r, σ_r, σ_r, σ_t, σ_t, σ_t]\n",
    "    x_cand\n",
    "end\n",
    "\n",
    "function solvation_free_energy_and_measures_in_bounds(x::Vector{Float64}, template_mol::Matrix{Float64}, radii::Vector{Float64}, rs::Float64, prefactors::AbstractVector, overlap_jump::Float64, overlap_slope::Float64, persistence_weight::Float64, bounds::Float64, delaunay_eps::Float64)\n",
    "    if any(0.0 >= e || e >= bounds for e in x[4:6:end]) || any(0.0 >= e || e >= bounds for e in x[5:6:end]) || any(0.0 >= e || e >= bounds for e in x[6:6:end])\n",
    "        return Inf, [Inf, Inf, Inf, Inf, Inf]\n",
    "    end\n",
    "    n_mol = length(x) ÷ 6\n",
    "    n_atoms_per_mol = size(template_mol)[2]\n",
    "    flat_realization = MorphoMol.Utilities.get_flat_realization(x, template_mol)\n",
    "    cdgms = get_coboundary_diagram(Vector{Vector{Float64}}(eachcol(reshape(flat_realization, (3, Int(length(flat_realization) / 3))))), n_atoms_per_mol)\n",
    "    cdgms = [cdgms[1], cdgms[2], cdgms[3], cdgms[4]]\n",
    "    cp2, cp3 = sum(cdgms[2][:,2] - cdgms[2][:,1]), sum(cdgms[3][:,2] - cdgms[3][:,1])\n",
    "    measures = MorphoMol.Energies.get_geometric_measures_and_overlap_value(flat_realization, n_atoms_per_mol, radii, rs, overlap_jump, overlap_slope, delaunay_eps)\n",
    "    measures = [measures; [cp2, cp3]]\n",
    "    # TODO: Slightly irritating that we have to set the prefactor for persistence here, while the prefactor for overlap penalty is overlap_slope and passed to measure calc\n",
    "    sum(measures .* [prefactors; [1.0, persistence_weight, persistence_weight]]), Dict(\"Vs\" => measures[1], \"As\" => measures[2], \"Cs\" => measures[3], \"Xs\" => measures[4], \"OLs\" => measures[5], \"CDGMs\"  => cdgms, \"CP2s\" => cp2, \"CP3s\" => cp3)\n",
    "end"
   ]
  },
  {
   "cell_type": "code",
   "execution_count": 30,
   "metadata": {},
   "outputs": [],
   "source": [
    "simulation_time_minutes = 60.0\n",
    "template_file = \"../../Data/jld2/2_6r7m_init/6r7m_protor_20.jld2\"\n",
    "\n",
    "template_mol = MorphoMol.Utilities.TMV_TEMPLATES[\"6r7m\"][1]\n",
    "template_radii = MorphoMol.Utilities.TMV_TEMPLATES[\"6r7m\"][2]\n",
    "x_init = MorphoMol.Utilities.get_initial_state(2, 100.0)\n",
    "\n",
    "T = 2.0\n",
    "β = 1.0 / T\n",
    "\n",
    "rs = 1.4\n",
    "η = 0.3665\n",
    "pf = MorphoMol.Energies.get_prefactors(rs, η)\n",
    "overlap_slope = 0.85\n",
    "persistence_weight = -0.1\n",
    "bnds = 150.0\n",
    "delaunay_eps = 1000.0\n",
    "\n",
    "σ_r = 0.15\n",
    "σ_t = 1.25\n",
    "\n",
    "n_atoms_per_mol = length(template_mol) ÷ 3\n",
    "n_mol = length(x_init) ÷ 6\n",
    "template_mol = reshape(template_mol,(3,n_atoms_per_mol))\n",
    "radii = vcat([template_radii for i in 1:n_mol]...);\n",
    "\n",
    "β = 1.0 / T\n",
    "pf = MorphoMol.Energies.get_prefactors(rs, η)\n",
    "Σ = vcat([[σ_r, σ_r, σ_r, σ_t, σ_t, σ_t] for _ in 1:n_mol]...)\n",
    "\n",
    "energy(x) = solvation_free_energy_and_measures_in_bounds(x, template_mol, radii, rs, pf, 0.0, overlap_slope, persistence_weight, bnds, delaunay_eps)\n",
    "perturbation(x) = perturb_single_randomly_chosen(x, σ_r, σ_t)\n",
    "#perturbation(x) = perturb_all(x, Σ)\n",
    "\n",
    "rwm = MorphoMol.Algorithms.RandomWalkMetropolis(energy, perturbation, β)\n",
    "\n",
    "input = MorphoMol.Algorithms.MorphometricSimulationInput(\n",
    "    template_mol,\n",
    "    template_radii,\n",
    "    n_mol,\n",
    "    σ_r,\n",
    "    σ_t,\n",
    "    rs,\n",
    "    η,\n",
    "    pf,\n",
    "    0.0,\n",
    "    overlap_slope,\n",
    "    T,\n",
    "    0.0,\n",
    "    0\n",
    ")\n",
    "\n",
    "energy_measures = Dict(\n",
    "    \"Es\" => Vector{Float64}([]), \n",
    "    \"Vs\" => Vector{Float64}([]), \n",
    "    \"As\" => Vector{Float64}([]), \n",
    "    \"Cs\" => Vector{Float64}([]), \n",
    "    \"Xs\" => Vector{Float64}([]),\n",
    "    \"OLs\" => Vector{Float64}([]),\n",
    "    \"CDGMs\" => Vector{Any}([]),\n",
    "    #\"DGM3s\" => Vector{Matrix{Float64}}([]),\n",
    "    \"CP2s\" => Vector{Float64}([]),\n",
    "    \"CP3s\" => Vector{Float64}([])\n",
    "    )\n",
    "\n",
    "algo_measures = Dict(\n",
    "    \"αs\" => Vector{Float32}([])\n",
    ")\n",
    "\n",
    "output = MorphoMol.Algorithms.SimulationOutput(\n",
    "    Vector{Vector{Float64}}([]),\n",
    "    energy_measures,\n",
    "    algo_measures\n",
    ")\n",
    "\n",
    "MorphoMol.Algorithms.simulate!(rwm, output, deepcopy(x_init), simulation_time_minutes);\n",
    "\n",
    "output_directory = \"assets/output/persistence_testerino/\"\n",
    "name = \"a\"\n",
    "mkpath(output_directory)\n",
    "@save \"$(output_directory)/$(name).jld2\" input output"
   ]
  },
  {
   "cell_type": "code",
   "execution_count": 31,
   "metadata": {},
   "outputs": [
    {
     "data": {
      "text/plain": [
       "2-element Vector{Symbol}:\n",
       " :input\n",
       " :output"
      ]
     },
     "execution_count": 31,
     "metadata": {},
     "output_type": "execute_result"
    }
   ],
   "source": [
    "@load \"assets/output/persistence_testerino/a.jld2\" input output"
   ]
  },
  {
   "cell_type": "code",
   "execution_count": 32,
   "metadata": {},
   "outputs": [],
   "source": [
    "Es = output.energy_measures[\"Es\"]\n",
    "xs = [i for i in 1:length(Es)]\n",
    "Vs = output.energy_measures[\"Vs\"]\n",
    "As = output.energy_measures[\"As\"]\n",
    "Cs = output.energy_measures[\"Cs\"]\n",
    "Xs = output.energy_measures[\"Xs\"]\n",
    "OLs = output.energy_measures[\"OLs\"]\n",
    "CDGMs = output.energy_measures[\"CDGMs\"]\n",
    "cp2s = output.energy_measures[\"CP2s\"]\n",
    "cp3s = output.energy_measures[\"CP3s\"]\n",
    "exp_template_centers = MorphoMol.Utilities.TWOTMVSU_EXPERIMENTAL_ASSEMBLY[\"6r7m\"][\"template_mol\"]\n",
    "exp_state = MorphoMol.Utilities.TWOTMVSU_EXPERIMENTAL_ASSEMBLY[\"6r7m\"][\"state\"]\n",
    "thetas = [MorphoMol.Utilities.average_offset_distance(exp_template_centers, input.template_mol, exp_state, state) for state in output.states]\n",
    "cdgms2 = [cdgm[2] for cdgm in CDGMs]\n",
    "cdgms3 = [cdgm[3] for cdgm in CDGMs]\n",
    "realizations = [MorphoMol.Utilities.get_matrix_realization(state, input.template_mol) for state in output.states];"
   ]
  },
  {
   "cell_type": "code",
   "execution_count": 33,
   "metadata": {},
   "outputs": [
    {
     "data": {
      "text/plain": [
       "211×2 Matrix{Float64}:\n",
       "  1.50114e5   1.68689e10\n",
       " 22.1971     22.223\n",
       " 18.5811     18.7794\n",
       " 16.9805     17.0405\n",
       " 16.9456     17.1991\n",
       " 16.9067     16.9173\n",
       " 16.7531     16.755\n",
       " 16.6364     16.756\n",
       " 16.3911     16.3942\n",
       " 16.2275     16.259\n",
       " 15.5685     15.6485\n",
       " 15.5212     15.6182\n",
       " 15.2076     15.2091\n",
       "  ⋮          \n",
       "  1.90714     2.05394\n",
       "  1.90277     1.9039\n",
       "  1.80037     1.85129\n",
       "  1.79086     1.81507\n",
       "  1.76955     1.77064\n",
       "  1.68765     1.70697\n",
       "  1.04889     1.05111\n",
       "  1.04629     1.04798\n",
       "  0.974799    1.04958\n",
       "  0.964883    0.964952\n",
       "  0.943444    0.958583\n",
       "  0.784711    0.787419"
      ]
     },
     "execution_count": 33,
     "metadata": {},
     "output_type": "execute_result"
    }
   ],
   "source": [
    "cdgms3[end-1]"
   ]
  },
  {
   "cell_type": "code",
   "execution_count": 34,
   "metadata": {},
   "outputs": [
    {
     "data": {
      "text/plain": [
       "GLMakie.Screen(...)"
      ]
     },
     "execution_count": 34,
     "metadata": {},
     "output_type": "execute_result"
    }
   ],
   "source": [
    "f = Figure(fontsize = 7)\n",
    "pd_ax_a = Axis(f[1, 1], title = \"Persistence codim = 2\")\n",
    "pd_ax_b = Axis(f[1, 2], title = \"Persistence codim = 3\")\n",
    "conf_ax = Axis3(f[1, 3])\n",
    "tp_ax = Axis(f[2, 1], title = \"Total Persistence\")\n",
    "theta_ax = Axis(f[2, 2], title = L\"\\Theta\")\n",
    "fsol_ax = Axis(f[2, 3], title = L\"F_{sol}\")\n",
    "\n",
    "sl_i = Slider(f[3, 1:3], range = 1:length(Es), startvalue = 1)\n",
    "\n",
    "x = sl_i.value\n",
    "tps = persistence_weight * (cp2s + cp3s)\n",
    "tp_mark = @lift(Point2f($x, $@lift(tps[$x])))\n",
    "theta_mark = @lift(Point2f($x, $@lift(thetas[$x])))\n",
    "fsol_mark = @lift(Point2f($x, $@lift(Es[$x])))\n",
    "\n",
    "dgm_points_2 = @lift([Point2f(cdgms2[$x][i,1], cdgms2[$x][i,2]) for i in 1:size(cdgms2[$x])[1]])\n",
    "dgm_points_3 = @lift([Point2f(cdgms3[$x][i,1], cdgms3[$x][i,2]) for i in 1:size(cdgms3[$x])[1]])\n",
    "\n",
    "c1_points = @lift([Point3f(realizations[$x][1][1,i], realizations[$x][1][2,i], realizations[$x][1][3,i]) for i in 1:size(realizations[$x][1])[2]])\n",
    "c2_points = @lift([Point3f(realizations[$x][2][1,i], realizations[$x][2][2,i], realizations[$x][2][3,i]) for i in 1:size(realizations[$x][2])[2]])\n",
    "\n",
    "ms = 5\n",
    "scatter!(pd_ax_a, dgm_points_2, color = :orange, markersize = ms)\n",
    "scatter!(pd_ax_b, dgm_points_3, color = :green, markersize = ms)\n",
    "\n",
    "scatter!(tp_ax, xs, tps, color=:red, markersize = ms)\n",
    "scatter!(tp_ax, tp_mark, color = :black, markersize = 10)\n",
    "\n",
    "scatter!(conf_ax, c1_points, markersize = 15)\n",
    "scatter!(conf_ax, c2_points, markersize = 15)\n",
    "\n",
    "scatter!(theta_ax, xs, thetas, color=:magenta, markersize = ms)\n",
    "scatter!(theta_ax, theta_mark, color = :black, markersize = 10)\n",
    "\n",
    "scatter!(fsol_ax, xs, Es, color=:orange, markersize = ms)\n",
    "scatter!(fsol_ax, fsol_mark, color = :black, markersize = 10)\n",
    "\n",
    "display(f)\n"
   ]
  },
  {
   "cell_type": "code",
   "execution_count": 21,
   "metadata": {},
   "outputs": [],
   "source": [
    "rm(\"assets/output/persistence_testerino/polys/\", recursive = true)\n",
    "mkpath(\"assets/output/persistence_testerino/polys/\")\n",
    "radii = [input.template_radii; input.template_radii]\n",
    "for (i, state) in enumerate(output.states)\n",
    "    MorphoMol.Utilities.state_to_poly(MorphoMol.Utilities.get_flat_realization(state, input.template_mol), radii, \"assets/output/persistence_testerino/polys/$(i)\", input.number_of_molecules, length(input.template_radii))\n",
    "end"
   ]
  }
 ],
 "metadata": {
  "kernelspec": {
   "display_name": "Julia Oineus 1.10.4",
   "language": "julia",
   "name": "julia-oineus-1.10"
  },
  "language_info": {
   "file_extension": ".jl",
   "mimetype": "application/julia",
   "name": "julia",
   "version": "1.10.4"
  }
 },
 "nbformat": 4,
 "nbformat_minor": 2
}
