{
 "cells": [
  {
   "cell_type": "code",
   "execution_count": 5,
   "metadata": {},
   "outputs": [],
   "source": [
    "import Pkg; \n",
    "\n",
    "if split(pwd(),\"/\")[end] == \"utility\"\n",
    "    cd(joinpath(@__DIR__, \"../../../MorphoMolMonteCarlo/\"))\n",
    "    Pkg.activate(\"Project.toml\")\n",
    "end\n",
    "\n",
    "using MorphoMol\n",
    "using StaticArrays\n",
    "using Rotations\n",
    "using Distances\n",
    "using JLD2\n",
    "\n",
    "if split(pwd(), \"/\")[end] == \"MorphoMolMonteCarlo\"\n",
    "    cd(joinpath(@__DIR__, \"../MMMCNotebooks/\"))\n",
    "end"
   ]
  },
  {
   "cell_type": "code",
   "execution_count": 6,
   "metadata": {},
   "outputs": [],
   "source": [
    "#folder = \"assets/hpc_out/5_1stm_oj_0_0_os_0_85/\"\n",
    "# folder = \"assets/hpc_out/1stm_hotstart_oj_0_0_os_0_85/\"\n",
    "# folder = \"assets/hpc_out/\"\n",
    "# folder = \"assets/hpc_out/2_6r7m_oj_0_0_os_0_85/\"\n",
    "# folder = \"assets/hpc_out/3_6r7m_assembled_oj_0_0_os_0_85/\"\n",
    "# folder = \"assets/hpc_out/3_6r7m_stacked_oj_0_0_os_0_85/\"\n",
    "folder = \"assets/hpc_out/2_6r7m_touching_oj_0_0_os_0_85/\"\n",
    "#folder = \"assets/hpc_out/3_6r7m_touching_oj_0_0_os_0_85/\"\n",
    "\n",
    "id_index = 4\n",
    "max = 1\n",
    "for file in readdir(folder)\n",
    "    if split(file, \".\")[end] == \"jld2\"\n",
    "        max = max < parse(Int, split(file, \"_\")[id_index]) ? parse(Int, split(file, \"_\")[id_index]) : max\n",
    "    end\n",
    "end\n",
    "\n",
    "evaluation_strings = [\"\" for _ in 1:max]\n",
    "for file in readdir(folder)\n",
    "    if split(file, \".\")[end] == \"jld2\"\n",
    "        @load \"$folder$file\" in_out_data\n",
    "        id = parse(Int, split(file, \"_\")[id_index])\n",
    "        string = \"$(id): $(in_out_data.input.T) | $(in_out_data.input.ε) | $(in_out_data.output.αs[end]) | $(in_out_data.output.Es[1]), $(minimum(in_out_data.output.Es)), $(in_out_data.output.Es[end])\"\n",
    "        evaluation_strings[id] = string\n",
    "    end\n",
    "end"
   ]
  },
  {
   "cell_type": "code",
   "execution_count": 7,
   "metadata": {},
   "outputs": [
    {
     "name": "stdout",
     "output_type": "stream",
     "text": [
      "\n",
      "2: 1.4 | 0.0025 | 0.73074174 | 8185.217724572172, 8146.669170366536, 8172.647680126155\n",
      "3: 1.4 | 0.0025 | 0.64113855 | 8185.217724572172, 8145.6736111266955, 8169.263505874924\n",
      "4: 1.4 | 0.0025 | 0.71477777 | 8185.217724572172, 8149.656974401895, 8175.14234866986\n",
      "5: 1.4 | 0.0025 | 0.61534 | 8185.217724572172, 8144.129582680489, 8173.616511736799\n",
      "6: 1.4 | 0.0025 | 0.6908049 | 8185.217724572172, 8154.273221541435, 8162.039424151942\n",
      "7: 1.4 | 0.0025 | 0.6860021 | 8185.217724572172, 8155.077031646582, 8164.412891627261\n",
      "8: 1.4 | 0.0025 | 0.75128245 | 8185.217724572172, 8155.349172211417, 8168.930235461924\n",
      "9: 1.4 | 0.0025 | 0.68417215 | 8185.217724572172, 8145.784208045465, 8152.49710711281\n",
      "10: 1.4 | 0.0025 | 0.69009715 | 8185.217724572172, 8150.584806357903, 8165.977022123606\n",
      "11: 1.4 | 0.0025 | 0.66358453 | 8185.217724572172, 8151.848196398915, 8166.884972164549\n",
      "12: 1.4 | 0.0025 | 0.6812996 | 8185.217724572172, 8151.866396095936, 8178.157969564964\n",
      "\n",
      "14: 1.4 | 0.0025 | 0.66626656 | 8185.217724572172, 8155.864327907559, 8168.250788954952\n",
      "15: 1.4 | 0.0025 | 0.73038125 | 8185.217724572172, 8150.669068189094, 8177.610844712632\n",
      "16: 1.4 | 0.0025 | 0.6580001 | 8185.217724572172, 8144.67714966095, 8163.966891700152\n",
      "17: 1.4 | 0.0025 | 0.68958294 | 8185.217724572172, 8151.113506509136, 8175.7210152855305\n",
      "18: 1.4 | 0.0025 | 0.6569229 | 8185.217724572172, 8154.805897568211, 8174.717274998657\n",
      "19: 1.4 | 0.0025 | 0.64345425 | 8185.217724572172, 8140.7863130770165, 8168.724303222215\n",
      "20: 1.4 | 0.0025 | 0.68167096 | 8185.217724572172, 8149.453243501765, 8169.544980715206\n",
      "21: 1.4 | 0.0025 | 0.6226959 | 8185.217724572172, 8148.163207055225, 8173.014246959452\n",
      "22: 1.4 | 0.0025 | 0.70181465 | 8185.217724572172, 8149.464326152301, 8179.490687491769\n",
      "23: 1.4 | 0.0025 | 0.7292815 | 8185.217724572172, 8154.173009125033, 8170.702760445655\n",
      "24: 1.4 | 0.0025 | 0.67866004 | 8185.217724572172, 8152.50412272284, 8173.58945713162\n",
      "25: 1.4 | 0.0025 | 0.72732085 | 8185.217724572172, 8150.446671615644, 8167.352347137173\n",
      "26: 1.4 | 0.0025 | 0.6738169 | 8185.217724572172, 8149.335769043599, 8174.124148086142\n",
      "27: 1.4 | 0.0025 | 0.67699736 | 8185.217724572172, 8151.298003977404, 8172.659336873178\n",
      "28: 1.4 | 0.0025 | 0.72479653 | 8185.217724572172, 8143.984352935823, 8161.149673551034\n",
      "29: 1.4 | 0.0025 | 0.68191826 | 8185.217724572172, 8150.680433261689, 8170.867170082234\n",
      "30: 1.4 | 0.0025 | 0.65687215 | 8185.217724572172, 8142.290186830097, 8171.394951005221\n",
      "31: 1.4 | 0.0025 | 0.66239005 | 8185.217724572172, 8148.422464909908, 8172.640548346227\n",
      "32: 1.4 | 0.0025 | 0.6287942 | 8185.217724572172, 8146.57208105836, 8164.857694308194\n",
      "33: 1.4 | 0.0025 | 0.692981 | 8185.217724572172, 8142.838342103988, 8173.3025492278875\n",
      "34: 1.4 | 0.0025 | 0.6350377 | 8185.217724572172, 8146.436872747242, 8165.623887742896\n",
      "\n",
      "36: 1.4 | 0.0025 | 0.6275456 | 8185.217724572172, 8146.8182130750465, 8174.380126273687\n",
      "37: 1.4 | 0.0025 | 0.65800375 | 8185.217724572172, 8147.524710802788, 8161.736867922832\n",
      "38: 1.4 | 0.0025 | 0.56999147 | 8185.217724572172, 8149.2551182007965, 8161.409438622279\n",
      "39: 1.4 | 0.0025 | 0.69515467 | 8185.217724572172, 8143.3360007878755, 8161.5284796123915\n",
      "40: 1.4 | 0.0025 | 0.6671851 | 8185.217724572172, 8149.6071126842, 8170.695944019697\n",
      "41: 1.4 | 0.0025 | 0.5943029 | 8185.217724572172, 8151.4880300101095, 8173.57830879204\n",
      "42: 1.4 | 0.0025 | 0.68151045 | 8185.217724572172, 8152.229452309234, 8177.924317902934\n",
      "43: 1.4 | 0.0025 | 0.58367026 | 8185.217724572172, 8151.910867937727, 8176.035973269468\n",
      "44: 1.4 | 0.0025 | 0.702977 | 8185.217724572172, 8148.507622420804, 8163.039404035901\n",
      "45: 1.4 | 0.0025 | 0.6591193 | 8185.217724572172, 8148.11033855886, 8163.116602596747\n",
      "46: 1.4 | 0.0025 | 0.680422 | 8185.217724572172, 8141.661428745106, 8171.593737882928\n",
      "47: 1.4 | 0.0025 | 0.6867044 | 8185.217724572172, 8147.2489755307715, 8182.2800037711395\n",
      "48: 1.4 | 0.0025 | 0.7679018 | 8185.217724572172, 8154.386183442982, 8171.374010379978\n",
      "49: 1.4 | 0.0025 | 0.714399 | 8185.217724572172, 8145.149224937898, 8162.339361801175\n",
      "50: 1.4 | 0.0025 | 0.65535855 | 8185.217724572172, 8153.0465281005745, 8176.8528195171175\n"
     ]
    }
   ],
   "source": [
    "for elem in evaluation_strings\n",
    "    println(elem)\n",
    "end"
   ]
  },
  {
   "cell_type": "code",
   "execution_count": 8,
   "metadata": {},
   "outputs": [
    {
     "name": "stdout",
     "output_type": "stream",
     "text": [
      "JLD2.InvalidDataException(\"Did not find a Superblock.\")\n",
      "JLD2.InvalidDataException(\"Did not find a Superblock.\")\n",
      "JLD2.InvalidDataException(\"Did not find a Superblock.\")\n",
      "JLD2.InvalidDataException(\"Did not find a Superblock.\")\n",
      "JLD2.InvalidDataException(\"Did not find a Superblock.\")\n",
      "JLD2.InvalidDataException(\"Did not find a Superblock.\")\n",
      "JLD2.InvalidDataException(\"Did not find a Superblock.\")\n",
      "JLD2.InvalidDataException(\"Did not find a Superblock.\")\n",
      "JLD2.InvalidDataException(\"Did not find a Superblock.\")\n",
      "JLD2.InvalidDataException(\"Did not find a Superblock.\")\n",
      "JLD2.InvalidDataException(\"Did not find a Superblock.\")\n",
      "JLD2.InvalidDataException(\"Did not find a Superblock.\")\n",
      "JLD2.InvalidDataException(\"Did not find a Superblock.\")\n",
      "JLD2.InvalidDataException(\"Did not find a Superblock.\")\n",
      "JLD2.InvalidDataException(\"Did not find a Superblock.\")\n",
      "JLD2.InvalidDataException(\"Did not find a Superblock.\")\n",
      "JLD2.InvalidDataException(\"Did not find a Superblock.\")\n",
      "JLD2.InvalidDataException(\"Did not find a Superblock.\")\n",
      "JLD2.InvalidDataException(\"Did not find a Superblock.\")\n",
      "JLD2.InvalidDataException(\"Did not find a Superblock.\")\n",
      "JLD2.InvalidDataException(\"Did not find a Superblock.\")\n",
      "JLD2.InvalidDataException(\"Did not find a Superblock.\")\n",
      "JLD2.InvalidDataException(\"Did not find a Superblock.\")\n",
      "JLD2.InvalidDataException(\"Did not find a Superblock.\")\n",
      "JLD2.InvalidDataException(\"Did not find a Superblock.\")\n",
      "JLD2.InvalidDataException(\"Did not find a Superblock.\")\n",
      "JLD2.InvalidDataException(\"Did not find a Superblock.\")\n",
      "JLD2.InvalidDataException(\"Did not find a Superblock.\")\n",
      "JLD2.InvalidDataException(\"Did not find a Superblock.\")\n",
      "JLD2.InvalidDataException(\"Did not find a Superblock.\")\n",
      "JLD2.InvalidDataException(\"Did not find a Superblock.\")\n",
      "JLD2.InvalidDataException(\"Did not find a Superblock.\")\n",
      "JLD2.InvalidDataException(\"Did not find a Superblock.\")\n",
      "JLD2.InvalidDataException(\"Did not find a Superblock.\")\n",
      "JLD2.InvalidDataException(\"Did not find a Superblock.\")\n",
      "JLD2.InvalidDataException(\"Did not find a Superblock.\")\n",
      "JLD2.InvalidDataException(\"Did not find a Superblock.\")\n",
      "JLD2.InvalidDataException(\"Did not find a Superblock.\")\n",
      "JLD2.InvalidDataException(\"Did not find a Superblock.\")\n",
      "JLD2.InvalidDataException(\"Did not find a Superblock.\")\n",
      "JLD2.InvalidDataException(\"Did not find a Superblock.\")\n",
      "JLD2.InvalidDataException(\"Did not find a Superblock.\")\n",
      "JLD2.InvalidDataException(\"Did not find a Superblock.\")\n",
      "JLD2.InvalidDataException(\"Did not find a Superblock.\")\n",
      "JLD2.InvalidDataException(\"Did not find a Superblock.\")\n",
      "JLD2.InvalidDataException(\"Did not find a Superblock.\")\n",
      "JLD2.InvalidDataException(\"Did not find a Superblock.\")\n"
     ]
    }
   ],
   "source": [
    "for file in readdir(folder)\n",
    "    try\n",
    "        @load \"$folder$file\" in_out_data\n",
    "        mindex = argmin(in_out_data.output.Es)\n",
    "        state = in_out_data.output.states[mindex]\n",
    "        id = parse(Int, split(file, \"_\")[id_index])\n",
    "        radii = collect(Base.Iterators.flatten([in_out_data.input.template_radii for _ in 1:in_out_data.input.number_of_molecules]))\n",
    "        MorphoMol.Utilities.state_to_poly(MorphoMol.Utilities.get_flat_realization(state, in_out_data.input.template_mol), radii, \"$(folder)$(id)\", in_out_data.input.number_of_molecules, length(in_out_data.input.template_radii))\n",
    "    catch e\n",
    "        println(e)\n",
    "        continue\n",
    "    end\n",
    "end"
   ]
  },
  {
   "cell_type": "markdown",
   "metadata": {},
   "source": [
    "# Print Single Assembly Path"
   ]
  },
  {
   "cell_type": "code",
   "execution_count": 6,
   "metadata": {},
   "outputs": [
    {
     "data": {
      "text/plain": [
       "1-element Vector{Symbol}:\n",
       " :in_out_data"
      ]
     },
     "execution_count": 6,
     "metadata": {},
     "output_type": "execute_result"
    }
   ],
   "source": [
    "@load \"assets/hpc_out/2_6r7m_touching_oj_0_0_os_0_85/2_6r7m_touching_13_protor_oj_0_0_os_0_85.jld2\" in_out_data"
   ]
  },
  {
   "cell_type": "code",
   "execution_count": 13,
   "metadata": {},
   "outputs": [],
   "source": [
    "mindex = argmin(in_out_data.output.Es)\n",
    "lower = 500\n",
    "upper = 100\n",
    "out_folder = \"assets/output/assembly_path/\"\n",
    "try\n",
    "    rm(out_folder, recursive=true)\n",
    "catch \n",
    "end\n",
    "mkdir(out_folder)\n",
    "radii = collect(Base.Iterators.flatten([in_out_data.input.template_radii for _ in 1:in_out_data.input.number_of_molecules]))\n",
    "for (i,j) in enumerate(mindex-lower:mindex+upper)\n",
    "    state = in_out_data.output.states[j]\n",
    "    MorphoMol.Utilities.state_to_poly(MorphoMol.Utilities.get_flat_realization(state, in_out_data.input.template_mol), radii, \"$(out_folder)$(i)\", in_out_data.input.number_of_molecules, length(in_out_data.input.template_radii))\n",
    "end\n"
   ]
  },
  {
   "cell_type": "markdown",
   "metadata": {},
   "source": [
    "# Compare to Experimental Structures"
   ]
  },
  {
   "cell_type": "code",
   "execution_count": 24,
   "metadata": {},
   "outputs": [
    {
     "data": {
      "text/plain": [
       "3×1206 Matrix{Float64}:\n",
       " -27.8796   -26.6674   -26.5597   …  -31.3903   -31.5191   -32.6934\n",
       "   9.063      9.54921    9.03875       8.50467    8.25724    9.091\n",
       "  -4.79258   -4.1493    -2.71995      -1.62113   -0.2168    -2.14403"
      ]
     },
     "execution_count": 24,
     "metadata": {},
     "output_type": "execute_result"
    }
   ],
   "source": [
    "@load \"assets/hpc_out/3_6r7m_assembled_oj_0_0_os_0_85/3_6r7m_assembled_47_protor_oj_0_0_os_0_85.jld2\" in_out_data\n",
    "state_sim = in_out_data.output.states[argmin(in_out_data.output.Es)]\n",
    "template_mol_sim = in_out_data.input.template_mol"
   ]
  },
  {
   "cell_type": "code",
   "execution_count": 33,
   "metadata": {},
   "outputs": [
    {
     "name": "stdout",
     "output_type": "stream",
     "text": [
      "1.2873006221221273, 18.550779293943858, 22.747256593704485\n",
      "14.19511216992349\n",
      "\n",
      "1.3774676242284738, 18.550779293943858, 22.656875406631716\n",
      "14.195040774934682\n",
      "\n",
      "1.2873006221221273, 1.3775764058075557, 2.8189008939530753\n",
      "1.8279259739609195\n",
      "\n",
      "18.550888075522934, 1.3775764058075557, 22.656875406631716\n",
      "14.195113295987403\n",
      "\n",
      "1.3774676242284738, 1.2874090345163622, 2.8189008939530753\n",
      "1.8279258508993037\n",
      "\n",
      "18.550888075522934, 1.2874090345163622, 22.747256593704485\n",
      "14.195184567914595\n",
      "\n"
     ]
    }
   ],
   "source": [
    "@load \"assets/hpc_out/3_6r7m_assembled_oj_0_0_os_0_85/3_6r7m_assembled_47_protor_oj_0_0_os_0_85.jld2\" in_out_data\n",
    "state_sim = in_out_data.output.states[argmin(in_out_data.output.Es)]\n",
    "template_mol_sim = in_out_data.input.template_mol\n",
    "\n",
    "template_mol_exp, _ = MorphoMol.Utilities.poly_to_state(\"assets/input/poly/6r7m_protor.poly\")\n",
    "template_mol_exp = reshape(template_mol_exp,(3,Int(length(template_mol_exp) / 3)))\n",
    "\n",
    "\n",
    "R1 = log(RotMatrix(@SMatrix[0.628642  0.777695  0.000000; -0.777695  0.628642  0.000000; 0.000000  0.000000  1.000000]))\n",
    "T1 = @SVector[-69.28043, 195.91352, -49.35000]\n",
    "\n",
    "R2 = log(RotMatrix(@SMatrix[0.874450  0.485115  0.000000; -0.485115  0.874450  0.000000; 0.000000  0.000000  1.000000]))\n",
    "T2 = @SVector[-61.30589, 104.11829, -47.94000]\n",
    "\n",
    "R3 = log(RotMatrix(@SMatrix[0.992567  0.121696  0.000000; -0.121696  0.992567  0.000000; 0.000000  0.000000  1.000000]))\n",
    "T3 = @SVector[-19.48193, 22.01644, -46.53000]\n",
    "\n",
    "state_exp_assembled = Vector{Float64}([])\n",
    "for (R,T) in [(R1, T1), (R2, T2), (R3, T3)]\n",
    "    state_exp_assembled = [state_exp_assembled; [R[3,2], R[1,3], R[2,1], T[1], T[2], T[3]]]\n",
    "end\n",
    "\n",
    "\n",
    "permutations = [[1, 2, 3], [1, 3, 2], [2, 1, 3], [2, 3, 1], [3,1,2], [3,2,1]]\n",
    "for perm in permutations\n",
    "    println(MorphoMol.Utilities.sum_of_permutation(template_mol_exp, template_mol_sim, state_exp_assembled, state_sim, [1, 2, 3], perm))\n",
    "    println()\n",
    "end"
   ]
  },
  {
   "cell_type": "code",
   "execution_count": 35,
   "metadata": {},
   "outputs": [
    {
     "name": "stdout",
     "output_type": "stream",
     "text": [
      "1.0801358636489278, 1.761615083090717, 2.5839573080281175\n",
      "1.8085694182559209\n",
      "\n",
      "3.9681361891428946, 1.761615083090717, 7.226195653808025\n",
      "4.318648975347212\n",
      "\n",
      "1.0801358636489278, 1.9392750832172398, 6.0393168036705065\n",
      "3.019575916845558\n",
      "\n",
      "5.427780645913811, 1.9392750832172398, 7.226195653808025\n",
      "4.864417127646359\n",
      "\n",
      "3.9681361891428946, 5.184605884136937, 6.0393168036705065\n",
      "5.064019625650112\n",
      "\n",
      "5.427780645913811, 5.184605884136937, 2.5839573080281175\n",
      "4.398781279359622\n",
      "\n"
     ]
    }
   ],
   "source": [
    "@load \"assets/hpc_out/3_6r7m_stacked_oj_0_0_os_0_85/3_6r7m_stacked_28_protor_oj_0_0_os_0_85.jld2\" in_out_data\n",
    "state_sim = in_out_data.output.states[argmin(in_out_data.output.Es)]\n",
    "template_mol_sim = in_out_data.input.template_mol\n",
    "\n",
    "template_mol_exp, _ = MorphoMol.Utilities.poly_to_state(\"assets/input/poly/6r7m_protor.poly\")\n",
    "template_mol_exp = reshape(template_mol_exp,(3,Int(length(template_mol_exp) / 3)))\n",
    "\n",
    "R1 = log(RotMatrix(@SMatrix[0.628642  0.777695  0.000000; -0.777695  0.628642  0.000000; 0.000000  0.000000  1.000000]))\n",
    "T1 = @SVector[-69.28043, 195.91352, -49.35000]\n",
    "\n",
    "R2 = log(RotMatrix(@SMatrix[0.874450  0.485115  0.000000; -0.485115  0.874450  0.000000; 0.000000  0.000000  1.000000]))\n",
    "T2 = @SVector[-61.30589, 104.11829, -47.94000]\n",
    "\n",
    "R3 = log(RotMatrix(@SMatrix[0.803441  0.595384  0.000000; -0.595384  0.803441  0.000000; 0.000000  0.000000  1.000000]))\n",
    "T3 = @SVector[-67.99970, 135.02619, -25.38000]\n",
    "\n",
    "\n",
    "state_exp_assembled = Vector{Float64}([])\n",
    "for (R,T) in [(R1, T1), (R2, T2), (R3, T3)]\n",
    "    state_exp_assembled = [state_exp_assembled; [R[3,2], R[1,3], R[2,1], T[1], T[2], T[3]]]\n",
    "end\n",
    "\n",
    "permutations = [[1, 2, 3], [1, 3, 2], [2, 1, 3], [2, 3, 1], [3,1,2], [3,2,1]]\n",
    "for perm in permutations\n",
    "    println(MorphoMol.Utilities.sum_of_permutation(template_mol_exp, template_mol_sim, state_exp_assembled, state_sim, [1, 2, 3], perm))\n",
    "    println()\n",
    "end"
   ]
  },
  {
   "cell_type": "code",
   "execution_count": 38,
   "metadata": {},
   "outputs": [
    {
     "data": {
      "text/plain": [
       "(84123.59f0, 20349.809f0, -5968.993f0, 188.49556f0)"
      ]
     },
     "execution_count": 38,
     "metadata": {},
     "output_type": "execute_result"
    }
   ],
   "source": [
    "@load \"assets/hpc_out/3_6r7m_assembled_oj_0_0_os_0_85/3_6r7m_assembled_47_protor_oj_0_0_os_0_85.jld2\" in_out_data\n",
    "mindex = argmin(in_out_data.output.Es)\n",
    "in_out_data.output.Vs[mindex], in_out_data.output.As[mindex], in_out_data.output.Ms[mindex], in_out_data.output.Xs[mindex]"
   ]
  },
  {
   "cell_type": "code",
   "execution_count": 36,
   "metadata": {},
   "outputs": [
    {
     "data": {
      "text/plain": [
       "(85262.81f0, 21122.312f0, -6398.94f0, 62.831852f0)"
      ]
     },
     "execution_count": 36,
     "metadata": {},
     "output_type": "execute_result"
    }
   ],
   "source": [
    "@load \"assets/hpc_out/3_6r7m_stacked_oj_0_0_os_0_85/3_6r7m_stacked_28_protor_oj_0_0_os_0_85.jld2\" in_out_data\n",
    "mindex = argmin(in_out_data.output.Es)\n",
    "in_out_data.output.Vs[mindex], in_out_data.output.As[mindex], in_out_data.output.Ms[mindex], in_out_data.output.Xs[mindex]"
   ]
  },
  {
   "cell_type": "markdown",
   "metadata": {},
   "source": [
    "# Dispersed State Energies"
   ]
  },
  {
   "cell_type": "code",
   "execution_count": 19,
   "metadata": {},
   "outputs": [
    {
     "name": "stdout",
     "output_type": "stream",
     "text": [
      "1ei7 8255.3356279267\n",
      "2tmv 8130.426867538925\n",
      "6r7m 8219.578304239454\n",
      "6sae 8185.217724310747\n",
      "6sag 8174.157936120334\n"
     ]
    }
   ],
   "source": [
    "folder = \"assets/input/poly/singles/\"\n",
    "for file in readdir(folder)\n",
    "    c,r = MorphoMol.Utilities.poly_to_state(\"$folder$file\")\n",
    "    E = MorphoMol.Energies.solvation_free_energy(\n",
    "        c, \n",
    "        length(r),\n",
    "        r,\n",
    "        1.4,\n",
    "        MorphoMol.Energies.get_prefactors(1.4, 0.3665),\n",
    "        0.0,\n",
    "        0.85\n",
    "        )\n",
    "    println(\"$(split(file, \"_\")[1]) \", 2*E)\n",
    "end"
   ]
  },
  {
   "cell_type": "code",
   "execution_count": null,
   "metadata": {},
   "outputs": [],
   "source": [
    "println(\"1EI7\")"
   ]
  }
 ],
 "metadata": {
  "kernelspec": {
   "display_name": "Julia 1.10.4",
   "language": "julia",
   "name": "julia-1.10"
  },
  "language_info": {
   "file_extension": ".jl",
   "mimetype": "application/julia",
   "name": "julia",
   "version": "1.10.4"
  },
  "orig_nbformat": 4
 },
 "nbformat": 4,
 "nbformat_minor": 2
}
