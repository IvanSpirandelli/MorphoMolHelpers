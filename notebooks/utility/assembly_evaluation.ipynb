{
 "cells": [
  {
   "cell_type": "code",
   "execution_count": 2,
   "metadata": {},
   "outputs": [
    {
     "name": "stderr",
     "output_type": "stream",
     "text": [
      "\u001b[32m\u001b[1m  Activating\u001b[22m\u001b[39m project at `~/Doktor/Code/MorphoMol/MorphoMolNotebooks`\n",
      "\u001b[36m\u001b[1m[ \u001b[22m\u001b[39m\u001b[36m\u001b[1mInfo: \u001b[22m\u001b[39mPrecompiling MorphoMol [85e20460-a9b2-48f6-9df6-e154e9748d83]\n"
     ]
    }
   ],
   "source": [
    "import Pkg; \n",
    "cd(joinpath(@__DIR__, \"../../\"))\n",
    "Pkg.activate(\"Project.toml\")\n",
    "\n",
    "using MorphoMol\n",
    "using StaticArrays\n",
    "using Rotations\n",
    "using Distances\n",
    "using JLD2"
   ]
  },
  {
   "cell_type": "code",
   "execution_count": 3,
   "metadata": {},
   "outputs": [
    {
     "data": {
      "text/plain": [
       "\"/Users/ivanspirandelli/Doktor/Code/MorphoMol/MorphoMolNotebooks\""
      ]
     },
     "execution_count": 3,
     "metadata": {},
     "output_type": "execute_result"
    }
   ],
   "source": [
    "pwd()"
   ]
  },
  {
   "cell_type": "code",
   "execution_count": 4,
   "metadata": {},
   "outputs": [
    {
     "ename": "LoadError",
     "evalue": "KeyError: key \"in_out_data\" not found",
     "output_type": "error",
     "traceback": [
      "KeyError: key \"in_out_data\" not found",
      "",
      "Stacktrace:",
      " [1] getindex(g::JLD2.Group{JLD2.JLDFile{JLD2.MmapIO}}, name::String)",
      "   @ JLD2 ~/.julia/packages/JLD2/9xHXH/src/groups.jl:96",
      " [2] read",
      "   @ ~/.julia/packages/JLD2/9xHXH/src/JLD2.jl:368 [inlined]",
      " [3] (::var\"#5#6\")(f::JLD2.JLDFile{JLD2.MmapIO})",
      "   @ Main ~/.julia/packages/JLD2/9xHXH/src/loadsave.jl:153",
      " [4] jldopen(f::Function, args::String; kws::@Kwargs{})",
      "   @ JLD2 ~/.julia/packages/JLD2/9xHXH/src/loadsave.jl:4",
      " [5] jldopen(f::Function, args::String)",
      "   @ JLD2 ~/.julia/packages/JLD2/9xHXH/src/loadsave.jl:1",
      " [6] macro expansion",
      "   @ ~/.julia/packages/JLD2/9xHXH/src/loadsave.jl:152 [inlined]",
      " [7] top-level scope",
      "   @ In[4]:16"
     ]
    }
   ],
   "source": [
    "folder = \"../../Data/hpc_out/2_6r7m_oj_0_0_os_0_85/\"\n",
    "folder = \"../../Data/hpc_out/rwm_wp_2_6r7m/\"\n",
    "\n",
    "id_index = 1\n",
    "max = 1\n",
    "for file in readdir(folder)\n",
    "    if split(file, \".\")[end] == \"jld2\"\n",
    "        max = max < parse(Int, split(file, \"_\")[id_index]) ? parse(Int, split(file, \"_\")[id_index]) : max\n",
    "    end\n",
    "end\n",
    "\n",
    "min_Es = [Inf for _ in 1:max]\n",
    "evaluation_strings = [\"\" for _ in 1:max]\n",
    "for file in readdir(folder)\n",
    "    if split(file, \".\")[end] == \"jld2\"\n",
    "        @load \"$folder$file\" in_out_data\n",
    "        id = parse(Int, split(file, \"_\")[id_index])\n",
    "        string = \"$(id): $(in_out_data.input.T) | $(in_out_data.input.ε) | $(in_out_data.output.αs[end]) | $(in_out_data.output.Es[1]), $(minimum(in_out_data.output.Es)), $(in_out_data.output.Es[end])\"\n",
    "        evaluation_strings[id] = string\n",
    "        min_Es[id] = minimum(in_out_data.output.Es)\n",
    "    end\n",
    "end"
   ]
  },
  {
   "cell_type": "code",
   "execution_count": 9,
   "metadata": {},
   "outputs": [
    {
     "data": {
      "text/plain": [
       "57"
      ]
     },
     "execution_count": 9,
     "metadata": {},
     "output_type": "execute_result"
    }
   ],
   "source": [
    "argmin(min_Es)"
   ]
  },
  {
   "cell_type": "code",
   "execution_count": 8,
   "metadata": {},
   "outputs": [
    {
     "name": "stdout",
     "output_type": "stream",
     "text": [
      "1: 2.0 | 0.0 | 0.055647623 | 8219.578304409264, 8167.725301025351, 8175.7986357888\n",
      "2: 2.0 | 0.0 | 0.0273336 | 8219.578304345747, 8164.513421792593, 8173.876727574058\n",
      "3: 2.0 | 0.0 | 0.03167717 | 8219.57830401968, 8168.826707196028, 8175.976690357623\n",
      "4: 2.0 | 0.0 | 0.03839247 | 8219.578304407985, 8157.620558777056, 8162.728408181958\n",
      "5: 2.0 | 0.0 | 0.007483615 | 8342.603229685159, 8168.496170583278, 8170.717095042941\n",
      "6: 2.0 | 0.0 | 0.0108670015 | 8219.578304128916, 8173.718714734241, 8181.717020263267\n",
      "7: 2.0 | 0.0 | 0.0068299286 | 8219.578303918304, 8172.882398886147, 8177.901304432319\n",
      "8: 2.0 | 0.0 | 0.019939596 | 8219.578303980428, 8150.112391187765, 8150.428475705565\n",
      "9: 2.0 | 0.0 | 0.013546041 | 8219.578303957402, 8162.317371740355, 8162.317371740355\n",
      "10: 2.0 | 0.0 | 0.009289576 | 8207.8099251459, 8157.643098217686, 8159.273390004637\n",
      "11: 2.0 | 0.0 | 0.014425842 | 8216.50130661928, 8169.778638136508, 8170.842245211545\n",
      "12: 2.0 | 0.0 | 0.05547243 | 8219.578303949487, 8164.394661938923, 8164.394661938923\n",
      "13: 2.0 | 0.0 | 0.07270128 | 8219.578304032446, 8168.690511135349, 8172.267786846769\n",
      "14: 2.0 | 0.0 | 0.038006186 | 8219.578304166915, 8159.165367396533, 8159.165367396533\n",
      "15: 2.0 | 0.0 | 0.0015514767 | 8953.820367168366, 8160.509905862564, 8166.0434743075875\n",
      "16: 2.0 | 0.0 | 0.027309671 | 8219.57830463194, 8164.3629962719815, 8166.722035929966\n",
      "17: 2.0 | 0.0 | 0.08325099 | 8219.57830428532, 8173.258655483985, 8186.277673662464\n",
      "18: 2.0 | 0.0 | 0.030520245 | 8219.57830449305, 8159.488216494082, 8175.047465069298\n",
      "19: 2.0 | 0.0 | 0.0058394275 | 8496.547017250798, 8166.936597287754, 8186.590770897971\n",
      "20: 2.0 | 0.0 | 0.023581106 | 8219.578303964883, 8164.596366321628, 8184.751800757334\n",
      "21: 2.0 | 0.0 | 0.059038017 | 8219.578304251912, 8169.757632224991, 8172.220919684882\n",
      "22: 2.0 | 0.0 | 0.0121512115 | 8219.578304393584, 8157.771658980227, 8170.771324970827\n",
      "23: 2.0 | 0.0 | 0.013923192 | 8219.578304153398, 8162.804907794239, 8163.728627538435\n",
      "24: 2.0 | 0.0 | 0.048202995 | 8260.998721531449, 8152.504097988769, 8154.949447688968\n",
      "25: 2.0 | 0.0 | 0.020034658 | 8219.578304149925, 8157.6286383445295, 8171.6183141288675\n",
      "26: 2.0 | 0.0 | 0.103102654 | 8219.578304575321, 8163.987692010683, 8165.428135647069\n",
      "27: 2.0 | 0.0 | 0.037241336 | 8219.578304431876, 8171.219424489782, 8182.430998249666\n",
      "28: 2.0 | 0.0 | 0.042134985 | 8219.578304422412, 8162.84153496384, 8164.677781960142\n",
      "29: 2.0 | 0.0 | 0.10610962 | 8219.578304385355, 8162.5881464360855, 8163.57981110636\n",
      "30: 2.0 | 0.0 | 0.038258404 | 8219.578304772718, 8159.027241225401, 8164.322338440142\n",
      "31: 2.0 | 0.0 | 0.021762503 | 8219.57830390955, 8167.4437606792735, 8173.242945626496\n",
      "32: 2.0 | 0.0 | 0.010286554 | 8219.578304657509, 8161.442021662787, 8164.491648261784\n",
      "33: 2.0 | 0.0 | 0.0051882574 | 8219.578304041695, 8165.023860777408, 8167.6509806657195\n",
      "34: 2.0 | 0.0 | 0.008107278 | 8219.578304248565, 8160.256198674617, 8169.953513913177\n",
      "35: 2.0 | 0.0 | 0.07150672 | 8219.578304232342, 8170.966257901972, 8176.333966923321\n",
      "36: 2.0 | 0.0 | 0.026955398 | 8219.578304223105, 8156.906577479526, 8158.297052939495\n",
      "37: 2.0 | 0.0 | 0.02939611 | 8219.578303852066, 8161.752035189395, 8177.676571416383\n",
      "38: 2.0 | 0.0 | 0.01427297 | 8219.578303857137, 8168.185349306295, 8182.283495057339\n",
      "39: 2.0 | 0.0 | 0.021514684 | 8219.578304490175, 8154.721807091819, 8161.592131506742\n",
      "40: 2.0 | 0.0 | 0.0023951468 | 8219.578304168048, 8159.144789527627, 8159.830343642049\n",
      "41: 2.0 | 0.0 | 0.004687872 | 8682.535355231506, 8166.39241532969, 8171.900219209921\n",
      "42: 2.0 | 0.0 | 0.02035479 | 8219.578304258263, 8170.703217961517, 8177.002856699735\n",
      "43: 2.0 | 0.0 | 0.00650994 | 8219.578304029965, 8162.287196191747, 8172.163085130828\n",
      "44: 2.0 | 0.0 | 0.059155285 | 8219.578303722003, 8172.504400916647, 8188.2428695746075\n",
      "45: 2.0 | 0.0 | 0.022242224 | 8219.578304387394, 8153.58561686494, 8159.023644021298\n",
      "46: 2.0 | 0.0 | 0.026705666 | 8219.578304217614, 8161.177516258444, 8169.365820255186\n",
      "47: 2.0 | 0.0 | 0.17990838 | 8219.57830423691, 8164.902641732051, 8178.322564627457\n",
      "48: 2.0 | 0.0 | 0.08508415 | 8219.57830428926, 8157.985385425262, 8160.70724983355\n",
      "49: 2.0 | 0.0 | 0.008196004 | 8216.521085724577, 8168.388732591917, 8174.385871085879\n",
      "50: 2.0 | 0.0 | 0.0058624186 | 8219.578304406456, 8170.506798943594, 8172.465330139804\n",
      "51: 2.0 | 0.0 | 0.067940086 | 8219.578303755894, 8168.379901557046, 8181.021301283759\n",
      "52: 2.0 | 0.0 | 0.03446517 | 8219.57830451745, 8160.060896302583, 8162.063295621804\n",
      "53: 2.0 | 0.0 | 0.08844437 | 8219.578304486316, 8162.053374251043, 8170.551236061896\n",
      "54: 2.0 | 0.0 | 0.032457273 | 8219.578304259248, 8166.57943646998, 8172.055342975318\n",
      "55: 2.0 | 0.0 | 0.02017354 | 8219.578304017185, 8170.9954255283355, 8171.809984001995\n",
      "56: 2.0 | 0.0 | 0.02012466 | 8219.578304005565, 8158.609635818612, 8168.386384992104\n",
      "57: 2.0 | 0.0 | 0.0019323352 | 8219.578304086352, 8138.079612032024, 8139.971813885921\n",
      "58: 2.0 | 0.0 | 0.014527345 | 8219.578303882636, 8165.802122527855, 8171.040535331136\n",
      "59: 2.0 | 0.0 | 0.014302047 | 8219.578304322378, 8171.773886831794, 8171.797508938242\n",
      "60: 2.0 | 0.0 | 0.11565744 | 8219.578304271014, 8165.569464147542, 8181.729346482207\n",
      "61: 2.0 | 0.0 | 0.03530869 | 8219.578304514305, 8162.504906337954, 8166.338878840405\n",
      "62: 2.0 | 0.0 | 0.15624 | 8219.5783044685, 8172.200846153513, 8181.7871040618675\n",
      "63: 2.0 | 0.0 | 0.01890101 | 8219.578304181361, 8165.741857308144, 8167.890741459749\n",
      "64: 2.0 | 0.0 | 0.0157454 | 8219.578304247862, 8170.3493491196805, 8171.383938969951\n",
      "65: 2.0 | 0.0 | 0.001406149 | 8342.817892273097, 8166.024542236074, 8194.976895866486\n",
      "66: 2.0 | 0.0 | 0.03641879 | 8219.57830433746, 8157.986872845015, 8160.61826667122\n",
      "67: 2.0 | 0.0 | 0.0046187597 | 8219.57830438512, 8161.600368300979, 8162.397250710739\n",
      "68: 2.0 | 0.0 | 0.02267449 | 8219.578304494513, 8168.880943621586, 8176.635962122406\n",
      "69: 2.0 | 0.0 | 0.059344288 | 8219.5783044292, 8167.152820251587, 8217.07590865134\n",
      "70: 2.0 | 0.0 | 0.061203085 | 8219.578304497822, 8165.6571938533625, 8180.640774948585\n",
      "71: 2.0 | 0.0 | 0.16124065 | 8219.578304101275, 8167.977888798009, 8167.977888798009\n",
      "72: 2.0 | 0.0 | 0.02701012 | 8219.578304455497, 8166.115950810394, 8168.949331415172\n",
      "73: 2.0 | 0.0 | 0.05175765 | 8219.578304282742, 8163.377111292037, 8179.922171852186\n",
      "74: 2.0 | 0.0 | 0.007219547 | 8219.578304368792, 8168.764640059264, 8182.73604485848\n",
      "75: 2.0 | 0.0 | 0.01676553 | 8219.57830402637, 8164.718130799979, 8172.645379197407\n",
      "76: 2.0 | 0.0 | 0.0025711867 | 8321.062172397073, 8161.399865978118, 8166.780127834334\n",
      "77: 2.0 | 0.0 | 0.08766985 | 8219.57830389712, 8173.4312773134725, 8180.74342597523\n",
      "78: 2.0 | 0.0 | 0.096755214 | 8219.578304280536, 8159.309580072454, 8163.104896224176\n",
      "79: 2.0 | 0.0 | 0.022201281 | 8219.578304158198, 8171.516947806503, 8191.587879958804\n",
      "80: 2.0 | 0.0 | 0.094857045 | 8219.578304260396, 8170.183027316986, 8178.524045917595\n",
      "81: 2.0 | 0.0 | 0.020961728 | 8219.578303923812, 8168.006997939868, 8196.671671552944\n",
      "82: 2.0 | 0.0 | 0.0780047 | 8219.578304306953, 8166.645664233431, 8171.255611326911\n",
      "83: 2.0 | 0.0 | 0.02584711 | 8219.578304411436, 8166.533377935366, 8178.9704156703265\n",
      "84: 2.0 | 0.0 | 0.012800985 | 8219.578304464942, 8167.315691256993, 8179.553150845524\n",
      "85: 2.0 | 0.0 | 0.029508846 | 8219.57830407078, 8165.594238822859, 8173.463549146166\n",
      "86: 2.0 | 0.0 | 0.017541766 | 8219.578304334205, 8158.67375057834, 8164.84403826493\n",
      "87: 2.0 | 0.0 | 0.08986593 | 8219.578304791641, 8160.859314701027, 8186.159173771181\n",
      "88: 2.0 | 0.0 | 0.023021227 | 8218.522661420653, 8160.412402175206, 8160.412402175206\n",
      "89: 2.0 | 0.0 | 0.012211828 | 8219.578304176828, 8160.591272931252, 8164.935654888202\n",
      "90: 2.0 | 0.0 | 0.020929812 | 8219.578304471714, 8165.560875155292, 8174.209094612562\n",
      "91: 2.0 | 0.0 | 0.04176629 | 8219.578304429204, 8164.230391495992, 8177.466716961971\n",
      "92: 2.0 | 0.0 | 0.036693703 | 8219.578304317587, 8163.361583568274, 8174.9515499761\n",
      "93: 2.0 | 0.0 | 0.029024176 | 8219.578304185192, 8162.422358493162, 8162.422358493162\n",
      "94: 2.0 | 0.0 | 0.010333493 | 8215.212026037558, 8171.384751075452, 8187.814670135084\n",
      "95: 2.0 | 0.0 | 0.04844446 | 8219.57830418441, 8163.879440983435, 8173.231041655346\n",
      "96: 2.0 | 0.0 | 0.08058122 | 8219.578304145669, 8173.612540666327, 8174.600012371689\n",
      "97: 2.0 | 0.0 | 0.033617187 | 8219.57830421123, 8156.963509361377, 8156.963509361377\n",
      "98: 2.0 | 0.0 | 0.009800926 | 8219.578303984392, 8162.051161205844, 8166.9911413061445\n",
      "99: 2.0 | 0.0 | 0.15143313 | 8219.578303791748, 8157.003494276618, 8162.672660897058\n"
     ]
    }
   ],
   "source": [
    "for elem in evaluation_strings\n",
    "    println(elem)\n",
    "end"
   ]
  },
  {
   "cell_type": "code",
   "execution_count": 10,
   "metadata": {},
   "outputs": [],
   "source": [
    "for file in readdir(folder)\n",
    "    try\n",
    "        @load \"$folder$file\" in_out_data\n",
    "        mindex = argmin(in_out_data.output.Es)\n",
    "        state = in_out_data.output.states[mindex]\n",
    "        id = parse(Int, split(file, \"_\")[id_index])\n",
    "        radii = collect(Base.Iterators.flatten([in_out_data.input.template_radii for _ in 1:in_out_data.input.number_of_molecules]))\n",
    "        MorphoMol.Utilities.state_to_poly(MorphoMol.Utilities.get_flat_realization(state, in_out_data.input.template_mol), radii, \"$(folder)$(id)\", in_out_data.input.number_of_molecules, length(in_out_data.input.template_radii))\n",
    "    catch e\n",
    "        println(e)\n",
    "        continue\n",
    "    end\n",
    "end"
   ]
  },
  {
   "cell_type": "markdown",
   "metadata": {},
   "source": [
    "# Print Single Assembly Path"
   ]
  },
  {
   "cell_type": "code",
   "execution_count": 6,
   "metadata": {},
   "outputs": [
    {
     "data": {
      "text/plain": [
       "1-element Vector{Symbol}:\n",
       " :in_out_data"
      ]
     },
     "execution_count": 6,
     "metadata": {},
     "output_type": "execute_result"
    }
   ],
   "source": [
    "@load \"assets/hpc_out/2_6r7m_touching_oj_0_0_os_0_85/2_6r7m_touching_13_protor_oj_0_0_os_0_85.jld2\" in_out_data"
   ]
  },
  {
   "cell_type": "code",
   "execution_count": 13,
   "metadata": {},
   "outputs": [],
   "source": [
    "mindex = argmin(in_out_data.output.Es)\n",
    "lower = 500\n",
    "upper = 100\n",
    "out_folder = \"assets/output/assembly_path/\"\n",
    "try\n",
    "    rm(out_folder, recursive=true)\n",
    "catch \n",
    "end\n",
    "mkdir(out_folder)\n",
    "radii = collect(Base.Iterators.flatten([in_out_data.input.template_radii for _ in 1:in_out_data.input.number_of_molecules]))\n",
    "for (i,j) in enumerate(mindex-lower:mindex+upper)\n",
    "    state = in_out_data.output.states[j]\n",
    "    MorphoMol.Utilities.state_to_poly(MorphoMol.Utilities.get_flat_realization(state, in_out_data.input.template_mol), radii, \"$(out_folder)$(i)\", in_out_data.input.number_of_molecules, length(in_out_data.input.template_radii))\n",
    "end\n"
   ]
  },
  {
   "cell_type": "markdown",
   "metadata": {},
   "source": [
    "# Compare to Experimental Structures"
   ]
  },
  {
   "cell_type": "code",
   "execution_count": 24,
   "metadata": {},
   "outputs": [
    {
     "data": {
      "text/plain": [
       "3×1206 Matrix{Float64}:\n",
       " -27.8796   -26.6674   -26.5597   …  -31.3903   -31.5191   -32.6934\n",
       "   9.063      9.54921    9.03875       8.50467    8.25724    9.091\n",
       "  -4.79258   -4.1493    -2.71995      -1.62113   -0.2168    -2.14403"
      ]
     },
     "execution_count": 24,
     "metadata": {},
     "output_type": "execute_result"
    }
   ],
   "source": [
    "@load \"assets/hpc_out/3_6r7m_assembled_oj_0_0_os_0_85/3_6r7m_assembled_47_protor_oj_0_0_os_0_85.jld2\" in_out_data\n",
    "state_sim = in_out_data.output.states[argmin(in_out_data.output.Es)]\n",
    "template_mol_sim = in_out_data.input.template_mol"
   ]
  },
  {
   "cell_type": "code",
   "execution_count": 33,
   "metadata": {},
   "outputs": [
    {
     "name": "stdout",
     "output_type": "stream",
     "text": [
      "1.2873006221221273, 18.550779293943858, 22.747256593704485\n",
      "14.19511216992349\n",
      "\n",
      "1.3774676242284738, 18.550779293943858, 22.656875406631716\n",
      "14.195040774934682\n",
      "\n",
      "1.2873006221221273, 1.3775764058075557, 2.8189008939530753\n",
      "1.8279259739609195\n",
      "\n",
      "18.550888075522934, 1.3775764058075557, 22.656875406631716\n",
      "14.195113295987403\n",
      "\n",
      "1.3774676242284738, 1.2874090345163622, 2.8189008939530753\n",
      "1.8279258508993037\n",
      "\n",
      "18.550888075522934, 1.2874090345163622, 22.747256593704485\n",
      "14.195184567914595\n",
      "\n"
     ]
    }
   ],
   "source": [
    "@load \"assets/hpc_out/3_6r7m_assembled_oj_0_0_os_0_85/3_6r7m_assembled_47_protor_oj_0_0_os_0_85.jld2\" in_out_data\n",
    "state_sim = in_out_data.output.states[argmin(in_out_data.output.Es)]\n",
    "template_mol_sim = in_out_data.input.template_mol\n",
    "\n",
    "template_mol_exp, _ = MorphoMol.Utilities.poly_to_state(\"assets/input/poly/6r7m_protor.poly\")\n",
    "template_mol_exp = reshape(template_mol_exp,(3,Int(length(template_mol_exp) / 3)))\n",
    "\n",
    "\n",
    "R1 = log(RotMatrix(@SMatrix[0.628642  0.777695  0.000000; -0.777695  0.628642  0.000000; 0.000000  0.000000  1.000000]))\n",
    "T1 = @SVector[-69.28043, 195.91352, -49.35000]\n",
    "\n",
    "R2 = log(RotMatrix(@SMatrix[0.874450  0.485115  0.000000; -0.485115  0.874450  0.000000; 0.000000  0.000000  1.000000]))\n",
    "T2 = @SVector[-61.30589, 104.11829, -47.94000]\n",
    "\n",
    "R3 = log(RotMatrix(@SMatrix[0.992567  0.121696  0.000000; -0.121696  0.992567  0.000000; 0.000000  0.000000  1.000000]))\n",
    "T3 = @SVector[-19.48193, 22.01644, -46.53000]\n",
    "\n",
    "state_exp_assembled = Vector{Float64}([])\n",
    "for (R,T) in [(R1, T1), (R2, T2), (R3, T3)]\n",
    "    state_exp_assembled = [state_exp_assembled; [R[3,2], R[1,3], R[2,1], T[1], T[2], T[3]]]\n",
    "end\n",
    "\n",
    "\n",
    "permutations = [[1, 2, 3], [1, 3, 2], [2, 1, 3], [2, 3, 1], [3,1,2], [3,2,1]]\n",
    "for perm in permutations\n",
    "    println(MorphoMol.Utilities.sum_of_permutation(template_mol_exp, template_mol_sim, state_exp_assembled, state_sim, [1, 2, 3], perm))\n",
    "    println()\n",
    "end"
   ]
  },
  {
   "cell_type": "code",
   "execution_count": 35,
   "metadata": {},
   "outputs": [
    {
     "name": "stdout",
     "output_type": "stream",
     "text": [
      "1.0801358636489278, 1.761615083090717, 2.5839573080281175\n",
      "1.8085694182559209\n",
      "\n",
      "3.9681361891428946, 1.761615083090717, 7.226195653808025\n",
      "4.318648975347212\n",
      "\n",
      "1.0801358636489278, 1.9392750832172398, 6.0393168036705065\n",
      "3.019575916845558\n",
      "\n",
      "5.427780645913811, 1.9392750832172398, 7.226195653808025\n",
      "4.864417127646359\n",
      "\n",
      "3.9681361891428946, 5.184605884136937, 6.0393168036705065\n",
      "5.064019625650112\n",
      "\n",
      "5.427780645913811, 5.184605884136937, 2.5839573080281175\n",
      "4.398781279359622\n",
      "\n"
     ]
    }
   ],
   "source": [
    "@load \"assets/hpc_out/3_6r7m_stacked_oj_0_0_os_0_85/3_6r7m_stacked_28_protor_oj_0_0_os_0_85.jld2\" in_out_data\n",
    "state_sim = in_out_data.output.states[argmin(in_out_data.output.Es)]\n",
    "template_mol_sim = in_out_data.input.template_mol\n",
    "\n",
    "template_mol_exp, _ = MorphoMol.Utilities.poly_to_state(\"assets/input/poly/6r7m_protor.poly\")\n",
    "template_mol_exp = reshape(template_mol_exp,(3,Int(length(template_mol_exp) / 3)))\n",
    "\n",
    "R1 = log(RotMatrix(@SMatrix[0.628642  0.777695  0.000000; -0.777695  0.628642  0.000000; 0.000000  0.000000  1.000000]))\n",
    "T1 = @SVector[-69.28043, 195.91352, -49.35000]\n",
    "\n",
    "R2 = log(RotMatrix(@SMatrix[0.874450  0.485115  0.000000; -0.485115  0.874450  0.000000; 0.000000  0.000000  1.000000]))\n",
    "T2 = @SVector[-61.30589, 104.11829, -47.94000]\n",
    "\n",
    "R3 = log(RotMatrix(@SMatrix[0.803441  0.595384  0.000000; -0.595384  0.803441  0.000000; 0.000000  0.000000  1.000000]))\n",
    "T3 = @SVector[-67.99970, 135.02619, -25.38000]\n",
    "\n",
    "\n",
    "state_exp_assembled = Vector{Float64}([])\n",
    "for (R,T) in [(R1, T1), (R2, T2), (R3, T3)]\n",
    "    state_exp_assembled = [state_exp_assembled; [R[3,2], R[1,3], R[2,1], T[1], T[2], T[3]]]\n",
    "end\n",
    "\n",
    "permutations = [[1, 2, 3], [1, 3, 2], [2, 1, 3], [2, 3, 1], [3,1,2], [3,2,1]]\n",
    "for perm in permutations\n",
    "    println(MorphoMol.Utilities.sum_of_permutation(template_mol_exp, template_mol_sim, state_exp_assembled, state_sim, [1, 2, 3], perm))\n",
    "    println()\n",
    "end"
   ]
  },
  {
   "cell_type": "code",
   "execution_count": 38,
   "metadata": {},
   "outputs": [
    {
     "data": {
      "text/plain": [
       "(84123.59f0, 20349.809f0, -5968.993f0, 188.49556f0)"
      ]
     },
     "execution_count": 38,
     "metadata": {},
     "output_type": "execute_result"
    }
   ],
   "source": [
    "@load \"assets/hpc_out/3_6r7m_assembled_oj_0_0_os_0_85/3_6r7m_assembled_47_protor_oj_0_0_os_0_85.jld2\" in_out_data\n",
    "mindex = argmin(in_out_data.output.Es)\n",
    "in_out_data.output.Vs[mindex], in_out_data.output.As[mindex], in_out_data.output.Ms[mindex], in_out_data.output.Xs[mindex]"
   ]
  },
  {
   "cell_type": "code",
   "execution_count": 36,
   "metadata": {},
   "outputs": [
    {
     "data": {
      "text/plain": [
       "(85262.81f0, 21122.312f0, -6398.94f0, 62.831852f0)"
      ]
     },
     "execution_count": 36,
     "metadata": {},
     "output_type": "execute_result"
    }
   ],
   "source": [
    "@load \"assets/hpc_out/3_6r7m_stacked_oj_0_0_os_0_85/3_6r7m_stacked_28_protor_oj_0_0_os_0_85.jld2\" in_out_data\n",
    "mindex = argmin(in_out_data.output.Es)\n",
    "in_out_data.output.Vs[mindex], in_out_data.output.As[mindex], in_out_data.output.Ms[mindex], in_out_data.output.Xs[mindex]"
   ]
  },
  {
   "cell_type": "markdown",
   "metadata": {},
   "source": [
    "# Dispersed State Energies"
   ]
  },
  {
   "cell_type": "code",
   "execution_count": 19,
   "metadata": {},
   "outputs": [
    {
     "name": "stdout",
     "output_type": "stream",
     "text": [
      "1ei7 8255.3356279267\n",
      "2tmv 8130.426867538925\n",
      "6r7m 8219.578304239454\n",
      "6sae 8185.217724310747\n",
      "6sag 8174.157936120334\n"
     ]
    }
   ],
   "source": [
    "folder = \"assets/input/poly/singles/\"\n",
    "for file in readdir(folder)\n",
    "    c,r = MorphoMol.Utilities.poly_to_state(\"$folder$file\")\n",
    "    E = MorphoMol.Energies.solvation_free_energy(\n",
    "        c, \n",
    "        length(r),\n",
    "        r,\n",
    "        1.4,\n",
    "        MorphoMol.Energies.get_prefactors(1.4, 0.3665),\n",
    "        0.0,\n",
    "        0.85\n",
    "        )\n",
    "    println(\"$(split(file, \"_\")[1]) \", 2*E)\n",
    "end"
   ]
  },
  {
   "cell_type": "code",
   "execution_count": null,
   "metadata": {},
   "outputs": [],
   "source": [
    "println(\"1EI7\")"
   ]
  }
 ],
 "metadata": {
  "kernelspec": {
   "display_name": "Julia Oineus 1.10.4",
   "language": "julia",
   "name": "julia-oineus-1.10"
  },
  "language_info": {
   "file_extension": ".jl",
   "mimetype": "application/julia",
   "name": "julia",
   "version": "1.10.4"
  },
  "orig_nbformat": 4
 },
 "nbformat": 4,
 "nbformat_minor": 2
}
