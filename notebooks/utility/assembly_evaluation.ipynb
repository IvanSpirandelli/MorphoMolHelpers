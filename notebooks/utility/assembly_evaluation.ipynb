{
 "cells": [
  {
   "cell_type": "code",
   "execution_count": 4,
   "metadata": {},
   "outputs": [
    {
     "name": "stderr",
     "output_type": "stream",
     "text": [
      "\u001b[32m\u001b[1m  Activating\u001b[22m\u001b[39m project at `~/Doktor/Code/MorphoMol/MorphoMolHelpers`\n"
     ]
    }
   ],
   "source": [
    "import Pkg; \n",
    "cd(joinpath(@__DIR__, \"../../\"))\n",
    "Pkg.activate(\"Project.toml\")\n",
    "\n",
    "using MorphoMol\n",
    "using StaticArrays\n",
    "using Rotations\n",
    "using Distances\n",
    "using JLD2"
   ]
  },
  {
   "cell_type": "code",
   "execution_count": 9,
   "metadata": {},
   "outputs": [
    {
     "data": {
      "text/plain": [
       "\"/Users/ivanspirandelli/Doktor/Code/MorphoMol/MorphoMolHelpers\""
      ]
     },
     "execution_count": 9,
     "metadata": {},
     "output_type": "execute_result"
    }
   ],
   "source": [
    "pwd()"
   ]
  },
  {
   "cell_type": "code",
   "execution_count": 12,
   "metadata": {},
   "outputs": [],
   "source": [
    "#folder = \"assets/hpc_out/5_1stm_oj_0_0_os_0_85/\"\n",
    "# folder = \"assets/hpc_out/1stm_hotstart_oj_0_0_os_0_85/\"\n",
    "# folder = \"assets/hpc_out/\"\n",
    "# folder = \"assets/hpc_out/2_6r7m_oj_0_0_os_0_85/\"\n",
    "# folder = \"assets/hpc_out/3_6r7m_assembled_oj_0_0_os_0_85/\"\n",
    "# folder = \"assets/hpc_out/3_6r7m_stacked_oj_0_0_os_0_85/\"\n",
    "folder = \"../../Data/hpc_out/hpc_out_6r7m/2_6r7m_oj_0_0_os_0_85/a/\"\n",
    "#folder = \"assets/hpc_out/3_6r7m_touching_oj_0_0_os_0_85/\"\n",
    "\n",
    "id_index = 4\n",
    "max = 1\n",
    "for file in readdir(folder)\n",
    "    if split(file, \".\")[end] == \"jld2\"\n",
    "        max = max < parse(Int, split(file, \"_\")[id_index]) ? parse(Int, split(file, \"_\")[id_index]) : max\n",
    "    end\n",
    "end\n",
    "\n",
    "evaluation_strings = [\"\" for _ in 1:max]\n",
    "for file in readdir(folder)\n",
    "    if split(file, \".\")[end] == \"jld2\"\n",
    "        @load \"$folder$file\" in_out_data\n",
    "        id = parse(Int, split(file, \"_\")[id_index])\n",
    "        string = \"$(id): $(in_out_data.input.T) | $(in_out_data.input.ε) | $(in_out_data.output.αs[end]) | $(in_out_data.output.Es[1]), $(minimum(in_out_data.output.Es)), $(in_out_data.output.Es[end])\"\n",
    "        evaluation_strings[id] = string\n",
    "    end\n",
    "end"
   ]
  },
  {
   "cell_type": "code",
   "execution_count": 14,
   "metadata": {},
   "outputs": [
    {
     "name": "stdout",
     "output_type": "stream",
     "text": [
      "1: 1.8 | 0.003 | 0.6708357 | 8185.217724572172, 8148.191921083626, 8166.967396585499\n",
      "\n",
      "\n",
      "\n",
      "\n",
      "\n",
      "\n",
      "\n",
      "\n",
      "10: 1.8 | 0.003 | 0.6824605 | 8185.217724572172, 8147.491473090948, 8166.309911918469\n",
      "11: 1.8 | 0.003 | 0.69605684 | 8185.217724572172, 8146.847935037373, 8173.118794869228\n",
      "12: 1.8 | 0.003 | 0.7447351 | 8185.217724572172, 8150.811330768011, 8176.736789982375\n",
      "\n",
      "14: 1.8 | 0.003 | 0.75736594 | 8185.217724572172, 8153.91232209294, 8179.986017949038\n",
      "15: 1.8 | 0.003 | 0.7256832 | 8185.217724572172, 8142.456956179923, 8166.35502204235\n",
      "\n",
      "17: 1.8 | 0.003 | 0.7002658 | 8185.217724572172, 8147.9943768405765, 8172.415589292618\n",
      "\n",
      "\n",
      "\n",
      "\n",
      "\n",
      "\n",
      "\n",
      "\n",
      "\n",
      "\n",
      "\n",
      "\n",
      "\n",
      "\n",
      "\n",
      "\n",
      "\n",
      "\n",
      "36: 1.8 | 0.003 | 0.7361709 | 8185.217724572172, 8155.166110603776, 8170.821586300379\n"
     ]
    }
   ],
   "source": [
    "for elem in evaluation_strings\n",
    "    println(elem)\n",
    "end"
   ]
  },
  {
   "cell_type": "code",
   "execution_count": 15,
   "metadata": {},
   "outputs": [
    {
     "name": "stdout",
     "output_type": "stream",
     "text": [
      "JLD2.InvalidDataException(\"Did not find a Superblock.\")\n",
      "JLD2.InvalidDataException(\"Did not find a Superblock.\")\n",
      "JLD2.InvalidDataException(\"Did not find a Superblock.\")\n",
      "JLD2.InvalidDataException(\"Did not find a Superblock.\")\n",
      "JLD2.InvalidDataException(\"Did not find a Superblock.\")\n",
      "JLD2.InvalidDataException(\"Did not find a Superblock.\")\n",
      "JLD2.InvalidDataException(\"Did not find a Superblock.\")\n",
      "JLD2.InvalidDataException(\"Did not find a Superblock.\")\n"
     ]
    }
   ],
   "source": [
    "for file in readdir(folder)\n",
    "    try\n",
    "        @load \"$folder$file\" in_out_data\n",
    "        mindex = argmin(in_out_data.output.Es)\n",
    "        state = in_out_data.output.states[mindex]\n",
    "        id = parse(Int, split(file, \"_\")[id_index])\n",
    "        radii = collect(Base.Iterators.flatten([in_out_data.input.template_radii for _ in 1:in_out_data.input.number_of_molecules]))\n",
    "        MorphoMol.Utilities.state_to_poly(MorphoMol.Utilities.get_flat_realization(state, in_out_data.input.template_mol), radii, \"$(folder)$(id)\", in_out_data.input.number_of_molecules, length(in_out_data.input.template_radii))\n",
    "    catch e\n",
    "        println(e)\n",
    "        continue\n",
    "    end\n",
    "end"
   ]
  },
  {
   "cell_type": "markdown",
   "metadata": {},
   "source": [
    "# Print Single Assembly Path"
   ]
  },
  {
   "cell_type": "code",
   "execution_count": 6,
   "metadata": {},
   "outputs": [
    {
     "data": {
      "text/plain": [
       "1-element Vector{Symbol}:\n",
       " :in_out_data"
      ]
     },
     "execution_count": 6,
     "metadata": {},
     "output_type": "execute_result"
    }
   ],
   "source": [
    "@load \"assets/hpc_out/2_6r7m_touching_oj_0_0_os_0_85/2_6r7m_touching_13_protor_oj_0_0_os_0_85.jld2\" in_out_data"
   ]
  },
  {
   "cell_type": "code",
   "execution_count": 13,
   "metadata": {},
   "outputs": [],
   "source": [
    "mindex = argmin(in_out_data.output.Es)\n",
    "lower = 500\n",
    "upper = 100\n",
    "out_folder = \"assets/output/assembly_path/\"\n",
    "try\n",
    "    rm(out_folder, recursive=true)\n",
    "catch \n",
    "end\n",
    "mkdir(out_folder)\n",
    "radii = collect(Base.Iterators.flatten([in_out_data.input.template_radii for _ in 1:in_out_data.input.number_of_molecules]))\n",
    "for (i,j) in enumerate(mindex-lower:mindex+upper)\n",
    "    state = in_out_data.output.states[j]\n",
    "    MorphoMol.Utilities.state_to_poly(MorphoMol.Utilities.get_flat_realization(state, in_out_data.input.template_mol), radii, \"$(out_folder)$(i)\", in_out_data.input.number_of_molecules, length(in_out_data.input.template_radii))\n",
    "end\n"
   ]
  },
  {
   "cell_type": "markdown",
   "metadata": {},
   "source": [
    "# Compare to Experimental Structures"
   ]
  },
  {
   "cell_type": "code",
   "execution_count": 24,
   "metadata": {},
   "outputs": [
    {
     "data": {
      "text/plain": [
       "3×1206 Matrix{Float64}:\n",
       " -27.8796   -26.6674   -26.5597   …  -31.3903   -31.5191   -32.6934\n",
       "   9.063      9.54921    9.03875       8.50467    8.25724    9.091\n",
       "  -4.79258   -4.1493    -2.71995      -1.62113   -0.2168    -2.14403"
      ]
     },
     "execution_count": 24,
     "metadata": {},
     "output_type": "execute_result"
    }
   ],
   "source": [
    "@load \"assets/hpc_out/3_6r7m_assembled_oj_0_0_os_0_85/3_6r7m_assembled_47_protor_oj_0_0_os_0_85.jld2\" in_out_data\n",
    "state_sim = in_out_data.output.states[argmin(in_out_data.output.Es)]\n",
    "template_mol_sim = in_out_data.input.template_mol"
   ]
  },
  {
   "cell_type": "code",
   "execution_count": 33,
   "metadata": {},
   "outputs": [
    {
     "name": "stdout",
     "output_type": "stream",
     "text": [
      "1.2873006221221273, 18.550779293943858, 22.747256593704485\n",
      "14.19511216992349\n",
      "\n",
      "1.3774676242284738, 18.550779293943858, 22.656875406631716\n",
      "14.195040774934682\n",
      "\n",
      "1.2873006221221273, 1.3775764058075557, 2.8189008939530753\n",
      "1.8279259739609195\n",
      "\n",
      "18.550888075522934, 1.3775764058075557, 22.656875406631716\n",
      "14.195113295987403\n",
      "\n",
      "1.3774676242284738, 1.2874090345163622, 2.8189008939530753\n",
      "1.8279258508993037\n",
      "\n",
      "18.550888075522934, 1.2874090345163622, 22.747256593704485\n",
      "14.195184567914595\n",
      "\n"
     ]
    }
   ],
   "source": [
    "@load \"assets/hpc_out/3_6r7m_assembled_oj_0_0_os_0_85/3_6r7m_assembled_47_protor_oj_0_0_os_0_85.jld2\" in_out_data\n",
    "state_sim = in_out_data.output.states[argmin(in_out_data.output.Es)]\n",
    "template_mol_sim = in_out_data.input.template_mol\n",
    "\n",
    "template_mol_exp, _ = MorphoMol.Utilities.poly_to_state(\"assets/input/poly/6r7m_protor.poly\")\n",
    "template_mol_exp = reshape(template_mol_exp,(3,Int(length(template_mol_exp) / 3)))\n",
    "\n",
    "\n",
    "R1 = log(RotMatrix(@SMatrix[0.628642  0.777695  0.000000; -0.777695  0.628642  0.000000; 0.000000  0.000000  1.000000]))\n",
    "T1 = @SVector[-69.28043, 195.91352, -49.35000]\n",
    "\n",
    "R2 = log(RotMatrix(@SMatrix[0.874450  0.485115  0.000000; -0.485115  0.874450  0.000000; 0.000000  0.000000  1.000000]))\n",
    "T2 = @SVector[-61.30589, 104.11829, -47.94000]\n",
    "\n",
    "R3 = log(RotMatrix(@SMatrix[0.992567  0.121696  0.000000; -0.121696  0.992567  0.000000; 0.000000  0.000000  1.000000]))\n",
    "T3 = @SVector[-19.48193, 22.01644, -46.53000]\n",
    "\n",
    "state_exp_assembled = Vector{Float64}([])\n",
    "for (R,T) in [(R1, T1), (R2, T2), (R3, T3)]\n",
    "    state_exp_assembled = [state_exp_assembled; [R[3,2], R[1,3], R[2,1], T[1], T[2], T[3]]]\n",
    "end\n",
    "\n",
    "\n",
    "permutations = [[1, 2, 3], [1, 3, 2], [2, 1, 3], [2, 3, 1], [3,1,2], [3,2,1]]\n",
    "for perm in permutations\n",
    "    println(MorphoMol.Utilities.sum_of_permutation(template_mol_exp, template_mol_sim, state_exp_assembled, state_sim, [1, 2, 3], perm))\n",
    "    println()\n",
    "end"
   ]
  },
  {
   "cell_type": "code",
   "execution_count": 35,
   "metadata": {},
   "outputs": [
    {
     "name": "stdout",
     "output_type": "stream",
     "text": [
      "1.0801358636489278, 1.761615083090717, 2.5839573080281175\n",
      "1.8085694182559209\n",
      "\n",
      "3.9681361891428946, 1.761615083090717, 7.226195653808025\n",
      "4.318648975347212\n",
      "\n",
      "1.0801358636489278, 1.9392750832172398, 6.0393168036705065\n",
      "3.019575916845558\n",
      "\n",
      "5.427780645913811, 1.9392750832172398, 7.226195653808025\n",
      "4.864417127646359\n",
      "\n",
      "3.9681361891428946, 5.184605884136937, 6.0393168036705065\n",
      "5.064019625650112\n",
      "\n",
      "5.427780645913811, 5.184605884136937, 2.5839573080281175\n",
      "4.398781279359622\n",
      "\n"
     ]
    }
   ],
   "source": [
    "@load \"assets/hpc_out/3_6r7m_stacked_oj_0_0_os_0_85/3_6r7m_stacked_28_protor_oj_0_0_os_0_85.jld2\" in_out_data\n",
    "state_sim = in_out_data.output.states[argmin(in_out_data.output.Es)]\n",
    "template_mol_sim = in_out_data.input.template_mol\n",
    "\n",
    "template_mol_exp, _ = MorphoMol.Utilities.poly_to_state(\"assets/input/poly/6r7m_protor.poly\")\n",
    "template_mol_exp = reshape(template_mol_exp,(3,Int(length(template_mol_exp) / 3)))\n",
    "\n",
    "R1 = log(RotMatrix(@SMatrix[0.628642  0.777695  0.000000; -0.777695  0.628642  0.000000; 0.000000  0.000000  1.000000]))\n",
    "T1 = @SVector[-69.28043, 195.91352, -49.35000]\n",
    "\n",
    "R2 = log(RotMatrix(@SMatrix[0.874450  0.485115  0.000000; -0.485115  0.874450  0.000000; 0.000000  0.000000  1.000000]))\n",
    "T2 = @SVector[-61.30589, 104.11829, -47.94000]\n",
    "\n",
    "R3 = log(RotMatrix(@SMatrix[0.803441  0.595384  0.000000; -0.595384  0.803441  0.000000; 0.000000  0.000000  1.000000]))\n",
    "T3 = @SVector[-67.99970, 135.02619, -25.38000]\n",
    "\n",
    "\n",
    "state_exp_assembled = Vector{Float64}([])\n",
    "for (R,T) in [(R1, T1), (R2, T2), (R3, T3)]\n",
    "    state_exp_assembled = [state_exp_assembled; [R[3,2], R[1,3], R[2,1], T[1], T[2], T[3]]]\n",
    "end\n",
    "\n",
    "permutations = [[1, 2, 3], [1, 3, 2], [2, 1, 3], [2, 3, 1], [3,1,2], [3,2,1]]\n",
    "for perm in permutations\n",
    "    println(MorphoMol.Utilities.sum_of_permutation(template_mol_exp, template_mol_sim, state_exp_assembled, state_sim, [1, 2, 3], perm))\n",
    "    println()\n",
    "end"
   ]
  },
  {
   "cell_type": "code",
   "execution_count": 38,
   "metadata": {},
   "outputs": [
    {
     "data": {
      "text/plain": [
       "(84123.59f0, 20349.809f0, -5968.993f0, 188.49556f0)"
      ]
     },
     "execution_count": 38,
     "metadata": {},
     "output_type": "execute_result"
    }
   ],
   "source": [
    "@load \"assets/hpc_out/3_6r7m_assembled_oj_0_0_os_0_85/3_6r7m_assembled_47_protor_oj_0_0_os_0_85.jld2\" in_out_data\n",
    "mindex = argmin(in_out_data.output.Es)\n",
    "in_out_data.output.Vs[mindex], in_out_data.output.As[mindex], in_out_data.output.Ms[mindex], in_out_data.output.Xs[mindex]"
   ]
  },
  {
   "cell_type": "code",
   "execution_count": 36,
   "metadata": {},
   "outputs": [
    {
     "data": {
      "text/plain": [
       "(85262.81f0, 21122.312f0, -6398.94f0, 62.831852f0)"
      ]
     },
     "execution_count": 36,
     "metadata": {},
     "output_type": "execute_result"
    }
   ],
   "source": [
    "@load \"assets/hpc_out/3_6r7m_stacked_oj_0_0_os_0_85/3_6r7m_stacked_28_protor_oj_0_0_os_0_85.jld2\" in_out_data\n",
    "mindex = argmin(in_out_data.output.Es)\n",
    "in_out_data.output.Vs[mindex], in_out_data.output.As[mindex], in_out_data.output.Ms[mindex], in_out_data.output.Xs[mindex]"
   ]
  },
  {
   "cell_type": "markdown",
   "metadata": {},
   "source": [
    "# Dispersed State Energies"
   ]
  },
  {
   "cell_type": "code",
   "execution_count": 19,
   "metadata": {},
   "outputs": [
    {
     "name": "stdout",
     "output_type": "stream",
     "text": [
      "1ei7 8255.3356279267\n",
      "2tmv 8130.426867538925\n",
      "6r7m 8219.578304239454\n",
      "6sae 8185.217724310747\n",
      "6sag 8174.157936120334\n"
     ]
    }
   ],
   "source": [
    "folder = \"assets/input/poly/singles/\"\n",
    "for file in readdir(folder)\n",
    "    c,r = MorphoMol.Utilities.poly_to_state(\"$folder$file\")\n",
    "    E = MorphoMol.Energies.solvation_free_energy(\n",
    "        c, \n",
    "        length(r),\n",
    "        r,\n",
    "        1.4,\n",
    "        MorphoMol.Energies.get_prefactors(1.4, 0.3665),\n",
    "        0.0,\n",
    "        0.85\n",
    "        )\n",
    "    println(\"$(split(file, \"_\")[1]) \", 2*E)\n",
    "end"
   ]
  },
  {
   "cell_type": "code",
   "execution_count": null,
   "metadata": {},
   "outputs": [],
   "source": [
    "println(\"1EI7\")"
   ]
  }
 ],
 "metadata": {
  "kernelspec": {
   "display_name": "Julia 1.10.4",
   "language": "julia",
   "name": "julia-1.10"
  },
  "language_info": {
   "file_extension": ".jl",
   "mimetype": "application/julia",
   "name": "julia",
   "version": "1.10.4"
  },
  "orig_nbformat": 4
 },
 "nbformat": 4,
 "nbformat_minor": 2
}
