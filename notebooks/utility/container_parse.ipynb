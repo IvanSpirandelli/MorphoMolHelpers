{
 "cells": [
  {
   "cell_type": "code",
   "execution_count": 1,
   "metadata": {},
   "outputs": [
    {
     "name": "stderr",
     "output_type": "stream",
     "text": [
      "\u001b[32m\u001b[1m  Activating\u001b[22m\u001b[39m project at `~/Doktor/Code/MorphoMol/MorphoMolNotebooks`\n",
      "\u001b[32m\u001b[1mPrecompiling\u001b[22m\u001b[39m MorphoMol\n",
      "\u001b[32m  ✓ \u001b[39m\u001b[90mDistributions → DistributionsTestExt\u001b[39m\n",
      "\u001b[32m  ✓ \u001b[39mCairoMakie\n",
      "\u001b[32m  ✓ \u001b[39mMorphoMol\n",
      "  3 dependencies successfully precompiled in 18 seconds. 241 already precompiled.\n",
      "\u001b[36m\u001b[1m[ \u001b[22m\u001b[39m\u001b[36m\u001b[1mInfo: \u001b[22m\u001b[39mPrecompiling MorphoMol [85e20460-a9b2-48f6-9df6-e154e9748d83]\n"
     ]
    }
   ],
   "source": [
    "import Pkg; \n",
    "cd(joinpath(@__DIR__, \"../../\"))\n",
    "Pkg.activate(\"Project.toml\")\n",
    "\n",
    "using MorphoMol\n",
    "using StaticArrays\n",
    "using Rotations\n",
    "using Distances\n",
    "using JLD2"
   ]
  },
  {
   "cell_type": "code",
   "execution_count": 2,
   "metadata": {},
   "outputs": [
    {
     "data": {
      "text/plain": [
       "3-element Vector{Symbol}:\n",
       " :template_mol\n",
       " :template_radii\n",
       " :x_init"
      ]
     },
     "execution_count": 2,
     "metadata": {},
     "output_type": "execute_result"
    }
   ],
   "source": [
    "@load \"../../Data/jld2/2_experimental/2_6r7m_protor.jld2\""
   ]
  },
  {
   "cell_type": "code",
   "execution_count": 3,
   "metadata": {},
   "outputs": [
    {
     "data": {
      "text/plain": [
       "217257"
      ]
     },
     "execution_count": 3,
     "metadata": {},
     "output_type": "execute_result"
    }
   ],
   "source": [
    "experimental_templates = Dict()\n",
    "folder = \"../../Data/jld2/2_experimental/\"\n",
    "for file in readdir(folder)\n",
    "    mol_type = split(file, \"_\")[2]\n",
    "    @load \"$(folder)$(file)\" template_mol template_radii x_init\n",
    "    experimental_templates[mol_type] = Dict(\"template_centers\" => template_mol, \"template_radii\" => template_radii, \"state\" => x_init)\n",
    "end\n",
    "open(\"2su_experimental_assembly.jl\", \"w\") do file\n",
    "    write(file, \"TWOTMVSU_EXPERIMENTAL_ASSEMBLY = $(experimental_templates)\")\n",
    "end"
   ]
  },
  {
   "cell_type": "code",
   "execution_count": 4,
   "metadata": {},
   "outputs": [
    {
     "data": {
      "text/plain": [
       "3-element Vector{Symbol}:\n",
       " :template_mol\n",
       " :template_radii\n",
       " :x_init"
      ]
     },
     "execution_count": 4,
     "metadata": {},
     "output_type": "execute_result"
    }
   ],
   "source": [
    "@load \"../../Data/jld2/single_subunits/2tmv_protor.jld2\""
   ]
  },
  {
   "cell_type": "code",
   "execution_count": 5,
   "metadata": {},
   "outputs": [
    {
     "data": {
      "text/plain": [
       "447705"
      ]
     },
     "execution_count": 5,
     "metadata": {},
     "output_type": "execute_result"
    }
   ],
   "source": [
    "experimental_templates = Dict()\n",
    "folder = \"../../Data/jld2/single_subunits/\"\n",
    "for file in readdir(folder)\n",
    "    mol_type = split(file, \"_\")[1]\n",
    "    @load \"$(folder)$(file)\" template_mol template_radii x_init\n",
    "    experimental_templates[mol_type] = Dict(\"template_centers\" => template_mol, \"template_radii\" => template_radii)\n",
    "end\n",
    "open(\"tmv_templates.jl\", \"w\") do file\n",
    "    write(file, \"TMV_TEMPLATES = $(experimental_templates)\")\n",
    "end"
   ]
  }
 ],
 "metadata": {
  "kernelspec": {
   "display_name": "Julia Oineus 1.10.4",
   "language": "julia",
   "name": "julia-oineus-1.10"
  },
  "language_info": {
   "file_extension": ".jl",
   "mimetype": "application/julia",
   "name": "julia",
   "version": "1.10.4"
  }
 },
 "nbformat": 4,
 "nbformat_minor": 2
}
