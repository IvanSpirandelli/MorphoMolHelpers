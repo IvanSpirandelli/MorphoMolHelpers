{
 "cells": [
  {
   "cell_type": "code",
   "execution_count": 2,
   "metadata": {},
   "outputs": [
    {
     "name": "stderr",
     "output_type": "stream",
     "text": [
      "\u001b[32m\u001b[1m  Activating\u001b[22m\u001b[39m project at `~/Doktor/Code/MorphoMol/MorphoMolNotebooks`\n"
     ]
    }
   ],
   "source": [
    "import Pkg; \n",
    "cd(joinpath(@__DIR__, \"../../\"))\n",
    "Pkg.activate(\"Project.toml\")\n",
    "\n",
    "using MorphoMol\n",
    "using StaticArrays\n",
    "using Rotations\n",
    "using Distances\n",
    "using JLD2"
   ]
  },
  {
   "cell_type": "code",
   "execution_count": 14,
   "metadata": {},
   "outputs": [
    {
     "data": {
      "text/plain": [
       "3-element Vector{Symbol}:\n",
       " :template_mol\n",
       " :template_radii\n",
       " :x_init"
      ]
     },
     "execution_count": 14,
     "metadata": {},
     "output_type": "execute_result"
    }
   ],
   "source": [
    "@load \"../../Data/jld2/2_experimental/2_6r7m_protor.jld2\""
   ]
  },
  {
   "cell_type": "code",
   "execution_count": 6,
   "metadata": {},
   "outputs": [
    {
     "data": {
      "text/plain": [
       "3×1206 Matrix{Float64}:\n",
       " 251.173  250.097  249.674  250.396  …  253.216  253.956  253.839  255.427\n",
       " 197.372  196.396  196.183  196.544     198.527  197.232  196.854  197.243\n",
       " 191.043  191.139  192.585  193.51      192.311  194.907  196.283  194.518"
      ]
     },
     "execution_count": 6,
     "metadata": {},
     "output_type": "execute_result"
    }
   ],
   "source": [
    "symbols == [:template_mol, :template_radii, :x_init]"
   ]
  },
  {
   "cell_type": "code",
   "execution_count": 37,
   "metadata": {},
   "outputs": [
    {
     "data": {
      "text/plain": [
       "load_jld2_and_translate (generic function with 1 method)"
      ]
     },
     "execution_count": 37,
     "metadata": {},
     "output_type": "execute_result"
    }
   ],
   "source": [
    "function load_jld2_and_translate(filepath::String)\n",
    "    if split(filepath, \".\")[end] != \"jld2\"\n",
    "        println(\"No jld2 file: \", filepath)\n",
    "        return\n",
    "    end\n",
    "    root = join(split(filepath, \"/\")[1:end-1], \"/\") * \"/\"\n",
    "    file = split(filepath, \"/\")[end]\n",
    "    data = load(filepath)\n",
    "    if issetequal(Set(keys(data)),  Set([\"template_mol\", \"template_radii\", \"x_init\"]))\n",
    "        mkpath(root * \"old_format_backup/\")\n",
    "        template_centers = data[\"template_mol\"]\n",
    "        mv(filepath, \"$(root)old_format_backup/$(file)\")\n",
    "        @save filepath template_centers template_radii x_init\n",
    "    else\n",
    "        println(\"The following format has not been parsed yet: \")\n",
    "        println(keys(data))\n",
    "    end\n",
    "end\n"
   ]
  },
  {
   "cell_type": "code",
   "execution_count": 38,
   "metadata": {},
   "outputs": [
    {
     "name": "stdout",
     "output_type": "stream",
     "text": [
      "No jld2 file: ../../Data/jld2/2_experimental_test/.DS_Store\n"
     ]
    }
   ],
   "source": [
    "folder = \"../../Data/jld2/2_experimental_test/\"\n",
    "for file in readdir(folder)\n",
    "    load_jld2_and_translate(\"$(folder)$(file)\")\n",
    "end"
   ]
  }
 ],
 "metadata": {
  "kernelspec": {
   "display_name": "Julia Oineus 1.10.4",
   "language": "julia",
   "name": "julia-oineus-1.10"
  },
  "language_info": {
   "file_extension": ".jl",
   "mimetype": "application/julia",
   "name": "julia",
   "version": "1.10.4"
  }
 },
 "nbformat": 4,
 "nbformat_minor": 2
}
