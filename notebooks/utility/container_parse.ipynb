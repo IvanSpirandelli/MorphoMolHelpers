{
 "cells": [
  {
   "cell_type": "code",
   "execution_count": 1,
   "metadata": {},
   "outputs": [
    {
     "name": "stderr",
     "output_type": "stream",
     "text": [
      "\u001b[32m\u001b[1m  Activating\u001b[22m\u001b[39m project at `~/Doktor/Code/MorphoMol/MorphoMolNotebooks`\n",
      "\u001b[32m\u001b[1mPrecompiling\u001b[22m\u001b[39m MorphoMol\n",
      "\u001b[36m\u001b[1m        Info\u001b[22m\u001b[39m Given MorphoMol was explicitly requested, output will be shown live \u001b[0K\n",
      "\u001b[0KWARNING: Method definition get_initial_state(Int64, Float64) in module Utilities at /Users/ivanspirandelli/Doktor/Code/MorphoMol/MorphoMol.jl/src/modules/Utilities/src/initialization.jl:1 overwritten on the same line (check for duplicate calls to `include`).\n",
      "\u001b[0KERROR: Method overwriting is not permitted during Module precompilation. Use `__precompile__(false)` to opt-out of precompilation.\n",
      "\u001b[33m  ? \u001b[39mMorphoMol\n",
      "\u001b[36m\u001b[1m[ \u001b[22m\u001b[39m\u001b[36m\u001b[1mInfo: \u001b[22m\u001b[39mPrecompiling MorphoMol [85e20460-a9b2-48f6-9df6-e154e9748d83]\n",
      "WARNING: Method definition get_initial_state(Int64, Float64) in module Utilities at /Users/ivanspirandelli/Doktor/Code/MorphoMol/MorphoMol.jl/src/modules/Utilities/src/initialization.jl:1 overwritten on the same line (check for duplicate calls to `include`).\n",
      "ERROR: Method overwriting is not permitted during Module precompilation. Use `__precompile__(false)` to opt-out of precompilation.\n",
      "\u001b[36m\u001b[1m[ \u001b[22m\u001b[39m\u001b[36m\u001b[1mInfo: \u001b[22m\u001b[39mSkipping precompilation since __precompile__(false). Importing MorphoMol [85e20460-a9b2-48f6-9df6-e154e9748d83].\n"
     ]
    }
   ],
   "source": [
    "import Pkg; \n",
    "cd(joinpath(@__DIR__, \"../../\"))\n",
    "Pkg.activate(\"Project.toml\")\n",
    "\n",
    "using MorphoMol\n",
    "using StaticArrays\n",
    "using Rotations\n",
    "using Distances\n",
    "using JLD2"
   ]
  },
  {
   "cell_type": "code",
   "execution_count": 2,
   "metadata": {},
   "outputs": [
    {
     "data": {
      "text/plain": [
       "3-element Vector{Symbol}:\n",
       " :template_mol\n",
       " :template_radii\n",
       " :x_init"
      ]
     },
     "execution_count": 2,
     "metadata": {},
     "output_type": "execute_result"
    }
   ],
   "source": [
    "@load \"../../Data/jld2/2_experimental/2_6r7m_protor.jld2\""
   ]
  },
  {
   "cell_type": "code",
   "execution_count": 6,
   "metadata": {},
   "outputs": [],
   "source": [
    "experimental_templates = Dict()\n",
    "folder = \"../../Data/jld2/2_experimental/\"\n",
    "for file in readdir(folder)\n",
    "    mol_type = split(file, \"_\")[2]\n",
    "    @load \"$(folder)$(file)\" template_mol template_radii x_init\n",
    "    experimental_templates[mol_type] = Dict(\"template_mol\" => template_mol, \"template_radii\" => template_radii, \"state\" => x_init)\n",
    "end"
   ]
  },
  {
   "cell_type": "code",
   "execution_count": 12,
   "metadata": {},
   "outputs": [
    {
     "data": {
      "text/plain": [
       "217243"
      ]
     },
     "execution_count": 12,
     "metadata": {},
     "output_type": "execute_result"
    }
   ],
   "source": [
    "open(\"2su_experimental_assembly.jl\", \"w\") do file\n",
    "    write(file, \"2TMVSU_EXPERIMENTAL_ASSEMBLY = $(experimental_templates)\")\n",
    "end"
   ]
  }
 ],
 "metadata": {
  "kernelspec": {
   "display_name": "Julia Oineus 1.10.4",
   "language": "julia",
   "name": "julia-oineus-1.10"
  },
  "language_info": {
   "file_extension": ".jl",
   "mimetype": "application/julia",
   "name": "julia",
   "version": "1.10.4"
  }
 },
 "nbformat": 4,
 "nbformat_minor": 2
}
