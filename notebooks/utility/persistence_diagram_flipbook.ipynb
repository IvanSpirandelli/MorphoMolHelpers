{
 "cells": [
  {
   "cell_type": "code",
   "execution_count": 1,
   "metadata": {},
   "outputs": [
    {
     "name": "stderr",
     "output_type": "stream",
     "text": [
      "\u001b[32m\u001b[1m  Activating\u001b[22m\u001b[39m project at `~/Doktor/Code/MorphoMol/MorphoMolNotebooks`\n"
     ]
    }
   ],
   "source": [
    "import Pkg; \n",
    "\n",
    "cd(joinpath(@__DIR__, \"../../\"))\n",
    "Pkg.activate(\"Project.toml\")\n",
    "\n",
    "using MorphoMol\n",
    "using PyCall\n",
    "using JLD2\n",
    "using LinearAlgebra\n",
    "using Rotations\n",
    "using GLMakie"
   ]
  },
  {
   "cell_type": "code",
   "execution_count": 2,
   "metadata": {},
   "outputs": [
    {
     "data": {
      "text/plain": [
       "get_interface_diagrams (generic function with 1 method)"
      ]
     },
     "execution_count": 2,
     "metadata": {},
     "output_type": "execute_result"
    }
   ],
   "source": [
    "py\"\"\"\n",
    "import oineus as oin\n",
    "import numpy as np\n",
    "import torch\n",
    "import diode\n",
    "\n",
    "def get_interface_diagram(points, n_atoms_per_mol):\n",
    "    points = np.asarray(points)\n",
    "    simplices = diode.fill_alpha_shapes(points)\n",
    "    fil = oin.Filtration_double([oin.Simplex_double(s[0], s[1]) for s in simplices])\n",
    "\n",
    "    def is_multi(sigma):\n",
    "        has_a = has_b = False\n",
    "        for v in sigma.vertices:\n",
    "            if v < n_atoms_per_mol:\n",
    "                has_a = True\n",
    "            else:\n",
    "                has_b = True\n",
    "        return has_a and has_b\n",
    "\n",
    "    fil = fil.subfiltration(is_multi)\n",
    "    # second argument: True for cohomology, False for homology (incorrect for subfiltration)\n",
    "    dcmp = oin.Decomposition(fil, True)\n",
    "    params = oin.ReductionParams()\n",
    "    params.clearing_opt = False\n",
    "    dcmp.reduce(params)\n",
    "    dgm = dcmp.diagram(fil, include_inf_points=False)\n",
    "    return dgm\n",
    "\"\"\"\n",
    "\n",
    "function get_interface_diagram(points, n_atoms_per_mol)\n",
    "    py\"get_interface_diagram\"(points, n_atoms_per_mol)\n",
    "end\n",
    "\n",
    "function get_interface_diagrams(folder)\n",
    "    files = readdir(folder)\n",
    "    n = length(files)\n",
    "    n_atoms_per_mol = Int(length(txt_to_points(\"$(folder)0.txt\")) / 2) # Hardcoded for two sub units\n",
    "    [get_interface_diagram(txt_to_points(\"$(folder)$(i-1).txt\"), n_atoms_per_mol) for i in 1:n]\n",
    "end\n"
   ]
  },
  {
   "cell_type": "code",
   "execution_count": 3,
   "metadata": {},
   "outputs": [
    {
     "data": {
      "text/plain": [
       "txt_to_points (generic function with 1 method)"
      ]
     },
     "execution_count": 3,
     "metadata": {},
     "output_type": "execute_result"
    }
   ],
   "source": [
    "function get_total_persistence(dgms_per_dimension::Vector{Matrix{Float64}}, weight::Float64 = 1.0)\n",
    "    sum([get_persistence(dgm, weight) for dgm in dgms_per_dimension])\n",
    "end\n",
    "\n",
    "function get_persistence(dgm, weight::Float64 = 1.0)\n",
    "    weight * sum(dgm[:,2] - dgm[:,1])\n",
    "end\n",
    "\n",
    "function get_tps(dgms)\n",
    "    [get_total_persistence(dgm) for dgm in dgms]\n",
    "end\n",
    "\n",
    "function get_fsols(folder)\n",
    "    files = readdir(folder)\n",
    "    n = length(files)\n",
    "    [parse(Float64, split(readlines(\"$(folder)$(i-1).txt\")[2], \" \")[6]) for i in 1:n]\n",
    "end\n",
    "\n",
    "function get_thetas(folder)\n",
    "    files = readdir(folder)\n",
    "    n = length(files)\n",
    "    [parse(Float64, split(readlines(\"$(folder)$(i-1).txt\")[2], \" \")[7]) for i in 1:n]\n",
    "end\n",
    "\n",
    "function txt_to_points(input_file)\n",
    "    [[parse(Float64, s) for s in split(p,\" \")] for p in readlines(input_file)[3:end]]\n",
    "end"
   ]
  },
  {
   "cell_type": "code",
   "execution_count": 4,
   "metadata": {},
   "outputs": [
    {
     "data": {
      "text/plain": [
       "get_configurations_from_folder (generic function with 1 method)"
      ]
     },
     "execution_count": 4,
     "metadata": {},
     "output_type": "execute_result"
    }
   ],
   "source": [
    "function get_configurations_from_folder(folder)\n",
    "    files = readdir(folder)\n",
    "    realizations = [Vector{Vector{Vector{Float64}}}([]) for i in 1:length(files)]\n",
    "    for file in readdir(folder)\n",
    "        centers = txt_to_points(\"$(folder)$(file)\")\n",
    "        n_atoms_per_mol = Int(length(centers) / 2)\n",
    "        c1 = centers[1:n_atoms_per_mol]\n",
    "        c2 = centers[n_atoms_per_mol+1:end]\n",
    "        realizations[parse(Int, split(file, \".\")[1]) + 1] = [c1, c2]\n",
    "    end\n",
    "    realizations\n",
    "end"
   ]
  },
  {
   "cell_type": "code",
   "execution_count": 5,
   "metadata": {},
   "outputs": [
    {
     "data": {
      "text/plain": [
       "folder_of_txts_to_jld2_with_persistence_computation (generic function with 1 method)"
      ]
     },
     "execution_count": 5,
     "metadata": {},
     "output_type": "execute_result"
    }
   ],
   "source": [
    "function folder_of_txts_to_jld2_with_persistence_computation(folder)\n",
    "    mol_type = split(folder, \"/\")[end-2]\n",
    "    idx = split(folder, \"/\")[end-1]\n",
    "    py_dgms = get_interface_diagrams(folder)\n",
    "    dgms = [[dgm[1], dgm[2], dgm[3], dgm[4]] for dgm in py_dgms]\n",
    "    tps = get_tps(dgms)\n",
    "    Es = get_fsols(folder)\n",
    "    thetas = get_thetas(folder)\n",
    "    realizations = get_configurations_from_folder(folder)\n",
    "    @save \"../../Data/measure_paths/jld2s/$(mol_type)/$(idx).jld2\" dgms tps Es thetas realizations\n",
    "end"
   ]
  },
  {
   "cell_type": "code",
   "execution_count": 35,
   "metadata": {},
   "outputs": [],
   "source": [
    "# folder = \"../../Data/measure_paths/txts/6r7m/\"\n",
    "# for subdir in readdir(folder)\n",
    "#     if subdir != \".DS_Store\"\n",
    "#         folder_of_txts_to_jld2_with_persistence_computation(\"$(folder)$(subdir)/\")\n",
    "#     end\n",
    "# end\n",
    "\n",
    "# folder = \"../../Data/measure_paths/txts/6r7m/1/\"\n",
    "# dgms = get_interface_diagrams(folder)\n",
    "# xs = [i for i in 1:length(dgms)]\n",
    "# dgms_selection = [[dgm[2]; dgm[3]] for dgm in dgms]\n",
    "# tps = get_tps(dgms_selection)\n",
    "# Es = get_fsols(folder)\n",
    "# thetas = get_thetas(folder);"
   ]
  },
  {
   "cell_type": "code",
   "execution_count": 6,
   "metadata": {},
   "outputs": [],
   "source": [
    "@load \"../../Data/measure_paths/jld2s/6r7m/1.jld2\" dgms tps Es thetas realizations\n",
    "xs = [i for i in 1:length(dgms)];"
   ]
  },
  {
   "cell_type": "code",
   "execution_count": 7,
   "metadata": {},
   "outputs": [],
   "source": [
    "two_ps = [get_persistence(dgm[2], -0.1) for dgm in dgms]\n",
    "three_ps = [get_persistence(dgm[3], -0.1) for dgm in dgms]\n",
    "tps = [get_total_persistence(dgm, -0.1) for dgm in dgms];"
   ]
  },
  {
   "cell_type": "code",
   "execution_count": 8,
   "metadata": {},
   "outputs": [
    {
     "data": {
      "text/plain": [
       "GLMakie.Screen(...)"
      ]
     },
     "execution_count": 8,
     "metadata": {},
     "output_type": "execute_result"
    }
   ],
   "source": [
    "f = Figure(fontsize = 7)\n",
    "pd_ax_a = Axis(f[1, 1], title = \"Persistence codim = 2\", xticks = 0:25:100, yticks = 0:25:100)\n",
    "pd_ax_b = Axis(f[1, 2], title = \"Persistence codim = 3\", xticks = 0:25:100, yticks = 0:25:100)\n",
    "pd_hm_ax_a = Axis(f[2, 1], title = \"Persistence codim = 2\")\n",
    "pd_hm_ax_b = Axis(f[2, 2], title = \"Persistence codim = 3\")\n",
    "\n",
    "conf_ax = Axis3(f[1, 3])\n",
    "tp_ax = Axis(f[3, 1], title = \"Total Persistence\")\n",
    "theta_ax = Axis(f[3, 2], title = L\"\\Theta\")\n",
    "E_ax = Axis(f[3, 3], title = L\"F_{sol}\")\n",
    "two_p_ax = Axis(f[4, 1], title = \"codim 2 persistence\")\n",
    "three_p_ax = Axis(f[4, 2], title = \"codim 3 persistence\")\n",
    "\n",
    "sl_i = Slider(f[5, 1:3], range = 1:length(dgms), startvalue = 1)\n",
    "\n",
    "x = sl_i.value\n",
    "\n",
    "tp_mark = @lift(Point2f($x, $@lift(tps[$x])))\n",
    "theta_mark = @lift(Point2f($x, $@lift(thetas[$x])))\n",
    "E_mark = @lift(Point2f($x, $@lift(Es[$x])))\n",
    "two_p_mark = @lift(Point2f($x, $@lift(two_ps[$x])))\n",
    "three_p_mark = @lift(Point2f($x, $@lift(three_ps[$x])))\n",
    "\n",
    "dgm_points_2 = @lift([Point2f(dgms[$x][2][i,1], dgms[$x][2][i,2]) for i in 1:size(dgms[$x][2])[1]])\n",
    "dgm_points_3 = @lift([Point2f(dgms[$x][3][i,1], dgms[$x][3][i,2]) for i in 1:size(dgms[$x][3])[1]])\n",
    "\n",
    "c1_points = @lift([Point3f(realizations[$x][1][i][1], realizations[$x][1][i][2], realizations[$x][1][i][3]) for i in 1:length(realizations[$x][1])])\n",
    "c2_points = @lift([Point3f(realizations[$x][2][i][1], realizations[$x][2][i][2], realizations[$x][2][i][3]) for i in 1:length(realizations[$x][2])])\n",
    "\n",
    "ms = 5\n",
    "scatter!(pd_ax_a, dgm_points_2, color = :orange, markersize = ms)\n",
    "lines!(pd_ax_a, [0, 100], [0, 100], color=:black)\n",
    "scatter!(pd_ax_b, dgm_points_3, color = :green, markersize = ms)\n",
    "lines!(pd_ax_b, [0, 100], [0, 100], color=:black)\n",
    "\n",
    "#contourf!(pd_hm_ax_a, dgm_points_2, levels = 10)\n",
    "#contourf!(pd_hm_ax_b, dgm_points_3, levels = 10)\n",
    "\n",
    "scatter!(tp_ax, xs, tps, color=:red, markersize = ms)\n",
    "scatter!(tp_ax, tp_mark, color = :black, markersize = 10)\n",
    "\n",
    "conf_ms = 10\n",
    "scatter!(conf_ax, c1_points, markersize = conf_ms)\n",
    "scatter!(conf_ax, c2_points, markersize = conf_ms)\n",
    "\n",
    "scatter!(theta_ax, xs, thetas, color=:magenta, markersize = ms)\n",
    "scatter!(theta_ax, theta_mark, color = :black, markersize = 10)\n",
    "\n",
    "scatter!(E_ax, xs, Es, color=:orange, markersize = ms)\n",
    "scatter!(E_ax, E_mark, color = :black, markersize = 10)\n",
    "\n",
    "scatter!(two_p_ax, xs, two_ps, color=:orange, markersize = ms)\n",
    "scatter!(two_p_ax, two_p_mark, color = :black, markersize = 10)\n",
    "\n",
    "scatter!(three_p_ax, xs, three_ps, color=:green, markersize = ms)\n",
    "scatter!(three_p_ax, three_p_mark, color = :black, markersize = 10)\n",
    "\n",
    "display(f)\n"
   ]
  }
 ],
 "metadata": {
  "kernelspec": {
   "display_name": "Julia Oineus 1.10.4",
   "language": "julia",
   "name": "julia-oineus-1.10"
  },
  "language_info": {
   "file_extension": ".jl",
   "mimetype": "application/julia",
   "name": "julia",
   "version": "1.10.4"
  }
 },
 "nbformat": 4,
 "nbformat_minor": 2
}
