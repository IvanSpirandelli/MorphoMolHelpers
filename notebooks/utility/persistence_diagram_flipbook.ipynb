{
 "cells": [
  {
   "cell_type": "code",
   "execution_count": 1,
   "metadata": {},
   "outputs": [
    {
     "name": "stderr",
     "output_type": "stream",
     "text": [
      "\u001b[32m\u001b[1m  Activating\u001b[22m\u001b[39m project at `~/Doktor/Code/MorphoMol/MorphoMolHelpers`\n",
      "\u001b[32m\u001b[1mPrecompiling\u001b[22m\u001b[39m GLMakie\n",
      "\u001b[33m\u001b[1m┌ \u001b[22m\u001b[39m\u001b[33m\u001b[1mWarning: \u001b[22m\u001b[39mattempting to remove probably stale pidfile\n",
      "\u001b[33m\u001b[1m│ \u001b[22m\u001b[39m  path = \"/Users/ivanspirandelli/.julia/compiled/v1.10/Makie/iZ1Bl_cwiIy.ji.pidfile\"\n",
      "\u001b[33m\u001b[1m└ \u001b[22m\u001b[39m\u001b[90m@ FileWatching.Pidfile ~/.julia/juliaup/julia-1.10.4+0.aarch64.apple.darwin14/share/julia/stdlib/v1.10/FileWatching/src/pidfile.jl:244\u001b[39m\n",
      "\u001b[32m  ✓ \u001b[39m\u001b[90mMakie\u001b[39m\n",
      "\u001b[32m  ✓ \u001b[39mGLMakie\n",
      "  2 dependencies successfully precompiled in 58 seconds. 239 already precompiled.\n",
      "\u001b[36m\u001b[1m[ \u001b[22m\u001b[39m\u001b[36m\u001b[1mInfo: \u001b[22m\u001b[39mPrecompiling GLMakie [e9467ef8-e4e7-5192-8a1a-b1aee30e663a]\n",
      "\u001b[32m\u001b[1mPrecompiling\u001b[22m\u001b[39m DistributionsTestExt\n",
      "\u001b[32m  ✓ \u001b[39m\u001b[90mDistributions → DistributionsTestExt\u001b[39m\n",
      "  1 dependency successfully precompiled in 7 seconds. 43 already precompiled.\n",
      "\u001b[36m\u001b[1m[ \u001b[22m\u001b[39m\u001b[36m\u001b[1mInfo: \u001b[22m\u001b[39mPrecompiling DistributionsTestExt [ffbe0ea5-a612-5ff7-aaf5-cac02eef3019]\n",
      "\u001b[33m\u001b[1m┌ \u001b[22m\u001b[39m\u001b[33m\u001b[1mWarning: \u001b[22m\u001b[39mModule Distributions with build ID fafbfcfd-c03e-36b5-0000-fd6c49c103b3 is missing from the cache.\n",
      "\u001b[33m\u001b[1m│ \u001b[22m\u001b[39mThis may mean Distributions [31c24e10-a181-5473-b8eb-7969acd0382f] does not support precompilation but is imported by a module that does.\n",
      "\u001b[33m\u001b[1m└ \u001b[22m\u001b[39m\u001b[90m@ Base loading.jl:1948\u001b[39m\n",
      "\u001b[36m\u001b[1m[ \u001b[22m\u001b[39m\u001b[36m\u001b[1mInfo: \u001b[22m\u001b[39mSkipping precompilation since __precompile__(false). Importing DistributionsTestExt [ffbe0ea5-a612-5ff7-aaf5-cac02eef3019].\n"
     ]
    }
   ],
   "source": [
    "import Pkg; \n",
    "\n",
    "cd(joinpath(@__DIR__, \"../../\"))\n",
    "Pkg.activate(\"Project.toml\")\n",
    "\n",
    "using MorphoMol\n",
    "using PyCall\n",
    "using JLD2\n",
    "using LinearAlgebra\n",
    "using Rotations\n",
    "using GLMakie"
   ]
  },
  {
   "cell_type": "code",
   "execution_count": 2,
   "metadata": {},
   "outputs": [
    {
     "data": {
      "text/plain": [
       "get_total_persistence (generic function with 1 method)"
      ]
     },
     "execution_count": 2,
     "metadata": {},
     "output_type": "execute_result"
    }
   ],
   "source": [
    "py\"\"\"\n",
    "import oineus as oin\n",
    "import numpy as np\n",
    "import torch\n",
    "import diode\n",
    "\n",
    "def get_diagram(points, dim):\n",
    "    points = np.asarray(points)\n",
    "    simplices = diode.fill_alpha_shapes(points)\n",
    "    fil = oin.Filtration_double([oin.Simplex_double(s[0], s[1]) for s in simplices])\n",
    "    # no cohomology\n",
    "    dualize = False\n",
    "    # create VRU decomposition object, does not perform reduction yet\n",
    "    dcmp = oin.Decomposition(fil, dualize)\n",
    "    rp = oin.ReductionParams()\n",
    "    rp.compute_u = rp.compute_v = True\n",
    "    rp.n_threads = 1\n",
    "    # perform reduction\n",
    "    dcmp.reduce(rp)\n",
    "    dgm_dim = dcmp.diagram(fil, include_inf_points=False)[dim]\n",
    "    return dgm_dim\n",
    "\"\"\"\n",
    "\n",
    "function get_diagram(points::Vector{Vector{Float64}}, dim::Int = 1)\n",
    "    py\"get_diagram\"(points, dim)\n",
    "end\n",
    "\n",
    "function get_total_persistence(dgm::Matrix{Float64})\n",
    "    sum(dgm[:,2] - dgm[:,1])\n",
    "end\n"
   ]
  },
  {
   "cell_type": "code",
   "execution_count": 3,
   "metadata": {},
   "outputs": [
    {
     "data": {
      "text/plain": [
       "txt_to_points (generic function with 1 method)"
      ]
     },
     "execution_count": 3,
     "metadata": {},
     "output_type": "execute_result"
    }
   ],
   "source": [
    "function txt_to_points(input_file)\n",
    "    [[parse(Float64, s) for s in split(p,\" \")] for p in readlines(input_file)[3:end]]\n",
    "end"
   ]
  },
  {
   "cell_type": "code",
   "execution_count": 4,
   "metadata": {},
   "outputs": [
    {
     "data": {
      "text/plain": [
       "get_thetas (generic function with 1 method)"
      ]
     },
     "execution_count": 4,
     "metadata": {},
     "output_type": "execute_result"
    }
   ],
   "source": [
    "function get_diagrams(folder)\n",
    "    files = readdir(folder)\n",
    "    n = length(files)\n",
    "    [get_diagram(txt_to_points(\"$(folder)$(i-1).txt\")) for i in 1:n]\n",
    "end\n",
    "\n",
    "function get_tps(dgms)\n",
    "    [get_total_persistence(dgm) for dgm in dgms]\n",
    "end\n",
    "\n",
    "function get_fsols(folder)\n",
    "    files = readdir(folder)\n",
    "    n = length(files)\n",
    "    [parse(Float64, split(readlines(\"$(folder)$(i-1).txt\")[2], \" \")[6]) for i in 1:n]\n",
    "end\n",
    "\n",
    "function get_thetas(folder)\n",
    "    files = readdir(folder)\n",
    "    n = length(files)\n",
    "    [parse(Float64, split(readlines(\"$(folder)$(i-1).txt\")[2], \" \")[7]) for i in 1:n]\n",
    "end"
   ]
  },
  {
   "cell_type": "code",
   "execution_count": 5,
   "metadata": {},
   "outputs": [
    {
     "data": {
      "text/plain": [
       "folder_of_txts_to_jld2_with_persistence_computation (generic function with 1 method)"
      ]
     },
     "execution_count": 5,
     "metadata": {},
     "output_type": "execute_result"
    }
   ],
   "source": [
    "function folder_of_txts_to_jld2_with_persistence_computation(folder)\n",
    "    mol_type = split(folder, \"/\")[end-2]\n",
    "    idx = split(folder, \"/\")[end-1]\n",
    "    dgms = get_diagrams(folder)\n",
    "    tps = get_tps(dgms)\n",
    "    fsols = get_fsols(folder)\n",
    "    thetas = get_thetas(folder)\n",
    "    @save \"../../Data/measure_paths/jld2s/$(mol_type)/$(idx).jld2\" dgms tps fsols thetas\n",
    "end"
   ]
  },
  {
   "cell_type": "code",
   "execution_count": 7,
   "metadata": {},
   "outputs": [],
   "source": [
    "# folder = \"../../Data/measure_paths/txts/6r7m/\"\n",
    "# for subdir in readdir(folder)\n",
    "#     if subdir != \".DS_Store\"\n",
    "#         folder_of_txts_to_jld2_with_persistence_computation(\"$(folder)$(subdir)/\")\n",
    "#     end\n",
    "# end"
   ]
  },
  {
   "cell_type": "code",
   "execution_count": 102,
   "metadata": {},
   "outputs": [],
   "source": [
    "# folder = \"../../Data/measure_paths/txts/6r7m/1/\"\n",
    "# dgms = get_diagrams(folder)\n",
    "# xs = [i for i in 1:length(dgms)]\n",
    "# tps = get_tps(dgms)\n",
    "# fsols = get_fsols(folder)\n",
    "# thetas = get_thetas(folder);\n",
    "\n",
    "@load \"../../Data/measure_paths/jld2s/6r7m/11.jld2\" dgms tps fsols thetas\n",
    "xs = [i for i in 1:length(dgms)];"
   ]
  },
  {
   "cell_type": "code",
   "execution_count": 105,
   "metadata": {},
   "outputs": [
    {
     "data": {
      "text/plain": [
       "GLMakie.Screen(...)"
      ]
     },
     "execution_count": 105,
     "metadata": {},
     "output_type": "execute_result"
    },
    {
     "ename": "",
     "evalue": "",
     "output_type": "error",
     "traceback": [
      "\u001b[1;31mThe Kernel crashed while executing code in the current cell or a previous cell. \n",
      "\u001b[1;31mPlease review the code in the cell(s) to identify a possible cause of the failure. \n",
      "\u001b[1;31mClick <a href='https://aka.ms/vscodeJupyterKernelCrash'>here</a> for more info. \n",
      "\u001b[1;31mView Jupyter <a href='command:jupyter.viewOutput'>log</a> for further details."
     ]
    }
   ],
   "source": [
    "f = Figure(fontsize = 7)\n",
    "pd_ax = Axis(f[1, 1:3], title = \"Persistence Diagram\")\n",
    "tp_ax = Axis(f[2, 1], title = \"Total Persistence\")\n",
    "theta_ax = Axis(f[2, 2], title = L\"\\Theta\")\n",
    "fsol_ax = Axis(f[2, 3], title = L\"F_{sol}\")\n",
    "\n",
    "sl_i = Slider(f[3, 1:3], range = 1:length(dgms), startvalue = 1)\n",
    "\n",
    "x = sl_i.value\n",
    "\n",
    "tp_mark = @lift(Point2f($x, $@lift(tps[$x])))\n",
    "theta_mark = @lift(Point2f($x, $@lift(thetas[$x])))\n",
    "fsol_mark = @lift(Point2f($x, $@lift(fsols[$x])))\n",
    "\n",
    "dgm_points = @lift([Point2f(dgms[$x][i,1], dgms[$x][i,2]) for i in 1:size(dgms[$x])[1]])\n",
    "\n",
    "ms = 5\n",
    "scatter!(pd_ax, dgm_points, markersize = ms)\n",
    "\n",
    "scatter!(tp_ax, xs, tps, color=:red, markersize = ms)\n",
    "scatter!(tp_ax, tp_mark, color = :black, markersize = 10)\n",
    "\n",
    "scatter!(theta_ax, xs, thetas, color=:magenta, markersize = ms)\n",
    "scatter!(theta_ax, theta_mark, color = :black, markersize = 10)\n",
    "\n",
    "scatter!(fsol_ax, xs, fsols, color=:orange, markersize = ms)\n",
    "scatter!(fsol_ax, fsol_mark, color = :black, markersize = 10)\n",
    "\n",
    "display(f)\n"
   ]
  },
  {
   "cell_type": "code",
   "execution_count": 34,
   "metadata": {},
   "outputs": [
    {
     "data": {
      "text/plain": [
       "get_coboundary_diagram (generic function with 2 methods)"
      ]
     },
     "execution_count": 34,
     "metadata": {},
     "output_type": "execute_result"
    }
   ],
   "source": [
    "py\"\"\"\n",
    "import oineus as oin\n",
    "import numpy as np\n",
    "import torch\n",
    "import diode\n",
    "\n",
    "def get_coboundary_diagram(points, n_atoms_per_mol):\n",
    "    points = np.asarray(points)\n",
    "    simplices = diode.fill_alpha_shapes(points)\n",
    "    fil = oin.Filtration_double([oin.Simplex_double(s[0], s[1]) for s in simplices])\n",
    "\n",
    "    def is_multi(sigma):\n",
    "        has_a = has_b = False\n",
    "        for v in sigma.vertices:\n",
    "            if v < n_atoms_per_mol:\n",
    "                has_a = True\n",
    "            else:\n",
    "                has_b = True\n",
    "        return has_a and has_b\n",
    "\n",
    "\n",
    "    cb_m = fil.coboundary_matrix()\n",
    "    m = [cb_m[i] for i, sigma in enumerate(fil.cells()) if is_multi(sigma) ]\n",
    "    # second argument: number of rows\n",
    "    dcmp = oin.Decomposition(m, fil.size())\n",
    "    params = oin.ReductionParams()\n",
    "    params.clearing_opt = False\n",
    "    dcmp.reduce(params)\n",
    "    dgm = dcmp.diagram(fil, include_inf_points=False)\n",
    "    return dgm[1], dgm[2]\n",
    "\"\"\"\n",
    "\n",
    "function get_coboundary_diagram(points, n_atoms_per_mol)\n",
    "    py\"get_coboundary_diagram\"(points, n_atoms_per_mol)\n",
    "end"
   ]
  },
  {
   "cell_type": "code",
   "execution_count": 32,
   "metadata": {},
   "outputs": [
    {
     "data": {
      "text/plain": [
       "1206"
      ]
     },
     "execution_count": 32,
     "metadata": {},
     "output_type": "execute_result"
    }
   ],
   "source": [
    "@load \"../../Data/jld2/single_subunits/6r7m_protor.jld2\" template_mol template_radii x_init\n",
    "n = length(template_radii)"
   ]
  },
  {
   "cell_type": "code",
   "execution_count": 40,
   "metadata": {},
   "outputs": [
    {
     "data": {
      "text/plain": [
       "268×2 Matrix{Float64}:\n",
       "     0.373773  0.0\n",
       "     0.374311  0.0\n",
       "     0.37465   0.0\n",
       "     0.375309  0.0\n",
       "     0.377275  0.0\n",
       "     0.377684  0.0\n",
       "     0.377684  0.0\n",
       "     0.378112  0.0\n",
       "     0.376807  0.0\n",
       "     0.378722  0.0\n",
       "     0.378722  0.0\n",
       "     0.378873  0.0\n",
       "     0.378892  0.0\n",
       "     ⋮         \n",
       "   154.638     0.0\n",
       "   168.614     0.0\n",
       "   179.706     0.0\n",
       "   182.744     0.0\n",
       "   198.323     0.0\n",
       "   240.791     0.0\n",
       "  2836.32      0.0\n",
       "  3213.39      0.0\n",
       "  4020.97      0.0\n",
       "  4050.56      0.0\n",
       " 54533.0       0.0\n",
       " 59696.2       0.0"
      ]
     },
     "execution_count": 40,
     "metadata": {},
     "output_type": "execute_result"
    }
   ],
   "source": [
    "txt = \"../../Data/measure_paths/txts/6r7m/1/0.txt\"\n",
    "dgm1, dgm2 = get_coboundary_diagram(txt_to_points(txt), n)\n",
    "dgm1"
   ]
  }
 ],
 "metadata": {
  "kernelspec": {
   "display_name": "Julia oineus 1.10.4",
   "language": "julia",
   "name": "julia-oineus-1.10"
  },
  "language_info": {
   "file_extension": ".jl",
   "mimetype": "application/julia",
   "name": "julia",
   "version": "1.10.4"
  }
 },
 "nbformat": 4,
 "nbformat_minor": 2
}
