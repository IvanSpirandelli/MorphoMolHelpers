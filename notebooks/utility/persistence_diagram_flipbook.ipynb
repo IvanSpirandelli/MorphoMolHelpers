{
 "cells": [
  {
   "cell_type": "code",
   "execution_count": 1,
   "metadata": {},
   "outputs": [
    {
     "name": "stderr",
     "output_type": "stream",
     "text": [
      "\u001b[32m\u001b[1m  Activating\u001b[22m\u001b[39m project at `~/Doktor/Code/MorphoMol/MorphoMolNotebooks`\n",
      "\u001b[32m\u001b[1mPrecompiling\u001b[22m\u001b[39m MorphoMol\n",
      "\u001b[32m  ✓ \u001b[39mMorphoMol\n",
      "  1 dependency successfully precompiled in 3 seconds. 243 already precompiled.\n",
      "\u001b[36m\u001b[1m[ \u001b[22m\u001b[39m\u001b[36m\u001b[1mInfo: \u001b[22m\u001b[39mPrecompiling MorphoMol [85e20460-a9b2-48f6-9df6-e154e9748d83]\n",
      "\u001b[32m\u001b[1mPrecompiling\u001b[22m\u001b[39m GLMakie\n",
      "\u001b[32m  ✓ \u001b[39m\u001b[90mMeshIO\u001b[39m\n",
      "\u001b[32m  ✓ \u001b[39m\u001b[90mDistributions → DistributionsChainRulesCoreExt\u001b[39m\n",
      "\u001b[32m  ✓ \u001b[39m\u001b[90mKernelDensity\u001b[39m\n",
      "\u001b[32m  ✓ \u001b[39m\u001b[90mMakie\u001b[39m\n",
      "\u001b[32m  ✓ \u001b[39mGLMakie\n",
      "  5 dependencies successfully precompiled in 60 seconds. 236 already precompiled.\n",
      "\u001b[36m\u001b[1m[ \u001b[22m\u001b[39m\u001b[36m\u001b[1mInfo: \u001b[22m\u001b[39mPrecompiling GLMakie [e9467ef8-e4e7-5192-8a1a-b1aee30e663a]\n",
      "\u001b[33m\u001b[1m┌ \u001b[22m\u001b[39m\u001b[33m\u001b[1mWarning: \u001b[22m\u001b[39mModule Distributions with build ID fafbfcfd-1ae4-ac42-0000-13a9f4fb4aae is missing from the cache.\n",
      "\u001b[33m\u001b[1m│ \u001b[22m\u001b[39mThis may mean Distributions [31c24e10-a181-5473-b8eb-7969acd0382f] does not support precompilation but is imported by a module that does.\n",
      "\u001b[33m\u001b[1m└ \u001b[22m\u001b[39m\u001b[90m@ Base loading.jl:1948\u001b[39m\n",
      "\u001b[36m\u001b[1m[ \u001b[22m\u001b[39m\u001b[36m\u001b[1mInfo: \u001b[22m\u001b[39mSkipping precompilation since __precompile__(false). Importing GLMakie [e9467ef8-e4e7-5192-8a1a-b1aee30e663a].\n",
      "\u001b[32m\u001b[1mPrecompiling\u001b[22m\u001b[39m Makie\n",
      "\u001b[32m  ✓ \u001b[39m\u001b[90mGridLayoutBase\u001b[39m\n",
      "\u001b[32m  ✓ \u001b[39m\u001b[90mMakie\u001b[39m\n",
      "  2 dependencies successfully precompiled in 44 seconds. 218 already precompiled.\n",
      "\u001b[36m\u001b[1m[ \u001b[22m\u001b[39m\u001b[36m\u001b[1mInfo: \u001b[22m\u001b[39mPrecompiling Makie [ee78f7c6-11fb-53f2-987a-cfe4a2b5a57a]\n",
      "\u001b[33m\u001b[1m┌ \u001b[22m\u001b[39m\u001b[33m\u001b[1mWarning: \u001b[22m\u001b[39mModule GeometryBasics with build ID fafbfcfd-02f1-0a88-0000-13ba747107f3 is missing from the cache.\n",
      "\u001b[33m\u001b[1m│ \u001b[22m\u001b[39mThis may mean GeometryBasics [5c1252a2-5f33-56bf-86c9-59e7332b4326] does not support precompilation but is imported by a module that does.\n",
      "\u001b[33m\u001b[1m└ \u001b[22m\u001b[39m\u001b[90m@ Base loading.jl:1948\u001b[39m\n",
      "\u001b[36m\u001b[1m[ \u001b[22m\u001b[39m\u001b[36m\u001b[1mInfo: \u001b[22m\u001b[39mSkipping precompilation since __precompile__(false). Importing Makie [ee78f7c6-11fb-53f2-987a-cfe4a2b5a57a].\n",
      "\u001b[36m\u001b[1m[ \u001b[22m\u001b[39m\u001b[36m\u001b[1mInfo: \u001b[22m\u001b[39mPrecompiling MathTeXEngine [0a4f8689-d25c-4efe-a92b-7142dfc1aa53]\n",
      "\u001b[33m\u001b[1m┌ \u001b[22m\u001b[39m\u001b[33m\u001b[1mWarning: \u001b[22m\u001b[39mModule GeometryBasics with build ID fafbfcfd-02f1-0a88-0000-13ba747107f3 is missing from the cache.\n",
      "\u001b[33m\u001b[1m│ \u001b[22m\u001b[39mThis may mean GeometryBasics [5c1252a2-5f33-56bf-86c9-59e7332b4326] does not support precompilation but is imported by a module that does.\n",
      "\u001b[33m\u001b[1m└ \u001b[22m\u001b[39m\u001b[90m@ Base loading.jl:1948\u001b[39m\n",
      "\u001b[36m\u001b[1m[ \u001b[22m\u001b[39m\u001b[36m\u001b[1mInfo: \u001b[22m\u001b[39mSkipping precompilation since __precompile__(false). Importing MathTeXEngine [0a4f8689-d25c-4efe-a92b-7142dfc1aa53].\n",
      "\u001b[36m\u001b[1m[ \u001b[22m\u001b[39m\u001b[36m\u001b[1mInfo: \u001b[22m\u001b[39mPrecompiling FreeTypeAbstraction [663a7486-cb36-511b-a19d-713bb74d65c9]\n",
      "\u001b[33m\u001b[1m┌ \u001b[22m\u001b[39m\u001b[33m\u001b[1mWarning: \u001b[22m\u001b[39mModule GeometryBasics with build ID fafbfcfd-02f1-0a88-0000-13ba747107f3 is missing from the cache.\n",
      "\u001b[33m\u001b[1m│ \u001b[22m\u001b[39mThis may mean GeometryBasics [5c1252a2-5f33-56bf-86c9-59e7332b4326] does not support precompilation but is imported by a module that does.\n",
      "\u001b[33m\u001b[1m└ \u001b[22m\u001b[39m\u001b[90m@ Base loading.jl:1948\u001b[39m\n",
      "\u001b[36m\u001b[1m[ \u001b[22m\u001b[39m\u001b[36m\u001b[1mInfo: \u001b[22m\u001b[39mSkipping precompilation since __precompile__(false). Importing FreeTypeAbstraction [663a7486-cb36-511b-a19d-713bb74d65c9].\n",
      "\u001b[36m\u001b[1m[ \u001b[22m\u001b[39m\u001b[36m\u001b[1mInfo: \u001b[22m\u001b[39mPrecompiling FFMPEG_jll [b22a6f82-2f65-5046-a5b2-351ab43fb4e5]\n",
      "\u001b[36m\u001b[1m[ \u001b[22m\u001b[39m\u001b[36m\u001b[1mInfo: \u001b[22m\u001b[39mPrecompiling Packing [19eb6ba3-879d-56ad-ad62-d5c202156566]\n",
      "\u001b[33m\u001b[1m┌ \u001b[22m\u001b[39m\u001b[33m\u001b[1mWarning: \u001b[22m\u001b[39mModule GeometryBasics with build ID fafbfcfd-02f1-0a88-0000-13ba747107f3 is missing from the cache.\n",
      "\u001b[33m\u001b[1m│ \u001b[22m\u001b[39mThis may mean GeometryBasics [5c1252a2-5f33-56bf-86c9-59e7332b4326] does not support precompilation but is imported by a module that does.\n",
      "\u001b[33m\u001b[1m└ \u001b[22m\u001b[39m\u001b[90m@ Base loading.jl:1948\u001b[39m\n",
      "\u001b[36m\u001b[1m[ \u001b[22m\u001b[39m\u001b[36m\u001b[1mInfo: \u001b[22m\u001b[39mSkipping precompilation since __precompile__(false). Importing Packing [19eb6ba3-879d-56ad-ad62-d5c202156566].\n",
      "\u001b[36m\u001b[1m[ \u001b[22m\u001b[39m\u001b[36m\u001b[1mInfo: \u001b[22m\u001b[39mPrecompiling MakieCore [20f20a25-4f0e-4fdf-b5d1-57303727442b]\n",
      "\u001b[33m\u001b[1m┌ \u001b[22m\u001b[39m\u001b[33m\u001b[1mWarning: \u001b[22m\u001b[39mModule GeometryBasics with build ID fafbfcfd-02f1-0a88-0000-13ba747107f3 is missing from the cache.\n",
      "\u001b[33m\u001b[1m│ \u001b[22m\u001b[39mThis may mean GeometryBasics [5c1252a2-5f33-56bf-86c9-59e7332b4326] does not support precompilation but is imported by a module that does.\n",
      "\u001b[33m\u001b[1m└ \u001b[22m\u001b[39m\u001b[90m@ Base loading.jl:1948\u001b[39m\n",
      "\u001b[36m\u001b[1m[ \u001b[22m\u001b[39m\u001b[36m\u001b[1mInfo: \u001b[22m\u001b[39mSkipping precompilation since __precompile__(false). Importing MakieCore [20f20a25-4f0e-4fdf-b5d1-57303727442b].\n",
      "\u001b[36m\u001b[1m[ \u001b[22m\u001b[39m\u001b[36m\u001b[1mInfo: \u001b[22m\u001b[39mPrecompiling ShaderAbstractions [65257c39-d410-5151-9873-9b3e5be5013e]\n",
      "\u001b[33m\u001b[1m┌ \u001b[22m\u001b[39m\u001b[33m\u001b[1mWarning: \u001b[22m\u001b[39mModule GeometryBasics with build ID fafbfcfd-02f1-0a88-0000-13ba747107f3 is missing from the cache.\n",
      "\u001b[33m\u001b[1m│ \u001b[22m\u001b[39mThis may mean GeometryBasics [5c1252a2-5f33-56bf-86c9-59e7332b4326] does not support precompilation but is imported by a module that does.\n",
      "\u001b[33m\u001b[1m└ \u001b[22m\u001b[39m\u001b[90m@ Base loading.jl:1948\u001b[39m\n",
      "\u001b[36m\u001b[1m[ \u001b[22m\u001b[39m\u001b[36m\u001b[1mInfo: \u001b[22m\u001b[39mSkipping precompilation since __precompile__(false). Importing ShaderAbstractions [65257c39-d410-5151-9873-9b3e5be5013e].\n",
      "\u001b[36m\u001b[1m[ \u001b[22m\u001b[39m\u001b[36m\u001b[1mInfo: \u001b[22m\u001b[39mPrecompiling KernelDensity [5ab0869b-81aa-558d-bb23-cbf5423bbe9b]\n",
      "\u001b[33m\u001b[1m┌ \u001b[22m\u001b[39m\u001b[33m\u001b[1mWarning: \u001b[22m\u001b[39mModule Distributions with build ID fafbfcfd-1ae4-ac42-0000-13a9f4fb4aae is missing from the cache.\n",
      "\u001b[33m\u001b[1m│ \u001b[22m\u001b[39mThis may mean Distributions [31c24e10-a181-5473-b8eb-7969acd0382f] does not support precompilation but is imported by a module that does.\n",
      "\u001b[33m\u001b[1m└ \u001b[22m\u001b[39m\u001b[90m@ Base loading.jl:1948\u001b[39m\n",
      "\u001b[36m\u001b[1m[ \u001b[22m\u001b[39m\u001b[36m\u001b[1mInfo: \u001b[22m\u001b[39mSkipping precompilation since __precompile__(false). Importing KernelDensity [5ab0869b-81aa-558d-bb23-cbf5423bbe9b].\n",
      "\u001b[36m\u001b[1m[ \u001b[22m\u001b[39m\u001b[36m\u001b[1mInfo: \u001b[22m\u001b[39mPrecompiling DistributionsChainRulesCoreExt [6db1f127-056a-568b-bd49-ae61d42389fa]\n",
      "\u001b[33m\u001b[1m┌ \u001b[22m\u001b[39m\u001b[33m\u001b[1mWarning: \u001b[22m\u001b[39mModule Distributions with build ID fafbfcfd-1ae4-ac42-0000-13a9f4fb4aae is missing from the cache.\n",
      "\u001b[33m\u001b[1m│ \u001b[22m\u001b[39mThis may mean Distributions [31c24e10-a181-5473-b8eb-7969acd0382f] does not support precompilation but is imported by a module that does.\n",
      "\u001b[33m\u001b[1m└ \u001b[22m\u001b[39m\u001b[90m@ Base loading.jl:1948\u001b[39m\n",
      "\u001b[36m\u001b[1m[ \u001b[22m\u001b[39m\u001b[36m\u001b[1mInfo: \u001b[22m\u001b[39mSkipping precompilation since __precompile__(false). Importing DistributionsChainRulesCoreExt [6db1f127-056a-568b-bd49-ae61d42389fa].\n",
      "\u001b[36m\u001b[1m[ \u001b[22m\u001b[39m\u001b[36m\u001b[1mInfo: \u001b[22m\u001b[39mPrecompiling FFTW [7a1cc6ca-52ef-59f5-83cd-3a7055c09341]\n",
      "\u001b[36m\u001b[1m[ \u001b[22m\u001b[39m\u001b[36m\u001b[1mInfo: \u001b[22m\u001b[39mPrecompiling GridLayoutBase [3955a311-db13-416c-9275-1d80ed98e5e9]\n",
      "\u001b[33m\u001b[1m┌ \u001b[22m\u001b[39m\u001b[33m\u001b[1mWarning: \u001b[22m\u001b[39mModule GeometryBasics with build ID fafbfcfd-02f1-0a88-0000-13ba747107f3 is missing from the cache.\n",
      "\u001b[33m\u001b[1m│ \u001b[22m\u001b[39mThis may mean GeometryBasics [5c1252a2-5f33-56bf-86c9-59e7332b4326] does not support precompilation but is imported by a module that does.\n",
      "\u001b[33m\u001b[1m└ \u001b[22m\u001b[39m\u001b[90m@ Base loading.jl:1948\u001b[39m\n",
      "\u001b[36m\u001b[1m[ \u001b[22m\u001b[39m\u001b[36m\u001b[1mInfo: \u001b[22m\u001b[39mSkipping precompilation since __precompile__(false). Importing GridLayoutBase [3955a311-db13-416c-9275-1d80ed98e5e9].\n"
     ]
    }
   ],
   "source": [
    "import Pkg; \n",
    "\n",
    "cd(joinpath(@__DIR__, \"../../\"))\n",
    "Pkg.activate(\"Project.toml\")\n",
    "\n",
    "using MorphoMol\n",
    "using PyCall\n",
    "using JLD2\n",
    "using LinearAlgebra\n",
    "using NearestNeighbors\n",
    "using Rotations\n",
    "using GLMakie"
   ]
  },
  {
   "cell_type": "code",
   "execution_count": 2,
   "metadata": {},
   "outputs": [
    {
     "data": {
      "text/plain": [
       "txt_to_points (generic function with 1 method)"
      ]
     },
     "execution_count": 2,
     "metadata": {},
     "output_type": "execute_result"
    }
   ],
   "source": [
    "function get_tps(dgms)\n",
    "    [MorphoMol.Energies.get_total_persistence(dgm) for dgm in dgms]\n",
    "end\n",
    "    \n",
    "function get_fsols(folder)\n",
    "    files = readdir(folder)\n",
    "    n = length(files)\n",
    "    [parse(Float64, split(readlines(\"$(folder)$(i-1).txt\")[2], \" \")[6]) for i in 1:n]\n",
    "end\n",
    "\n",
    "function get_thetas(folder)\n",
    "    files = readdir(folder)\n",
    "    n = length(files)\n",
    "    [parse(Float64, split(readlines(\"$(folder)$(i-1).txt\")[2], \" \")[7]) for i in 1:n]\n",
    "end\n",
    "\n",
    "function txt_to_points(input_file)\n",
    "    [[parse(Float64, s) for s in split(p,\" \")] for p in readlines(input_file)[3:end]]\n",
    "end"
   ]
  },
  {
   "cell_type": "code",
   "execution_count": 3,
   "metadata": {},
   "outputs": [
    {
     "data": {
      "text/plain": [
       "get_configurations_from_folder (generic function with 1 method)"
      ]
     },
     "execution_count": 3,
     "metadata": {},
     "output_type": "execute_result"
    }
   ],
   "source": [
    "function get_configurations_from_folder(folder)\n",
    "    files = readdir(folder)\n",
    "    realizations = [Vector{Vector{Vector{Float64}}}([]) for i in 1:length(files)]\n",
    "    for file in readdir(folder)\n",
    "        centers = txt_to_points(\"$(folder)$(file)\")\n",
    "        n_atoms_per_mol = Int(length(centers) / 2)\n",
    "        c1 = centers[1:n_atoms_per_mol]\n",
    "        c2 = centers[n_atoms_per_mol+1:end]\n",
    "        realizations[parse(Int, split(file, \".\")[1]) + 1] = [c1, c2]\n",
    "    end\n",
    "    realizations\n",
    "end"
   ]
  },
  {
   "cell_type": "code",
   "execution_count": 4,
   "metadata": {},
   "outputs": [
    {
     "data": {
      "text/plain": [
       "folder_of_txts_to_jld2_with_persistence_computation (generic function with 1 method)"
      ]
     },
     "execution_count": 4,
     "metadata": {},
     "output_type": "execute_result"
    }
   ],
   "source": [
    "function folder_of_txts_to_jld2_with_persistence_computation(folder)\n",
    "    mol_type = split(folder, \"/\")[end-2]\n",
    "    idx = split(folder, \"/\")[end-1]\n",
    "    py_dgms = MorphoMol.Energies.get_interface_diagrams(folder)\n",
    "    dgms = [[dgm[1], dgm[2], dgm[3], dgm[4]] for dgm in py_dgms]\n",
    "    tps = get_tps(dgms)\n",
    "    Es = get_fsols(folder)\n",
    "    thetas = get_thetas(folder)\n",
    "    realizations = get_configurations_from_folder(folder)\n",
    "    @save \"../../Data/measure_paths/jld2s/$(mol_type)/$(idx).jld2\" dgms tps Es thetas realizations\n",
    "end"
   ]
  },
  {
   "cell_type": "code",
   "execution_count": 75,
   "metadata": {},
   "outputs": [],
   "source": [
    "# folder = \"../../Data/measure_paths/txts/6r7m/\"\n",
    "# for subdir in readdir(folder)\n",
    "#     if subdir != \".DS_Store\"\n",
    "#         folder_of_txts_to_jld2_with_persistence_computation(\"$(folder)$(subdir)/\")\n",
    "#     end\n",
    "# end\n",
    "\n",
    "# folder = \"../../Data/measure_paths/txts/6r7m/1/\"\n",
    "# dgms = get_interface_diagrams(folder)\n",
    "# xs = [i for i in 1:length(dgms)]\n",
    "# dgms_selection = [[dgm[2]; dgm[3]] for dgm in dgms]\n",
    "# tps = get_tps(dgms_selection)\n",
    "# Es = get_fsols(folder)\n",
    "# thetas = get_thetas(folder);"
   ]
  },
  {
   "cell_type": "code",
   "execution_count": 10,
   "metadata": {},
   "outputs": [],
   "source": [
    "@load \"../../Data/measure_paths/jld2s/6r7m/19.jld2\" dgms tps Es thetas realizations\n",
    "#tps = [get_total_persistence(dim_dgms, -0.1) for dim_dgms in dgms] #Recalculating due to weights!\n",
    "tps = get_tps(dgms)\n",
    "xs = [i for i in 1:length(dgms)];"
   ]
  },
  {
   "cell_type": "code",
   "execution_count": 11,
   "metadata": {},
   "outputs": [],
   "source": [
    "@load \"../../Data/measure_paths/jld2s/6r7m/19.jld2\" dgms tps Es thetas realizations\n",
    "#tps = [get_total_persistence(dim_dgms, -0.1) for dim_dgms in dgms] #Recalculating due to weights!\n",
    "tps = get_tps(dgms)\n",
    "xs = [i for i in 1:length(dgms)];\n",
    "two_ps = [MorphoMol.Energies.get_persistence(dgm[2], -0.1) for dgm in dgms]\n",
    "three_ps = [MorphoMol.Energies.get_persistence(dgm[3], -0.1) for dgm in dgms]\n",
    "tps = [MorphoMol.Energies.get_total_persistence(dgm, -0.1) for dgm in dgms];"
   ]
  },
  {
   "cell_type": "code",
   "execution_count": 12,
   "metadata": {},
   "outputs": [
    {
     "data": {
      "text/plain": [
       "get_density_from_dgm (generic function with 2 methods)"
      ]
     },
     "execution_count": 12,
     "metadata": {},
     "output_type": "execute_result"
    }
   ],
   "source": [
    "# SLOWS DOWN VISUALIZATION SUBSTANTIALLY WHEN INCLUDED.\n",
    "\n",
    "# function get_density_from_dgm(xs,ys,dgm,search_radius = 5.0)\n",
    "#     tree = KDTree(transpose(dgm))\n",
    "#     [length(inrange(tree, [x, y], search_radius)) for x in xs, y in ys]\n",
    "# end\n",
    "\n",
    "# #Persistence Heatmaps \n",
    "# pd_hm_ax_a = Axis(f[2, 1], title = \"Persistence codim = 2\")\n",
    "# pd_hm_ax_b = Axis(f[2, 2], title = \"Persistence codim = 3\")\n",
    "\n",
    "# sr = 0.5\n",
    "# hs = [e for e in 0.0:0.25:25.0]\n",
    "# vs = [e for e in 0.0:0.25:25.0]\n",
    "# hm_a = @lift([get_density_from_dgm(hs, vs, dim_dgms[2], sr) for dim_dgms in dgms][$x])\n",
    "# hm_b = @lift([get_density_from_dgm(hs, vs, dim_dgms[3], sr) for dim_dgms in dgms][$x])\n",
    "\n",
    "# contourf!(pd_hm_ax_a, hs, vs, hm_a, levels = 10)\n",
    "# contourf!(pd_hm_ax_b, hs, vs, hm_b, levels = 10)"
   ]
  },
  {
   "cell_type": "code",
   "execution_count": 17,
   "metadata": {},
   "outputs": [
    {
     "data": {
      "text/plain": [
       "GLMakie.Screen(...)"
      ]
     },
     "execution_count": 17,
     "metadata": {},
     "output_type": "execute_result"
    }
   ],
   "source": [
    "f = Figure(fontsize = 7)\n",
    "\n",
    "#Slider\n",
    "sl_i = Slider(f[4, 1:4], range = 1:length(dgms), startvalue = 1)\n",
    "x = sl_i.value\n",
    "\n",
    "# Persistence Diagrams\n",
    "pd_ax_a = Axis(f[1, 1], title = \"Persistence codim = 2\", xticks = 0:25:100, yticks = 0:25:100)\n",
    "pd_ax_b = Axis(f[1, 2], title = \"Persistence codim = 3\", xticks = 0:25:100, yticks = 0:25:100)\n",
    "dgm_points_2 = @lift([Point2f(dgms[$x][2][i,1], dgms[$x][2][i,2]) for i in 1:size(dgms[$x][2])[1]])\n",
    "dgm_points_3 = @lift([Point2f(dgms[$x][3][i,1], dgms[$x][3][i,2]) for i in 1:size(dgms[$x][3])[1]])\n",
    "\n",
    "ms = 5\n",
    "scatter!(pd_ax_a, dgm_points_2, color = :orange, markersize = ms)\n",
    "lines!(pd_ax_a, [0, 100], [0, 100], color=:black)\n",
    "scatter!(pd_ax_b, dgm_points_3, color = :green, markersize = ms)\n",
    "lines!(pd_ax_b, [0, 100], [0, 100], color=:black)\n",
    "\n",
    "#Energy and Theta\n",
    "theta_ax = Axis(f[2, 1], title = L\"\\Theta\")\n",
    "E_ax = Axis(f[2, 2], title = L\"F_{sol}\")\n",
    "\n",
    "theta_mark = @lift(Point2f($x, $@lift(thetas[$x])))\n",
    "E_mark = @lift(Point2f($x, $@lift(Es[$x])))\n",
    "\n",
    "scatter!(theta_ax, xs, thetas, color=:magenta, markersize = ms)\n",
    "scatter!(theta_ax, theta_mark, color=:black, markersize = 10)\n",
    "\n",
    "scatter!(E_ax, xs, Es, color=:blue, markersize = ms)\n",
    "scatter!(E_ax, E_mark, color=:black, markersize = 10)\n",
    "\n",
    "\n",
    "# Configuration\n",
    "conf_ax = Axis3(f[1:2, 3:4])\n",
    "c1_points = @lift([Point3f(realizations[$x][1][i][1], realizations[$x][1][i][2], realizations[$x][1][i][3]) for i in 1:length(realizations[$x][1])])\n",
    "c2_points = @lift([Point3f(realizations[$x][2][i][1], realizations[$x][2][i][2], realizations[$x][2][i][3]) for i in 1:length(realizations[$x][2])])\n",
    "\n",
    "conf_ms = 10\n",
    "scatter!(conf_ax, c1_points, markersize = conf_ms)\n",
    "scatter!(conf_ax, c2_points, markersize = conf_ms)\n",
    "\n",
    "#Persistence Measures\n",
    "two_p_ax = Axis(f[3, 1], title = \"codim 2 persistence\")\n",
    "three_p_ax = Axis(f[3, 2], title = \"codim 3 persistence\")\n",
    "tp_ax = Axis(f[3, 3], title = \"Total Persistence\")\n",
    "\n",
    "tp_mark = @lift(Point2f($x, $@lift(tps[$x])))\n",
    "two_p_mark = @lift(Point2f($x, $@lift(two_ps[$x])))\n",
    "three_p_mark = @lift(Point2f($x, $@lift(three_ps[$x])))\n",
    "\n",
    "scatter!(tp_ax, xs, tps, color=:red, markersize = ms)\n",
    "scatter!(tp_ax, tp_mark, color = :black, markersize = 10)\n",
    "\n",
    "scatter!(two_p_ax, xs, two_ps, color=:orange, markersize = ms)\n",
    "scatter!(two_p_ax, two_p_mark, color=:black, markersize = 10)\n",
    "\n",
    "scatter!(three_p_ax, xs, three_ps, color=:green, markersize = ms)\n",
    "scatter!(three_p_ax, three_p_mark, color=:black, markersize = 10)\n",
    "\n",
    "display(f)\n"
   ]
  }
 ],
 "metadata": {
  "kernelspec": {
   "display_name": "Julia Oineus 1.10.4",
   "language": "julia",
   "name": "julia-oineus-1.10"
  },
  "language_info": {
   "file_extension": ".jl",
   "mimetype": "application/julia",
   "name": "julia",
   "version": "1.10.4"
  }
 },
 "nbformat": 4,
 "nbformat_minor": 2
}
