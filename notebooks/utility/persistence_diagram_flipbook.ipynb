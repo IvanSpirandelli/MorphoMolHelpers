{
 "cells": [
  {
   "cell_type": "code",
   "execution_count": 1,
   "metadata": {},
   "outputs": [
    {
     "name": "stderr",
     "output_type": "stream",
     "text": [
      "\u001b[32m\u001b[1m  Activating\u001b[22m\u001b[39m project at `~/Doktor/Code/MorphoMol/MorphoMolHelpers`\n",
      "\u001b[36m\u001b[1m[ \u001b[22m\u001b[39m\u001b[36m\u001b[1mInfo: \u001b[22m\u001b[39mPrecompiling MorphoMol [85e20460-a9b2-48f6-9df6-e154e9748d83]\n",
      "\u001b[36m\u001b[1m[ \u001b[22m\u001b[39m\u001b[36m\u001b[1mInfo: \u001b[22m\u001b[39mPrecompiling GLMakie [e9467ef8-e4e7-5192-8a1a-b1aee30e663a]\n",
      "\u001b[32m\u001b[1mPrecompiling\u001b[22m\u001b[39m DistributionsTestExt\n",
      "\u001b[32m  ✓ \u001b[39m\u001b[90mDistributions → DistributionsTestExt\u001b[39m\n",
      "  1 dependency successfully precompiled in 5 seconds. 43 already precompiled.\n",
      "\u001b[36m\u001b[1m[ \u001b[22m\u001b[39m\u001b[36m\u001b[1mInfo: \u001b[22m\u001b[39mPrecompiling DistributionsTestExt [ffbe0ea5-a612-5ff7-aaf5-cac02eef3019]\n",
      "\u001b[33m\u001b[1m┌ \u001b[22m\u001b[39m\u001b[33m\u001b[1mWarning: \u001b[22m\u001b[39mModule Distributions with build ID fafbfcfd-03ee-2362-0000-a5b5316b58ab is missing from the cache.\n",
      "\u001b[33m\u001b[1m│ \u001b[22m\u001b[39mThis may mean Distributions [31c24e10-a181-5473-b8eb-7969acd0382f] does not support precompilation but is imported by a module that does.\n",
      "\u001b[33m\u001b[1m└ \u001b[22m\u001b[39m\u001b[90m@ Base loading.jl:1948\u001b[39m\n",
      "\u001b[36m\u001b[1m[ \u001b[22m\u001b[39m\u001b[36m\u001b[1mInfo: \u001b[22m\u001b[39mSkipping precompilation since __precompile__(false). Importing DistributionsTestExt [ffbe0ea5-a612-5ff7-aaf5-cac02eef3019].\n"
     ]
    }
   ],
   "source": [
    "import Pkg; \n",
    "\n",
    "cd(joinpath(@__DIR__, \"../../\"))\n",
    "Pkg.activate(\"Project.toml\")\n",
    "\n",
    "using MorphoMol\n",
    "\n",
    "using PyCall\n",
    "using JLD2\n",
    "using LinearAlgebra\n",
    "using Rotations\n",
    "using GLMakie"
   ]
  },
  {
   "cell_type": "code",
   "execution_count": 19,
   "metadata": {},
   "outputs": [
    {
     "data": {
      "text/plain": [
       "get_total_persistence (generic function with 1 method)"
      ]
     },
     "execution_count": 19,
     "metadata": {},
     "output_type": "execute_result"
    }
   ],
   "source": [
    "py\"\"\"\n",
    "import oineus as oin\n",
    "import numpy as np\n",
    "import torch\n",
    "import diode\n",
    "\n",
    "def get_diagram(points, dim):\n",
    "    points = np.asarray(points)\n",
    "    simplices = diode.fill_alpha_shapes(points)\n",
    "    fil = oin.Filtration_double([oin.Simplex_double(s[0], s[1]) for s in simplices])\n",
    "    # no cohomology\n",
    "    dualize = False\n",
    "    # create VRU decomposition object, does not perform reduction yet\n",
    "    dcmp = oin.Decomposition(fil, dualize)\n",
    "    rp = oin.ReductionParams()\n",
    "    rp.compute_u = rp.compute_v = True\n",
    "    rp.n_threads = 1\n",
    "    # perform reduction\n",
    "    dcmp.reduce(rp)\n",
    "    dgm_dim = dcmp.diagram(fil, include_inf_points=False)[dim]\n",
    "    return dgm_dim\n",
    "\"\"\"\n",
    "\n",
    "function get_diagram(points::Vector{Vector{Float64}}, dim::Int = 1)\n",
    "    py\"get_diagram\"(points, dim)\n",
    "end\n",
    "\n",
    "function get_total_persistence(dgm::Matrix{Float64})\n",
    "    sum(dgm[:,2] - dgm[:,1])\n",
    "end\n"
   ]
  },
  {
   "cell_type": "code",
   "execution_count": 12,
   "metadata": {},
   "outputs": [
    {
     "data": {
      "text/plain": [
       "txt_to_points (generic function with 1 method)"
      ]
     },
     "execution_count": 12,
     "metadata": {},
     "output_type": "execute_result"
    }
   ],
   "source": [
    "function txt_to_points(input_file)\n",
    "    [[parse(Float64, s) for s in split(p,\" \")] for p in readlines(input_file)[3:end]]\n",
    "end"
   ]
  },
  {
   "cell_type": "code",
   "execution_count": 13,
   "metadata": {},
   "outputs": [
    {
     "data": {
      "text/plain": [
       "get_thetas (generic function with 1 method)"
      ]
     },
     "execution_count": 13,
     "metadata": {},
     "output_type": "execute_result"
    }
   ],
   "source": [
    "function get_diagrams(folder)\n",
    "    files = readdir(folder)\n",
    "    n = length(files)\n",
    "    [get_diagram(txt_to_points(\"$(folder)$(i-1).txt\")) for i in 1:n]\n",
    "end\n",
    "\n",
    "function get_tps(dgms)\n",
    "    [get_total_persistence(dgm) for dgm in dgms]\n",
    "end\n",
    "\n",
    "function get_fsols(folder)\n",
    "    files = readdir(folder)\n",
    "    n = length(files)\n",
    "    [parse(Float64, split(readlines(\"$(folder)$(i-1).txt\")[2], \" \")[6]) for i in 1:n]\n",
    "end\n",
    "\n",
    "function get_thetas(folder)\n",
    "    files = readdir(folder)\n",
    "    n = length(files)\n",
    "    [parse(Float64, split(readlines(\"$(folder)$(i-1).txt\")[2], \" \")[7]) for i in 1:n]\n",
    "end"
   ]
  },
  {
   "cell_type": "code",
   "execution_count": 5,
   "metadata": {},
   "outputs": [
    {
     "data": {
      "text/plain": [
       "folder_of_txts_to_jld2_with_persistence_computation (generic function with 1 method)"
      ]
     },
     "execution_count": 5,
     "metadata": {},
     "output_type": "execute_result"
    }
   ],
   "source": [
    "function folder_of_txts_to_jld2_with_persistence_computation(folder)\n",
    "    mol_type = split(folder, \"/\")[end-2]\n",
    "    idx = split(folder, \"/\")[end-1]\n",
    "    dgms = get_diagrams(folder)\n",
    "    tps = get_tps(dgms)\n",
    "    fsols = get_fsols(folder)\n",
    "    thetas = get_thetas(folder)\n",
    "    @save \"../../Data/measure_paths/jld2s/$(mol_type)/$(idx).jld2\" dgms tps fsols thetas\n",
    "end"
   ]
  },
  {
   "cell_type": "code",
   "execution_count": 7,
   "metadata": {},
   "outputs": [],
   "source": [
    "# folder = \"../../Data/measure_paths/txts/6r7m/\"\n",
    "# for subdir in readdir(folder)\n",
    "#     if subdir != \".DS_Store\"\n",
    "#         folder_of_txts_to_jld2_with_persistence_computation(\"$(folder)$(subdir)/\")\n",
    "#     end\n",
    "# end"
   ]
  },
  {
   "cell_type": "code",
   "execution_count": 91,
   "metadata": {},
   "outputs": [],
   "source": [
    "# folder = \"../../Data/measure_paths/txts/6r7m/1/\"\n",
    "# dgms = get_diagrams(folder)\n",
    "# xs = [i for i in 1:length(dgms)]\n",
    "# tps = get_tps(dgms)\n",
    "# fsols = get_fsols(folder)\n",
    "# thetas = get_thetas(folder);\n",
    "\n",
    "@load \"../../Data/measure_paths/jld2s/6r7m/1.jld2\" dgms tps fsols thetas\n",
    "xs = [i for i in 1:length(dgms)];"
   ]
  },
  {
   "cell_type": "code",
   "execution_count": 92,
   "metadata": {},
   "outputs": [
    {
     "data": {
      "text/plain": [
       "GLMakie.Screen(...)"
      ]
     },
     "execution_count": 92,
     "metadata": {},
     "output_type": "execute_result"
    }
   ],
   "source": [
    "f = Figure(fontsize = 7)\n",
    "pd_ax = Axis(f[1, 1:3], title = \"Persistence Diagram\")\n",
    "tp_ax = Axis(f[2, 1], title = \"Total Persistence\")\n",
    "theta_ax = Axis(f[2, 2], title = L\"\\Theta\")\n",
    "fsol_ax = Axis(f[2, 3], title = L\"F_{sol}\")\n",
    "\n",
    "sl_i = Slider(f[3, 1:3], range = 1:length(dgms), startvalue = 1)\n",
    "\n",
    "x = sl_i.value\n",
    "\n",
    "tp_mark = @lift(Point2f($x, $@lift(tps[$x])))\n",
    "theta_mark = @lift(Point2f($x, $@lift(thetas[$x])))\n",
    "fsol_mark = @lift(Point2f($x, $@lift(fsols[$x])))\n",
    "\n",
    "dgm_points = @lift([Point2f(dgms[$x][i,1], dgms[$x][i,2]) for i in 1:size(dgms[$x])[1]])\n",
    "\n",
    "ms = 5\n",
    "scatter!(pd_ax, dgm_points, markersize = ms)\n",
    "\n",
    "scatter!(tp_ax, xs, tps, color=:red, markersize = ms)\n",
    "scatter!(tp_ax, tp_mark, color = :black, markersize = 10)\n",
    "\n",
    "scatter!(theta_ax, xs, thetas, color=:magenta, markersize = ms)\n",
    "scatter!(theta_ax, theta_mark, color = :black, markersize = 10)\n",
    "\n",
    "scatter!(fsol_ax, xs, fsols, color=:orange, markersize = ms)\n",
    "scatter!(fsol_ax, fsol_mark, color = :black, markersize = 10)\n",
    "\n",
    "display(f)\n"
   ]
  },
  {
   "cell_type": "code",
   "execution_count": 71,
   "metadata": {},
   "outputs": [
    {
     "data": {
      "text/plain": [
       "get_diagram_from_simplices (generic function with 2 methods)"
      ]
     },
     "execution_count": 71,
     "metadata": {},
     "output_type": "execute_result"
    }
   ],
   "source": [
    "py\"\"\"\n",
    "import oineus as oin\n",
    "import numpy as np\n",
    "import torch\n",
    "import diode\n",
    "\n",
    "def get_simplices(points):\n",
    "    points = np.asarray(points)\n",
    "    simplices = diode.fill_alpha_shapes(points)\n",
    "    return simplices\n",
    "\"\"\"\n",
    "function get_simplices(points)\n",
    "    py\"get_simplices\"(points)\n",
    "end\n",
    "\n",
    "function get_interface(simplices, n)\n",
    "    #WARNING ONLY WORKS FOR TWO SUBUNITS\n",
    "    tetras = [s for (s,_) in simplices if length(s) == 4]\n",
    "    interface_tetras = [s for s in tetras if any([e < n for e in s]) && any([e >= n for e in s])]\n",
    "    [(s, d) for (s, d) in simplices if any([issubset(s,t) for t in interface_tetras])]\n",
    "end\n",
    "\n",
    "py\"\"\"\n",
    "import oineus as oin\n",
    "import numpy as np\n",
    "import torch\n",
    "import diode\n",
    "\n",
    "def get_diagram_from_simplices(simplices, dim):\n",
    "    fil = oin.Filtration_double([oin.Simplex_double(s[0], s[1]) for s in simplices])\n",
    "    # no cohomology\n",
    "    dualize = False\n",
    "    # create VRU decomposition object, does not perform reduction yet\n",
    "    dcmp = oin.Decomposition(fil, dualize)\n",
    "    rp = oin.ReductionParams()\n",
    "    rp.compute_u = rp.compute_v = True\n",
    "    rp.n_threads = 1\n",
    "    # perform reduction\n",
    "    dcmp.reduce(rp)\n",
    "    dgm_dim = dcmp.diagram(fil, include_inf_points=False)[dim]\n",
    "    return dgm_dim\n",
    "\"\"\"\n",
    "\n",
    "function get_diagram_from_simplices(simplices::Vector{Tuple{Vector{Int64}, Float64}}, dim::Int = 1)\n",
    "    py\"get_diagram_from_simplices\"(simplices, dim)\n",
    "end"
   ]
  },
  {
   "cell_type": "code",
   "execution_count": 50,
   "metadata": {},
   "outputs": [
    {
     "data": {
      "text/plain": [
       "get_interface_diagrams (generic function with 1 method)"
      ]
     },
     "execution_count": 50,
     "metadata": {},
     "output_type": "execute_result"
    }
   ],
   "source": [
    "@load \"../../Data/jld2/single_subunits/6r7m_protor.jld2\" template_mol template_radii x_init\n",
    "n = length(template_radii)\n",
    "\n",
    "function get_interface_diagrams(folder)\n",
    "    files = readdir(folder)\n",
    "    num_of_diags = length(files)\n",
    "    [get_diagram_from_simplices(get_interface(get_simplices(txt_to_points(\"$(folder)$(i-1).txt\")), n)) for i in 1:num_of_diags]\n",
    "end"
   ]
  },
  {
   "cell_type": "code",
   "execution_count": 96,
   "metadata": {},
   "outputs": [],
   "source": [
    "folder = \"../../Data/measure_paths/txts/6r7m/1/\"\n",
    "#interface_dgms = get_interface_diagrams(folder)\n",
    "xs = [i for i in 1:length(interface_dgms)]\n",
    "tps = get_tps(interface_dgms)\n",
    "fsols = get_fsols(folder)\n",
    "thetas = get_thetas(folder);"
   ]
  },
  {
   "cell_type": "code",
   "execution_count": 94,
   "metadata": {},
   "outputs": [
    {
     "data": {
      "text/plain": [
       "GLMakie.Screen(...)"
      ]
     },
     "execution_count": 94,
     "metadata": {},
     "output_type": "execute_result"
    }
   ],
   "source": [
    "f = Figure(fontsize = 7)\n",
    "pd_ax = Axis(f[1, 1:3], title = \"Persistence Diagram\")\n",
    "tp_ax = Axis(f[2, 1], title = \"Total Persistence\")\n",
    "theta_ax = Axis(f[2, 2], title = L\"\\Theta\")\n",
    "fsol_ax = Axis(f[2, 3], title = L\"F_{sol}\")\n",
    "\n",
    "sl_i = Slider(f[3, 1:3], range = 1:length(interface_dgms), startvalue = 1)\n",
    "\n",
    "x = sl_i.value\n",
    "\n",
    "tp_mark = @lift(Point2f($x, $@lift(tps[$x])))\n",
    "theta_mark = @lift(Point2f($x, $@lift(thetas[$x])))\n",
    "fsol_mark = @lift(Point2f($x, $@lift(fsols[$x])))\n",
    "\n",
    "dgm_points = @lift([Point2f(interface_dgms[$x][i,1], interface_dgms[$x][i,2]) for i in 1:size(interface_dgms[$x])[1]])\n",
    "\n",
    "ms = 5\n",
    "scatter!(pd_ax, dgm_points, markersize = ms)\n",
    "\n",
    "scatter!(tp_ax, xs, tps, color=:red, markersize = ms)\n",
    "scatter!(tp_ax, tp_mark, color = :black, markersize = 10)\n",
    "\n",
    "scatter!(theta_ax, xs, thetas, color=:magenta, markersize = ms)\n",
    "scatter!(theta_ax, theta_mark, color = :black, markersize = 10)\n",
    "\n",
    "scatter!(fsol_ax, xs, fsols, color=:orange, markersize = ms)\n",
    "scatter!(fsol_ax, fsol_mark, color = :black, markersize = 10)\n",
    "\n",
    "display(f)\n"
   ]
  },
  {
   "cell_type": "code",
   "execution_count": 99,
   "metadata": {},
   "outputs": [
    {
     "data": {
      "text/plain": [
       "1410.4672202718693"
      ]
     },
     "execution_count": 99,
     "metadata": {},
     "output_type": "execute_result"
    }
   ],
   "source": [
    "file = \"../../Data/measure_paths/txts/6r7m/1/0.txt\"\n",
    "points = txt_to_points(file)\n",
    "complete = get_simplices(points)\n",
    "interface = get_interface(complete, n)\n",
    "\n",
    "c_diag = get_diagram_from_simplices(complete)\n",
    "sum(c_diag[:,2] - c_diag[:,1])"
   ]
  }
 ],
 "metadata": {
  "kernelspec": {
   "display_name": "Julia oineus 1.10.4",
   "language": "julia",
   "name": "julia-oineus-1.10"
  },
  "language_info": {
   "file_extension": ".jl",
   "mimetype": "application/julia",
   "name": "julia",
   "version": "1.10.4"
  }
 },
 "nbformat": 4,
 "nbformat_minor": 2
}
