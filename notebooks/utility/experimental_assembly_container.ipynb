{
 "cells": [
  {
   "cell_type": "code",
   "execution_count": 1,
   "metadata": {},
   "outputs": [
    {
     "name": "stderr",
     "output_type": "stream",
     "text": [
      "\u001b[32m\u001b[1m  Activating\u001b[22m\u001b[39m project at `~/Desktop/Doktor/MorphoMol/MorphoMolMonteCarlo`\n"
     ]
    }
   ],
   "source": [
    "import Pkg; \n",
    "\n",
    "if split(pwd(),\"/\")[end] == \"notebooks\"\n",
    "    cd(joinpath(@__DIR__, \"../../../MorphoMolMonteCarlo/\"))\n",
    "    Pkg.activate(\"Project.toml\")\n",
    "end\n",
    "\n",
    "using MorphoMol\n",
    "using StaticArrays\n",
    "using Rotations\n",
    "using Distances\n",
    "using JLD2\n",
    "\n",
    "if split(pwd(), \"/\")[end] == \"MorphoMolMonteCarlo\"\n",
    "    cd(joinpath(@__DIR__, \"../MMMCNotebooks/\"))\n",
    "end"
   ]
  },
  {
   "cell_type": "markdown",
   "metadata": {},
   "source": [
    "# 6R7M"
   ]
  },
  {
   "cell_type": "code",
   "execution_count": 3,
   "metadata": {},
   "outputs": [],
   "source": [
    "template_mol, template_radii = MorphoMol.Utilities.poly_to_state(\"assets/input/poly/6r7m_protor.poly\")\n",
    "template_mol = reshape(template_mol,(3,Int(length(template_mol) / 3)))\n",
    "\n",
    "R1 = log(RotMatrix(@SMatrix[0.628642  0.777695  0.000000; -0.777695  0.628642  0.000000; 0.000000  0.000000  1.000000]))\n",
    "T1 = @SVector[-69.28043, 195.91352, -49.35000]\n",
    "\n",
    "R2 = log(RotMatrix(@SMatrix[0.874450  0.485115  0.000000; -0.485115  0.874450  0.000000; 0.000000  0.000000  1.000000]))\n",
    "T2 = @SVector[-61.30589, 104.11829, -47.94000]\n",
    "\n",
    "x_init = Vector{Float64}([])\n",
    "for (R,T) in [(R1, T1), (R2, T2)]\n",
    "    x_init = [x_init; [R[3,2], R[1,3], R[2,1], T[1], T[2], T[3]]]\n",
    "end\n",
    "\n",
    "@save \"assets/input/jld2/experimental/2_6r7m_protor.jld2\" template_mol template_radii x_init"
   ]
  },
  {
   "cell_type": "markdown",
   "metadata": {},
   "source": [
    "# 6SAG"
   ]
  },
  {
   "cell_type": "code",
   "execution_count": 5,
   "metadata": {},
   "outputs": [],
   "source": [
    "template_mol, template_radii = MorphoMol.Utilities.poly_to_state(\"assets/input/poly/6sag_protor.poly\")\n",
    "template_mol = reshape(template_mol,(3,Int(length(template_mol) / 3)))\n",
    "\n",
    "R1 = log(RotMatrix(@SMatrix[1.0 0.0 0.0; 0.0 1.0 0.0; 0.0 0.0 1.0]))\n",
    "T1 = @SVector[0.0, 0.0, 0.0]\n",
    "\n",
    "R2 = log(RotMatrix(@SMatrix[0.926988 -0.375092  0.000000; 0.375092  0.926988  0.000000; 0.000000  0.000000  1.000000]))\n",
    "T2 = @SVector[69.46963, -46.83140, 1.40800]\n",
    "\n",
    "x_init = Vector{Float64}([])\n",
    "for (R,T) in [(R1, T1), (R2, T2)]\n",
    "    x_init = [x_init; [R[3,2], R[1,3], R[2,1], T[1], T[2], T[3]]]\n",
    "end\n",
    "\n",
    "@save \"assets/input/jld2/experimental/2_6sag_protor.jld2\" template_mol template_radii x_init"
   ]
  },
  {
   "cell_type": "markdown",
   "metadata": {},
   "source": [
    "# 6SAE"
   ]
  },
  {
   "cell_type": "code",
   "execution_count": 6,
   "metadata": {},
   "outputs": [],
   "source": [
    "template_mol, template_radii = MorphoMol.Utilities.poly_to_state(\"assets/input/poly/6sae_protor.poly\")\n",
    "template_mol = reshape(template_mol,(3,Int(length(template_mol) / 3)))\n",
    "\n",
    "R1 = log(RotMatrix(@SMatrix[1.0 0.0 0.0; 0.0 1.0 0.0; 0.0 0.0 1.0]))\n",
    "T1 = @SVector[0.0, 0.0, 0.0]\n",
    "\n",
    "R2 = log(RotMatrix(@SMatrix[0.926988 -0.375092  0.000000; 0.375092  0.926988  0.000000; 0.000000  0.000000  1.000000]))\n",
    "T2 = @SVector[69.46963, -46.83140, 1.40800]\n",
    "\n",
    "x_init = Vector{Float64}([])\n",
    "for (R,T) in [(R1, T1), (R2, T2)]\n",
    "    x_init = [x_init; [R[3,2], R[1,3], R[2,1], T[1], T[2], T[3]]]\n",
    "end\n",
    "\n",
    "@save \"assets/input/jld2/experimental/2_6sae_protor.jld2\" template_mol template_radii x_init"
   ]
  },
  {
   "cell_type": "markdown",
   "metadata": {},
   "source": [
    "# 2TMV"
   ]
  },
  {
   "cell_type": "code",
   "execution_count": 7,
   "metadata": {},
   "outputs": [],
   "source": [
    "template_mol, template_radii = MorphoMol.Utilities.poly_to_state(\"assets/input/poly/2tmv_protor.poly\")\n",
    "template_mol = reshape(template_mol,(3,Int(length(template_mol) / 3)))\n",
    "\n",
    "R1 = log(RotMatrix(@SMatrix[-0.981559  0.191159  0.000000; -0.191159 -0.981559  0.000000; 0.0 0.0 1.0]))\n",
    "T1 = @SVector[0.0, 0.0, -33.79592]\n",
    "\n",
    "R2 = log(RotMatrix(@SMatrix[-0.838088  0.545535  0.000000; -0.545535 -0.838088  0.000000; 0.000000  0.000000  1.000000]))\n",
    "T2 = @SVector[0.0, 0.0, -32.38776]\n",
    "\n",
    "x_init = Vector{Float64}([])\n",
    "for (R,T) in [(R1, T1), (R2, T2)]\n",
    "    x_init = [x_init; [R[3,2], R[1,3], R[2,1], T[1], T[2], T[3]]]\n",
    "end\n",
    "\n",
    "@save \"assets/input/jld2/experimental/2_2tmv_protor.jld2\" template_mol template_radii x_init"
   ]
  },
  {
   "cell_type": "markdown",
   "metadata": {},
   "source": [
    "# 1EI7"
   ]
  },
  {
   "cell_type": "code",
   "execution_count": null,
   "metadata": {},
   "outputs": [],
   "source": [
    "template_mol, template_radii = MorphoMol.Utilities.poly_to_state(\"assets/input/poly/1ei7_protor.poly\")\n",
    "template_mol = reshape(template_mol,(3,Int(length(template_mol) / 3)))\n",
    "\n",
    "R1 = log(RotMatrix(@SMatrix[1.0 0.0 0.0; 0.0 1.0 0.0; 0.0 0.0 1.0]))\n",
    "T1 = @SVector[0.0, 0.0, 0.0]\n",
    "\n",
    "R2 = log(RotMatrix(@SMatrix[0.932495 -0.001246 -0.361180; -0.001246  0.999977 -0.006669; 0.361180  0.006669  0.932472]))\n",
    "T2 = @SVector[-20.21027, -0.37318, -3.77860]\n",
    "\n",
    "\n",
    "x_init = Vector{Float64}([])\n",
    "for (R,T) in [(R1, T1), (R2, T2)]\n",
    "    x_init = [x_init; [R[3,2], R[1,3], R[2,1], T[1], T[2], T[3]]]\n",
    "end\n",
    "\n",
    "@save \"assets/input/jld2/experimental/2_1ei7_protor.jld2\" template_mol template_radii x_init"
   ]
  }
 ],
 "metadata": {
  "kernelspec": {
   "display_name": "Julia 1.8.5",
   "language": "julia",
   "name": "julia-1.8"
  },
  "language_info": {
   "file_extension": ".jl",
   "mimetype": "application/julia",
   "name": "julia",
   "version": "1.8.5"
  },
  "orig_nbformat": 4
 },
 "nbformat": 4,
 "nbformat_minor": 2
}
