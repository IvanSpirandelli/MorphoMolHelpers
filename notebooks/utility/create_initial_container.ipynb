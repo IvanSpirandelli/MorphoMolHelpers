{
 "cells": [
  {
   "cell_type": "code",
   "execution_count": 1,
   "metadata": {},
   "outputs": [
    {
     "name": "stderr",
     "output_type": "stream",
     "text": [
      "\u001b[32m\u001b[1m  Activating\u001b[22m\u001b[39m project at `~/Doktor/Code/MorphoMol/MorphoMolHelpers`\n"
     ]
    }
   ],
   "source": [
    "import Pkg; \n",
    "\n",
    "cd(joinpath(@__DIR__, \"../../\"))\n",
    "Pkg.activate(\"Project.toml\")\n",
    "\n",
    "using MorphoMol\n",
    "using StaticArrays\n",
    "using Rotations\n",
    "using Distances\n",
    "using Distributions\n",
    "using JLD2"
   ]
  },
  {
   "cell_type": "code",
   "execution_count": 2,
   "metadata": {},
   "outputs": [
    {
     "data": {
      "text/plain": [
       "3-element Vector{Symbol}:\n",
       " :template_mol\n",
       " :template_radii\n",
       " :x_init"
      ]
     },
     "execution_count": 2,
     "metadata": {},
     "output_type": "execute_result"
    }
   ],
   "source": [
    "@load \"../../Data/jld2/single_subunits/6r7m_protor.jld2\""
   ]
  },
  {
   "cell_type": "code",
   "execution_count": 7,
   "metadata": {},
   "outputs": [
    {
     "data": {
      "text/plain": [
       "380659"
      ]
     },
     "execution_count": 7,
     "metadata": {},
     "output_type": "execute_result"
    }
   ],
   "source": [
    "function get_template_values(mol_type)\n",
    "    @load \"../../Data/jld2/single_subunits/$(mol_type)_protor.jld2\" template_mol template_radii x_init\n",
    "    (template_mol, template_radii)\n",
    "end\n",
    "\n",
    "templates = Dict(mol_type => get_template_values(mol_type) for mol_type in [\"6r7m\", \"6sae\", \"6sag\", \"1ei7\", \"2tmv\"])\n",
    "\n",
    "open(\"src/template_data.jl\", \"w\") do file\n",
    "    write(file, \"templates = $(templates)\")\n",
    "end"
   ]
  },
  {
   "cell_type": "code",
   "execution_count": 2,
   "metadata": {},
   "outputs": [
    {
     "data": {
      "text/plain": [
       "\"assets/input/jld2/5_1stm_init\""
      ]
     },
     "execution_count": 2,
     "metadata": {},
     "output_type": "execute_result"
    }
   ],
   "source": [
    "id = \"1stm\"\n",
    "@load \"assets/input/jld2/single_subunits/$(id)_protor.jld2\" template_mol template_radii x_init\n",
    "n_mol = 5\n",
    "n_atoms_per_mol = length(template_radii)\n",
    "radii = vcat([template_radii for i in 1:n_mol]...);\n",
    "mkpath(\"assets/input/jld2/$(n_mol)_$(id)_init/\")\n"
   ]
  },
  {
   "cell_type": "code",
   "execution_count": 17,
   "metadata": {},
   "outputs": [
    {
     "data": {
      "text/plain": [
       "1061"
      ]
     },
     "execution_count": 17,
     "metadata": {},
     "output_type": "execute_result"
    }
   ],
   "source": [
    "size(template_mol)[2]"
   ]
  },
  {
   "cell_type": "code",
   "execution_count": 15,
   "metadata": {},
   "outputs": [],
   "source": [
    "i = 1\n",
    "for x in eachcol(exp(Rotations.RotationVecGenerator(x_init[i:i+2]...)) * template_mol .+ x_init[i+3:i+5])\n",
    "    @SVector[x[1], x[2], x[3]]\n",
    "end"
   ]
  },
  {
   "cell_type": "code",
   "execution_count": 5,
   "metadata": {},
   "outputs": [
    {
     "data": {
      "text/plain": [
       "3×1061 Matrix{Float64}:\n",
       " -28.2256  -26.9189   -26.4582   …  -34.1016   -33.1148   -34.9277\n",
       "  11.3593   10.803      9.75629      -5.56976   -4.64423   -8.47959\n",
       "  -3.0019   -3.06405   -2.06098      11.5434    11.9563    11.2767"
      ]
     },
     "execution_count": 5,
     "metadata": {},
     "output_type": "execute_result"
    }
   ],
   "source": [
    "template_mol"
   ]
  },
  {
   "cell_type": "code",
   "execution_count": 23,
   "metadata": {},
   "outputs": [],
   "source": [
    "bounds = 120.0\n",
    "for i in 1:50\n",
    "    x_init = vcat([\n",
    "        [rand(Uniform(0.0, 2*pi)), rand(Uniform(0.0, 2*pi)), rand(Uniform(0.0, 2*pi)), \n",
    "        rand(Uniform(0.0, bounds)), rand(Uniform(0.0, bounds)), rand(Uniform(0.0, bounds))] \n",
    "        for i in 1:n_mol]...);\n",
    "        \n",
    "    @save \"assets/input/jld2/$(n_mol)_$(id)_init/$(id)_protor_$(i).jld2\" template_mol template_radii x_init\n",
    "end"
   ]
  },
  {
   "cell_type": "code",
   "execution_count": 27,
   "metadata": {},
   "outputs": [],
   "source": [
    "hotstart_folder = \"assets/hpc_out_d/5_1stm_oj_0_0_os_0_85/\"\n",
    "for file in readdir(hotstart_folder)\n",
    "    if split(file, \".\")[end] == \"jld2\"\n",
    "        @load \"$hotstart_folder$file\" in_out_data\n",
    "        mindex = argmin(in_out_data.output.Es)\n",
    "        x_init = in_out_data.output.states[mindex]\n",
    "        id = parse(Int, split(file, \"_\")[3])\n",
    "        template_mol = in_out_data.input.template_mol\n",
    "        template_radii = in_out_data.input.template_radii\n",
    "        @save \"assets/input/jld2/5_1stm_hotstart/1stm_protor_$(id).jld2\" template_mol template_radii x_init\n",
    "    end\n",
    "end"
   ]
  },
  {
   "cell_type": "code",
   "execution_count": 5,
   "metadata": {},
   "outputs": [],
   "source": [
    "@load \"assets/input/jld2/2_6r7m_touching_init/2_6r7m_touching_1.jld2\" template_mol template_radii x_init\n",
    "for i in 51:100\n",
    "    @save \"assets/input/jld2/2_6r7m_touching_init/2_6r7m_touching_$(i).jld2\"\n",
    "end"
   ]
  }
 ],
 "metadata": {
  "kernelspec": {
   "display_name": "Julia 1.10.4",
   "language": "julia",
   "name": "julia-1.10"
  },
  "language_info": {
   "file_extension": ".jl",
   "mimetype": "application/julia",
   "name": "julia",
   "version": "1.10.4"
  }
 },
 "nbformat": 4,
 "nbformat_minor": 2
}
