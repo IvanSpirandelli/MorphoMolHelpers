{
 "cells": [
  {
   "cell_type": "code",
   "execution_count": 1,
   "metadata": {},
   "outputs": [
    {
     "name": "stderr",
     "output_type": "stream",
     "text": [
      "\u001b[32m\u001b[1m  Activating\u001b[22m\u001b[39m project at `~/Doktor/Code/MorphoMol/MorphoMolNotebooks`\n",
      "\u001b[36m\u001b[1m[ \u001b[22m\u001b[39m\u001b[36m\u001b[1mInfo: \u001b[22m\u001b[39mPrecompiling MorphoMol [85e20460-a9b2-48f6-9df6-e154e9748d83]\n"
     ]
    }
   ],
   "source": [
    "import Pkg; \n",
    "cd(joinpath(@__DIR__, \"../../\"))\n",
    "Pkg.activate(\"Project.toml\")\n",
    "\n",
    "using MorphoMol\n",
    "using StaticArrays\n",
    "using Rotations\n",
    "using Distances\n",
    "using JLD2\n",
    "using GLMakie"
   ]
  },
  {
   "cell_type": "code",
   "execution_count": 5,
   "metadata": {},
   "outputs": [],
   "source": [
    "folder = \"../../Data/hpc_out/rwm_wp_2_6r7m/\"\n",
    "\n",
    "id_index = 1\n",
    "max = 1\n",
    "for file in readdir(folder)\n",
    "    if split(file, \".\")[end] == \"jld2\"\n",
    "        max = max < parse(Int, split(file, \"_\")[id_index]) ? parse(Int, split(file, \"_\")[id_index]) : max\n",
    "    end\n",
    "end\n",
    "\n",
    "min_Es = [Inf for _ in 1:max]\n",
    "evaluation_strings = [\"\" for _ in 1:max]\n",
    "for file in readdir(folder)\n",
    "    if split(file, \".\")[end] == \"jld2\"\n",
    "        @load \"$folder$file\" input output\n",
    "        id = parse(Int, split(file, \"_\")[id_index])\n",
    "        string = \"$(id): $(input[\"T\"]) | $(output.algorithm_measures[\"αs\"][end]) | $(output.energy_measures[\"Es\"][1]), $(minimum(output.energy_measures[\"Es\"])), $(output.energy_measures[\"Es\"][end])\"\n",
    "        evaluation_strings[id] = string\n",
    "        min_Es[id] = minimum(output.energy_measures[\"Es\"])\n",
    "    end\n",
    "end"
   ]
  },
  {
   "cell_type": "code",
   "execution_count": 16,
   "metadata": {},
   "outputs": [
    {
     "data": {
      "text/plain": [
       "GLMakie.Screen(...)"
      ]
     },
     "execution_count": 16,
     "metadata": {},
     "output_type": "execute_result"
    }
   ],
   "source": [
    "function interactive_simulation_analysis(input, output)\n",
    "    dgms = output.energy_measures[\"IDGMs\"]\n",
    "    Es = output.energy_measures[\"Es\"]\n",
    "    persistence_weight = -0.1\n",
    "    realizations = [MorphoMol.Utilities.get_matrix_realization(state, input[\"template_centers\"]) for state in output.states]\n",
    "    tps = [MorphoMol.Energies.get_total_persistence(dgm) for dgm in dgms]\n",
    "    cdgms2 = [dgm[2] for dgm in dgms]\n",
    "    cdgms3 = [dgm[3] for dgm in dgms]\n",
    "    cp2s = [MorphoMol.Energies.get_persistence(dgm) for dgm in cdgms2]\n",
    "    cp3s = [MorphoMol.Energies.get_persistence(dgm) for dgm in cdgms3]\n",
    "    mol_type = input[\"mol_type\"]\n",
    "    exp_template_centers = MorphoMol.Utilities.TWOTMVSU_EXPERIMENTAL_ASSEMBLY[mol_type][\"template_centers\"]\n",
    "    exp_state = MorphoMol.Utilities.TWOTMVSU_EXPERIMENTAL_ASSEMBLY[mol_type][\"state\"]\n",
    "    thetas = [MorphoMol.Utilities.average_offset_distance(exp_template_centers, input[\"template_centers\"], exp_state, state) for state in output.states]\n",
    "    xs = [i for i in 1:length(dgms)];\n",
    "    two_ps = [MorphoMol.Energies.get_persistence(dgm[2], -0.1) for dgm in dgms]\n",
    "    three_ps = [MorphoMol.Energies.get_persistence(dgm[3], -0.1) for dgm in dgms]\n",
    "    tps = [MorphoMol.Energies.get_total_persistence(dgm, -0.1) for dgm in dgms];\n",
    "\n",
    "    f = Figure(fontsize = 7)\n",
    "\n",
    "    #Slider\n",
    "    sl_i = Slider(f[4, 1:4], range = 1:length(dgms), startvalue = 1)\n",
    "    x = sl_i.value\n",
    "\n",
    "    # Persistence Diagrams\n",
    "    pd_ax_a = Axis(f[1, 1], title = \"Persistence codim = 2\", xticks = 0:25:100, yticks = 0:25:100)\n",
    "    pd_ax_b = Axis(f[1, 2], title = \"Persistence codim = 3\", xticks = 0:25:100, yticks = 0:25:100)\n",
    "    dgm_points_2 = @lift([Point2f(dgms[$x][2][i,1], dgms[$x][2][i,2]) for i in 1:size(dgms[$x][2])[1]])\n",
    "    dgm_points_3 = @lift([Point2f(dgms[$x][3][i,1], dgms[$x][3][i,2]) for i in 1:size(dgms[$x][3])[1]])\n",
    "\n",
    "    ms = 5\n",
    "    scatter!(pd_ax_a, dgm_points_2, color = :orange, markersize = ms)\n",
    "    lines!(pd_ax_a, [0, 100], [0, 100], color=:black)\n",
    "    scatter!(pd_ax_b, dgm_points_3, color = :green, markersize = ms)\n",
    "    lines!(pd_ax_b, [0, 100], [0, 100], color=:black)\n",
    "\n",
    "    #Energy and Theta\n",
    "    theta_ax = Axis(f[2, 1], title = L\"\\Theta\")\n",
    "    E_ax = Axis(f[2, 2], title = L\"F_{sol}\")\n",
    "\n",
    "    theta_mark = @lift(Point2f($x, $@lift(thetas[$x])))\n",
    "    E_mark = @lift(Point2f($x, $@lift(Es[$x])))\n",
    "\n",
    "    scatter!(theta_ax, xs, thetas, color=:magenta, markersize = ms)\n",
    "    scatter!(theta_ax, theta_mark, color=:black, markersize = 10)\n",
    "\n",
    "    scatter!(E_ax, xs, Es, color=:blue, markersize = ms)\n",
    "    scatter!(E_ax, E_mark, color=:black, markersize = 10)\n",
    "\n",
    "\n",
    "    # Configuration\n",
    "    conf_ax = Axis3(f[1:2, 3:4])\n",
    "    c1_points = @lift([Point3f(realizations[$x][1][1,i], realizations[$x][1][2,i], realizations[$x][1][3,i]) for i in 1:size(realizations[$x][1])[2]])\n",
    "    c2_points = @lift([Point3f(realizations[$x][2][1,i], realizations[$x][2][2,i], realizations[$x][2][3,i]) for i in 1:size(realizations[$x][2])[2]])\n",
    "\n",
    "    conf_ms = 10\n",
    "    scatter!(conf_ax, c1_points, markersize = conf_ms)\n",
    "    scatter!(conf_ax, c2_points, markersize = conf_ms)\n",
    "\n",
    "    #Persistence Measures\n",
    "    two_p_ax = Axis(f[3, 1], title = \"codim 2 persistence\")\n",
    "    three_p_ax = Axis(f[3, 2], title = \"codim 3 persistence\")\n",
    "    tp_ax = Axis(f[3, 3], title = \"Total Persistence\")\n",
    "\n",
    "    tp_mark = @lift(Point2f($x, $@lift(tps[$x])))\n",
    "    two_p_mark = @lift(Point2f($x, $@lift(two_ps[$x])))\n",
    "    three_p_mark = @lift(Point2f($x, $@lift(three_ps[$x])))\n",
    "\n",
    "    scatter!(tp_ax, xs, tps, color=:red, markersize = ms)\n",
    "    scatter!(tp_ax, tp_mark, color = :black, markersize = 10)\n",
    "\n",
    "    scatter!(two_p_ax, xs, two_ps, color=:orange, markersize = ms)\n",
    "    scatter!(two_p_ax, two_p_mark, color=:black, markersize = 10)\n",
    "\n",
    "    scatter!(three_p_ax, xs, three_ps, color=:green, markersize = ms)\n",
    "    scatter!(three_p_ax, three_p_mark, color=:black, markersize = 10)\n",
    "    f\n",
    "end\n",
    "\n",
    "display(f)\n"
   ]
  },
  {
   "cell_type": "code",
   "execution_count": 20,
   "metadata": {},
   "outputs": [
    {
     "data": {
      "text/plain": [
       "GLMakie.Screen(...)"
      ]
     },
     "execution_count": 20,
     "metadata": {},
     "output_type": "execute_result"
    }
   ],
   "source": [
    "@load \"../../Data/hpc_out/rwm_wp_2_6r7m/2_6r7m_protor_oj_0_0_os_0_85.jld2\" input output\n",
    "display(interactive_simulation_analysis(merge!(input, Dict(\"mol_type\" => \"6r7m\")), output))"
   ]
  }
 ],
 "metadata": {
  "kernelspec": {
   "display_name": "Julia Oineus 1.10.4",
   "language": "julia",
   "name": "julia-oineus-1.10"
  },
  "language_info": {
   "file_extension": ".jl",
   "mimetype": "application/julia",
   "name": "julia",
   "version": "1.10.4"
  }
 },
 "nbformat": 4,
 "nbformat_minor": 2
}
