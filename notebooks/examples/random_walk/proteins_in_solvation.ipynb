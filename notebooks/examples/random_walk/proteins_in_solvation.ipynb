{
 "cells": [
  {
   "cell_type": "code",
   "execution_count": 1,
   "metadata": {},
   "outputs": [
    {
     "name": "stderr",
     "output_type": "stream",
     "text": [
      "\u001b[32m\u001b[1m  Activating\u001b[22m\u001b[39m project at `~/Doktor/Code/MorphoMolMonteCarlo`\n"
     ]
    }
   ],
   "source": [
    "import Pkg; \n",
    "\n",
    "if split(pwd(),\"/\")[end] == \"random_walk\"\n",
    "    cd(joinpath(@__DIR__, \"../../../../MorphoMolMonteCarlo/\"))\n",
    "    Pkg.activate(\"Project.toml\")\n",
    "end\n",
    "\n",
    "using MorphoMol\n",
    "\n",
    "using CairoMakie\n",
    "using LinearAlgebra\n",
    "using Random\n",
    "using Rotations\n",
    "using StaticArrays\n",
    "using Distributions\n",
    "using Distances\n",
    "using BenchmarkTools\n",
    "using JLD2\n",
    "\n",
    "if split(pwd(), \"/\")[end] == \"MorphoMolMonteCarlo\"\n",
    "    cd(joinpath(@__DIR__, \"../MMMCNotebooks/\"))\n",
    "end"
   ]
  },
  {
   "cell_type": "code",
   "execution_count": 2,
   "metadata": {},
   "outputs": [
    {
     "data": {
      "text/plain": [
       "solvation_free_energy_and_measures_in_bounds (generic function with 1 method)"
      ]
     },
     "execution_count": 2,
     "metadata": {},
     "output_type": "execute_result"
    }
   ],
   "source": [
    "function solvation_free_energy(x::Vector{Float64}, template_mol::Matrix{Float64}, radii::Vector{Float64}, rs::Float64, prefactors::AbstractVector, overlap_jump::Float64, overlap_slope::Float64, delaunay_eps::Float64)\n",
    "    n_mol = length(x) ÷ 6\n",
    "    n_atoms_per_mol = size(template_mol)[2]\n",
    "    flat_realization = MorphoMol.Utilities.get_flat_realization(x, template_mol)\n",
    "    MorphoMol.Energies.solvation_free_energy(flat_realization, n_atoms_per_mol, radii, rs, prefactors, overlap_jump, overlap_slope, delaunay_eps)\n",
    "end\n",
    "\n",
    "function solvation_free_energy_and_measures(x::Vector{Float64}, template_mol::Matrix{Float64}, radii::Vector{Float64}, rs::Float64, prefactors::AbstractVector, overlap_jump::Float64, overlap_slope::Float64, delaunay_eps::Float64)\n",
    "    n_mol = length(x) ÷ 6\n",
    "    n_atoms_per_mol = size(template_mol)[2]\n",
    "    flat_realization = MorphoMol.Utilities.get_flat_realization(x, template_mol)\n",
    "    measures = MorphoMol.Energies.get_geometric_measures_and_overlap_value(flat_realization, n_atoms_per_mol, radii, rs, overlap_jump, overlap_slope, delaunay_eps)\n",
    "    sum(measures .* [prefactors; 1.0]), measures\n",
    "end\n",
    "\n",
    "function solvation_free_energy_and_measures_in_bounds(x::Vector{Float64}, template_mol::Matrix{Float64}, radii::Vector{Float64}, rs::Float64, prefactors::AbstractVector, overlap_jump::Float64, overlap_slope::Float64, bounds::Float64, delaunay_eps::Float64)\n",
    "    if any(0.0 >= e || e >= bounds for e in x[4:6:end]) || any(0.0 >= e || e >= bounds for e in x[5:6:end]) || any(0.0 >= e || e >= bounds for e in x[6:6:end])\n",
    "        return Inf, [Inf, Inf, Inf, Inf, Inf]\n",
    "    end\n",
    "    n_mol = length(x) ÷ 6\n",
    "    n_atoms_per_mol = size(template_mol)[2]\n",
    "    flat_realization = MorphoMol.Utilities.get_flat_realization(x, template_mol)\n",
    "    measures = MorphoMol.Energies.get_geometric_measures_and_overlap_value(flat_realization, n_atoms_per_mol, radii, rs, overlap_jump, overlap_slope, delaunay_eps)\n",
    "    sum(measures .* [prefactors; 1.0]), measures\n",
    "end"
   ]
  },
  {
   "cell_type": "code",
   "execution_count": 3,
   "metadata": {},
   "outputs": [],
   "source": [
    "@load \"assets/input/jld2/single_subunits/6r7m_protor.jld2\" template_mol template_radii x_init\n",
    "n_mol = 2\n",
    "n_atoms_per_mol = length(template_radii)\n",
    "radii = vcat([template_radii for i in 1:n_mol]...);"
   ]
  },
  {
   "cell_type": "code",
   "execution_count": 4,
   "metadata": {},
   "outputs": [],
   "source": [
    "bounds = 80.0\n",
    "x_init = vcat([\n",
    "    [rand(Uniform(0.0, 2*pi)), rand(Uniform(0.0, 2*pi)), rand(Uniform(0.0, 2*pi)), rand(Uniform(0.0, bounds)), rand(Uniform(0.0, bounds)), rand(Uniform(0.0, bounds))] \n",
    "    for i in 1:n_mol]...);"
   ]
  },
  {
   "cell_type": "code",
   "execution_count": 6,
   "metadata": {},
   "outputs": [
    {
     "data": {
      "text/plain": [
       "perturb_single_randomly_chosen (generic function with 1 method)"
      ]
     },
     "execution_count": 6,
     "metadata": {},
     "output_type": "execute_result"
    }
   ],
   "source": [
    "perturb_all(x, Σ) = x .+ (randn(length(x)) .* Σ)\n",
    "\n",
    "function perturb_single_randomly_chosen(x, σ_r, σ_t)\n",
    "    x_cand = deepcopy(x)\n",
    "    i  = rand(0:(length(x)÷6)-1)\n",
    "    x_cand[(i*6)+1:(i*6)+6] = x_cand[(i*6)+1:(i*6)+6] .+ (randn(6) .* [σ_r, σ_r, σ_r, σ_t, σ_t, σ_t])\n",
    "    x_cand\n",
    "end"
   ]
  },
  {
   "cell_type": "code",
   "execution_count": 8,
   "metadata": {},
   "outputs": [
    {
     "data": {
      "text/plain": [
       "0.97131145f0"
      ]
     },
     "execution_count": 8,
     "metadata": {},
     "output_type": "execute_result"
    }
   ],
   "source": [
    "T = 1.5\n",
    "β = 1.0 / T\n",
    "\n",
    "rs = 1.4\n",
    "eta = 0.3665\n",
    "pf = MorphoMol.Energies.get_prefactors(rs, eta)\n",
    "overlap_slope = 0.85\n",
    "bounds = 150.0\n",
    "\n",
    "σ_r = 0.15\n",
    "σ_t = 1.25\n",
    "Σ = vcat([[σ_r, σ_r, σ_r, σ_t, σ_t, σ_t] for _ in 1:n_mol]...)\n",
    "\n",
    "#energy(x) = solvation_free_energy_and_measures(x, template_mol, radii, rs, pf, 0.0, overlap_slope, 1.0)\n",
    "energy(x) = solvation_free_energy_and_measures_in_bounds(x, template_mol, radii, rs, pf, 0.0, overlap_slope, bounds, 1.0)\n",
    "perturbation(x) = perturb_single_randomly_chosen(x, σ_r, σ_t)\n",
    "\n",
    "output = MorphoMol.Algorithms.MorphometricSimulationOutput(\n",
    "    Vector{Vector{Float64}}([]),\n",
    "    Vector{Float64}([]),\n",
    "    Vector{Float32}([]),\n",
    "    Vector{Float32}([]),\n",
    "    Vector{Float32}([]),\n",
    "    Vector{Float32}([]),\n",
    "    Vector{Float32}([]),\n",
    "    Vector{Float32}([])\n",
    ")\n",
    "\n",
    "rwm = MorphoMol.Algorithms.RandomWalkMetropolis(energy, perturbation, β)\n",
    "simulation_time_minutes = 1.0\n",
    "MorphoMol.Algorithms.simulate!(rwm, output, deepcopy(x_init), simulation_time_minutes);\n",
    "output.αs[end]"
   ]
  },
  {
   "cell_type": "code",
   "execution_count": 9,
   "metadata": {},
   "outputs": [
    {
     "name": "stdout",
     "output_type": "stream",
     "text": [
      "Initial energy: 8219.578304460585 | final energy: 8219.578304332586 | minimal energy: 8219.578303479146\n"
     ]
    }
   ],
   "source": [
    "println(\"Initial energy: $(output.Es[1]) | final energy: $(output.Es[end]) | minimal energy: $(minimum(output.Es))\")"
   ]
  },
  {
   "cell_type": "code",
   "execution_count": 10,
   "metadata": {},
   "outputs": [],
   "source": [
    "rm(\"assets/output\", recursive = true)\n",
    "mkpath(\"assets/output\")\n",
    "for (i, state) in enumerate(output.states)\n",
    "    MorphoMol.Utilities.state_to_poly(MorphoMol.Utilities.get_flat_realization(state, template_mol), radii, \"assets/output/$(i)\", n_mol, n_atoms_per_mol)\n",
    "end"
   ]
  },
  {
   "cell_type": "code",
   "execution_count": 11,
   "metadata": {},
   "outputs": [
    {
     "data": {
      "text/plain": [
       "save_output_plots (generic function with 1 method)"
      ]
     },
     "execution_count": 11,
     "metadata": {},
     "output_type": "execute_result"
    }
   ],
   "source": [
    "function save_output_plots(sim_out, save_dir)\n",
    "    paired_colors = cgrad(:Paired_12, 12, categorical = true)\n",
    "    xs = 1:length(sim_out.Vs)\n",
    "\n",
    "    pt_per_in = 72\n",
    "    width =  5*5\n",
    "    height = 5*3\n",
    "    f_size = (pt_per_in * width, pt_per_in * height)\n",
    "    fs = 15\n",
    "    border_width = 0.5\n",
    "    fig = Figure(size = f_size, fontsize = fs)\n",
    "    ms = 4\n",
    "    scatter(fig[1, 1], xs, sim_out.Vs, markersize = ms, color = paired_colors[1], axis = (ylabel = L\"V\", ylabelrotation = 0,))\n",
    "    scatter(fig[1, 2], xs, sim_out.As, markersize = ms, color = paired_colors[3], axis = (ylabel = L\"A\", ylabelrotation = 0,))\n",
    "    scatter(fig[1, 3], xs, sim_out.Ms, markersize = ms, color = paired_colors[5], axis = (ylabel = L\"M\", ylabelrotation = 0,))\n",
    "    scatter(fig[1, 4], xs, sim_out.Xs, markersize = ms, color = paired_colors[7], axis = (ylabel = L\"X\", ylabelrotation = 0,))\n",
    "    scatter(fig[2, 1], xs, sim_out.OLs, markersize = ms, color = paired_colors[10], axis = (ylabel = L\"OL\", ylabelrotation = 0,))\n",
    "    scatter(fig[2, 2], xs, sim_out.Es, markersize = ms, color = paired_colors[12], axis = (ylabel = L\"F_{sol}\", ylabelrotation = 0,))\n",
    "    save(string(\"$(save_dir)/rwm_output_plots.png\"), fig, pt_per_unit = 1)\n",
    "end"
   ]
  },
  {
   "cell_type": "code",
   "execution_count": 12,
   "metadata": {},
   "outputs": [
    {
     "data": {
      "text/plain": [
       "CairoMakie.Screen{IMAGE}\n"
      ]
     },
     "execution_count": 12,
     "metadata": {},
     "output_type": "execute_result"
    }
   ],
   "source": [
    "save_output_plots(output, \"notebooks/plots\")"
   ]
  }
 ],
 "metadata": {
  "kernelspec": {
   "display_name": "Julia 1.10.4",
   "language": "julia",
   "name": "julia-1.10"
  },
  "language_info": {
   "file_extension": ".jl",
   "mimetype": "application/julia",
   "name": "julia",
   "version": "1.10.4"
  },
  "orig_nbformat": 4
 },
 "nbformat": 4,
 "nbformat_minor": 2
}
