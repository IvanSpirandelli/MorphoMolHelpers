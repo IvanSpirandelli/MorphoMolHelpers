{
 "cells": [
  {
   "cell_type": "code",
   "execution_count": 6,
   "metadata": {},
   "outputs": [],
   "source": [
    "import Pkg; \n",
    "\n",
    "if split(pwd(),\"/\")[end] == \"hmc\"\n",
    "    cd(joinpath(@__DIR__, \"../../../../MorphoMolMonteCarlo/\"))\n",
    "    Pkg.activate(\"Project.toml\")\n",
    "end\n",
    "\n",
    "using MorphoMol\n",
    "\n",
    "using CairoMakie\n",
    "using LinearAlgebra\n",
    "using Random\n",
    "using Rotations\n",
    "using StaticArrays\n",
    "using Distributions\n",
    "using Distances\n",
    "using BenchmarkTools\n",
    "using JLD2\n",
    "\n",
    "if split(pwd(), \"/\")[end] == \"MorphoMolMonteCarlo\"\n",
    "    cd(joinpath(@__DIR__, \"../MMMCNotebooks/\"))\n",
    "end"
   ]
  },
  {
   "cell_type": "code",
   "execution_count": 2,
   "metadata": {},
   "outputs": [
    {
     "data": {
      "text/plain": [
       "get_flat_realization (generic function with 1 method)"
      ]
     },
     "execution_count": 2,
     "metadata": {},
     "output_type": "execute_result"
    }
   ],
   "source": [
    "# function get_flat_realization(x, template_mol)\n",
    "#     n_mol = length(x) ÷ 6\n",
    "#     [(hvcat((n_mol), [exp(Rotations.RotationVecGenerator(x[i:i+2]...)) * template_mol .+ x[i+3:i+5] for i in 1:6:length(x)]...)...)...]\n",
    "# end"
   ]
  },
  {
   "cell_type": "code",
   "execution_count": 8,
   "metadata": {},
   "outputs": [
    {
     "data": {
      "text/plain": [
       "solvation_free_energy_gradient! (generic function with 1 method)"
      ]
     },
     "execution_count": 8,
     "metadata": {},
     "output_type": "execute_result"
    }
   ],
   "source": [
    "function rotation_and_translation_gradient!(∇E, x, ∇FSol, template_mol)\n",
    "    n_atoms_per_mol = size(template_mol)[2]\n",
    "    n_mol = length(x) ÷ 6\n",
    "    for i in 1:n_mol        \n",
    "        R = exp(Rotations.RotationVecGenerator(x[(i-1)*6 + 1:(i-1)*6 + 3]...))\n",
    "        ∇E[(i-1) * 6 + 1] = 0.5 * sum([-v[2]*(R[3,:] ⋅ w) + v[3]*(R[2,:] ⋅ w) for (v,w) in [(∇FSol[:,:,i][:,j], template_mol[:,j]) for j in 1:n_atoms_per_mol]])\n",
    "        ∇E[(i-1) * 6 + 2] = 0.5 * sum([v[1]*(R[3,:] ⋅ w) - v[3]*(R[1,:] ⋅ w) for (v,w) in [(∇FSol[:,:,i][:,j], template_mol[:,j]) for j in 1:n_atoms_per_mol]])\n",
    "        ∇E[(i-1) * 6 + 3] = 0.5 * sum([-v[1]*(R[2,:] ⋅ w) + v[2]*(R[1,:] ⋅ w) for (v,w) in [(∇FSol[:,:,i][:,j], template_mol[:,j]) for j in 1:n_atoms_per_mol]])\n",
    "        ∇E[(i-1) * 6 + 4:(i-1) * 6 + 6] = sum([∇FSol[:,j,i] for j in 1:n_atoms_per_mol])\n",
    "    end\n",
    "    ∇E\n",
    "end\n",
    "\n",
    "function solvation_free_energy_gradient!(∇E, x, template_mol, radii, rs, pf, overlap_slope)\n",
    "    n_atoms_per_mol = size(template_mol)[2]\n",
    "    n_mol = length(x) ÷ 6\n",
    "    flat_realization = MorphoMol.Utilities.get_flat_realization(x, template_mol)\n",
    "    _, dvol, dsurf, dmean, dgauss, dlol = MorphoMol.Energies.get_geometric_measures_and_overlap_value_with_derivatives(\n",
    "        flat_realization,\n",
    "        n_atoms_per_mol,\n",
    "        radii,\n",
    "        rs,\n",
    "        0.0,\n",
    "        overlap_slope\n",
    "    )\n",
    "    ∇FSol = reshape(pf[1] * dvol + pf[2] * dsurf + pf[3] * dmean + pf[4] * dgauss + dlol, (3, n_atoms_per_mol, n_mol))\n",
    "    rotation_and_translation_gradient!(∇E, x, ∇FSol, template_mol)\n",
    "end\n"
   ]
  },
  {
   "cell_type": "code",
   "execution_count": 9,
   "metadata": {},
   "outputs": [
    {
     "data": {
      "text/plain": [
       "solvation_free_energy_and_measures (generic function with 1 method)"
      ]
     },
     "execution_count": 9,
     "metadata": {},
     "output_type": "execute_result"
    }
   ],
   "source": [
    "function solvation_free_energy(x::Vector{Float64}, template_mol::Matrix{Float64}, radii::Vector{Float64}, rs::Float64, prefactors::AbstractVector, overlap_jump::Float64, overlap_slope::Float64, delaunay_eps::Float64)\n",
    "    n_mol = length(x) ÷ 6\n",
    "    n_atoms_per_mol = size(template_mol)[2]\n",
    "    flat_realization = MorphoMol.Utilities.get_flat_realization(x, template_mol)\n",
    "    MorphoMol.Energies.solvation_free_energy(flat_realization, n_atoms_per_mol, radii, rs, prefactors, overlap_jump, overlap_slope, delaunay_eps)\n",
    "end\n",
    "\n",
    "function solvation_free_energy_and_measures(x::Vector{Float64}, template_mol::Matrix{Float64}, radii::Vector{Float64}, rs::Float64, prefactors::AbstractVector, overlap_jump::Float64, overlap_slope::Float64, delaunay_eps::Float64)\n",
    "    n_mol = length(x) ÷ 6\n",
    "    n_atoms_per_mol = size(template_mol)[2]\n",
    "    flat_realization = MorphoMol.Utilities.get_flat_realization(x, template_mol)\n",
    "    measures = MorphoMol.Energies.get_geometric_measures_and_overlap_value(flat_realization, n_atoms_per_mol, radii, rs, overlap_jump, overlap_slope, delaunay_eps)\n",
    "    sum(measures .* [prefactors; 1.0]), measures\n",
    "end"
   ]
  },
  {
   "cell_type": "code",
   "execution_count": 30,
   "metadata": {},
   "outputs": [],
   "source": [
    "@load \"assets/input/jld2/2_6r7m_touching_init/2_6r7m_touching_1.jld2\" template_mol template_radii x_init\n",
    "n_mol = length(x_init) ÷ 6\n",
    "n_atoms_per_mol = length(template_radii)\n",
    "radii = vcat([template_radii for i in 1:n_mol]...);"
   ]
  },
  {
   "cell_type": "code",
   "execution_count": 31,
   "metadata": {},
   "outputs": [],
   "source": [
    "T = 0.8\n",
    "ε = 0.0025\n",
    "L = 7\n",
    "β = 1.0 / T\n",
    "\n",
    "rs = 1.4\n",
    "eta = 0.3665\n",
    "pf = MorphoMol.Energies.get_prefactors(rs, eta)\n",
    "overlap_slope = 0.85\n",
    "\n",
    "σ_r = 0.75\n",
    "σ_t = 1.25\n",
    "\n",
    "Σ = vcat([[σ_r, σ_r, σ_r, σ_t, σ_t, σ_t] for _ in 1:n_mol]...)\n",
    "\n",
    "energy(x) = solvation_free_energy_and_measures(x, template_mol, radii, rs, pf, 0.0, overlap_slope, 1.0)\n",
    "energy_gradient!(∇E, x) = solvation_free_energy_gradient!(∇E, x, template_mol, radii, rs, pf, overlap_slope)\n",
    "\n",
    "output = MorphoMol.Algorithms.MorphometricSimulationOutput(\n",
    "    Vector{Vector{Float64}}([]),\n",
    "    Vector{Float64}([]),\n",
    "    Vector{Float32}([]),\n",
    "    Vector{Float32}([]),\n",
    "    Vector{Float32}([]),\n",
    "    Vector{Float32}([]),\n",
    "    Vector{Float32}([]),\n",
    "    Vector{Float32}([])\n",
    ")\n",
    "\n",
    "hmc = MorphoMol.Algorithms.HamiltonianMonteCarlo(energy, energy_gradient!, MorphoMol.Algorithms.standard_leapfrog!, β, L, ε, Σ)\n",
    "iterations = 1000\n",
    "MorphoMol.Algorithms.simulate!(hmc, output, deepcopy(x_init), iterations);\n",
    "output.αs[end]"
   ]
  },
  {
   "cell_type": "code",
   "execution_count": 25,
   "metadata": {},
   "outputs": [
    {
     "name": "stdout",
     "output_type": "stream",
     "text": [
      "Initial energy: 8185.217724572173 | final energy: 8174.74962067151 | minimal energy: 8169.070340585995\n"
     ]
    }
   ],
   "source": [
    "println(\"Initial energy: $(output.Es[1]) | final energy: $(output.Es[end]) | minimal energy: $(minimum(output.Es))\")"
   ]
  },
  {
   "cell_type": "code",
   "execution_count": 26,
   "metadata": {},
   "outputs": [],
   "source": [
    "rm(\"assets/output\", recursive = true)\n",
    "mkpath(\"assets/output\")\n",
    "for (i, state) in enumerate(output.states)\n",
    "    MorphoMol.Utilities.state_to_poly(MorphoMol.Utilities.get_flat_realization(state, template_mol), radii, \"assets/output/$(i)\", n_mol, n_atoms_per_mol)\n",
    "end"
   ]
  },
  {
   "cell_type": "code",
   "execution_count": 27,
   "metadata": {},
   "outputs": [
    {
     "data": {
      "text/plain": [
       "save_output_plots (generic function with 1 method)"
      ]
     },
     "execution_count": 27,
     "metadata": {},
     "output_type": "execute_result"
    }
   ],
   "source": [
    "function save_output_plots(sim_out, save_dir)\n",
    "    paired_colors = cgrad(:Paired_12, 12, categorical = true)\n",
    "    xs = 1:length(sim_out.Vs)\n",
    "\n",
    "    pt_per_in = 72\n",
    "    width =  5*5\n",
    "    height = 5*3\n",
    "    f_size = (pt_per_in * width, pt_per_in * height)\n",
    "    fs = 15\n",
    "    border_width = 0.5\n",
    "    fig = Figure(size = f_size, fontsize = fs)\n",
    "    ms = 4\n",
    "    scatter(fig[1, 1], xs, sim_out.Vs, markersize = ms, color = paired_colors[1], axis = (ylabel = L\"V\", ylabelrotation = 0,))\n",
    "    scatter(fig[1, 2], xs, sim_out.As, markersize = ms, color = paired_colors[3], axis = (ylabel = L\"A\", ylabelrotation = 0,))\n",
    "    scatter(fig[1, 3], xs, sim_out.Ms, markersize = ms, color = paired_colors[5], axis = (ylabel = L\"M\", ylabelrotation = 0,))\n",
    "    scatter(fig[1, 4], xs, sim_out.Xs, markersize = ms, color = paired_colors[7], axis = (ylabel = L\"X\", ylabelrotation = 0,))\n",
    "    scatter(fig[2, 1], xs, sim_out.OLs, markersize = ms, color = paired_colors[10], axis = (ylabel = L\"OL\", ylabelrotation = 0,))\n",
    "    scatter(fig[2, 2], xs, sim_out.Es, markersize = ms, color = paired_colors[12], axis = (ylabel = L\"F_{sol}\", ylabelrotation = 0,))\n",
    "    save(string(\"$(save_dir)/hmc_output_plots.png\"), fig, pt_per_unit = 1)\n",
    "end"
   ]
  },
  {
   "cell_type": "code",
   "execution_count": 28,
   "metadata": {},
   "outputs": [
    {
     "data": {
      "text/plain": [
       "CairoMakie.Screen{IMAGE}\n"
      ]
     },
     "execution_count": 28,
     "metadata": {},
     "output_type": "execute_result"
    }
   ],
   "source": [
    "save_output_plots(output, \"notebooks/plots\")"
   ]
  }
 ],
 "metadata": {
  "kernelspec": {
   "display_name": "Julia 1.10.4",
   "language": "julia",
   "name": "julia-1.10"
  },
  "language_info": {
   "file_extension": ".jl",
   "mimetype": "application/julia",
   "name": "julia",
   "version": "1.10.4"
  },
  "orig_nbformat": 4
 },
 "nbformat": 4,
 "nbformat_minor": 2
}
