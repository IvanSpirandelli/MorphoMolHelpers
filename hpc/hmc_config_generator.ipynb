{
 "cells": [
  {
   "cell_type": "code",
   "execution_count": 1,
   "metadata": {},
   "outputs": [
    {
     "data": {
      "text/plain": [
       "1440.0"
      ]
     },
     "execution_count": 1,
     "metadata": {},
     "output_type": "execute_result"
    }
   ],
   "source": [
    "vdw_type = \"protor\"\n",
    "\n",
    "L = 5\n",
    "rs = 1.4\n",
    "η = 0.3665\n",
    "bounds = 200.0\n",
    "σ_t = 1.5\n",
    "σ_r = 1.0\n",
    "overlap_jump = 0.0\n",
    "overlap_slope = 0.85\n",
    "delaunay_eps = 10.0\n",
    "comment = \"\"\n",
    "\n",
    "energy_specifier = \"oj_$(replace(string(overlap_jump), \".\" => \"_\"))_os_$(replace(string(overlap_slope), \".\" => \"_\"))\"\n",
    "simulation_time_minutes = 24.0 * 60.0 * 1.0"
   ]
  },
  {
   "cell_type": "code",
   "execution_count": 5,
   "metadata": {},
   "outputs": [],
   "source": [
    "T = 1.4\n",
    "ε = 0.0025\n",
    "\n",
    "# input_specifier = \"2_low_refinement\"\n",
    "# template_folder = \"assets/input/jld2/2_low/\"\n",
    "\n",
    "input_specifier = \"2_6r7m_touching\"\n",
    "template_folder = \"assets/input/jld2/$(input_specifier)_init/\"\n",
    "\n",
    "open(\"configs/$(input_specifier)_config.txt\", \"w\") do io\n",
    "    println(io,\"ArrayTaskID input_string\")\n",
    "    i = 0\n",
    "    for file in readdir(\"../$(template_folder)\")\n",
    "        i+=1\n",
    "        template_file = \"$(template_folder)$(file)\"\n",
    "        output_directory = \"assets/outputs/$(input_specifier)_$(energy_specifier)/\"\n",
    "        mol_type = split(file, \".\")[1]\n",
    "        name = \"$(mol_type)_$(vdw_type)_$(energy_specifier)\"\n",
    "        input_string = escape_string(\"name=\\\"$name\\\";T=$(T);rs=$rs;η=$η;L=$L;ε=$ε;σ_t=$σ_t;σ_r=$σ_r;overlap_jump=$overlap_jump;overlap_slope=$overlap_slope;simulation_time_minutes=$simulation_time_minutes;output_directory=\\\"$output_directory\\\";template_file=\\\"$template_file\\\";delaunay_eps=$delaunay_eps;comment=\\\"$comment\\\"\")\n",
    "        println(io, \"$((i-1)) $input_string\")\n",
    "    end\n",
    "end\n"
   ]
  },
  {
   "cell_type": "code",
   "execution_count": 6,
   "metadata": {},
   "outputs": [
    {
     "data": {
      "text/plain": [
       "100"
      ]
     },
     "execution_count": 6,
     "metadata": {},
     "output_type": "execute_result"
    }
   ],
   "source": [
    "total_simulations = length(readlines(\"configs/$(input_specifier)_config.txt\")) - 1"
   ]
  },
  {
   "cell_type": "code",
   "execution_count": 8,
   "metadata": {},
   "outputs": [],
   "source": [
    "hours = Int(round(simulation_time_minutes / 60.0))\n",
    "days = hours ÷ 24\n",
    "remaining_hours = hours % 24\n",
    "remaining_hours_string = remaining_hours < 10 ? \"0$(remaining_hours)\" : string(remaining_hours)\n",
    "buffer_time_string = simulation_time_minutes < 5 ? \"0$(Int(simulation_time_minutes)+2)\" : \"30\"\n",
    "\n",
    "open(\"$(input_specifier)_hmc_script.job\", \"w\") do io\n",
    "    println(io, \"#!/bin/bash\")\n",
    "    println(io, \"#SBATCH --job-name=SolvationSimulations\")\n",
    "    println(io, \"#SBATCH --time=0$(days)-$(remaining_hours_string):$(buffer_time_string)\")\n",
    "    println(io, \"#SBATCH --ntasks=1\")\n",
    "    println(io, \"#SBATCH --cpus-per-task=1\")\n",
    "    println(io, \"#SBATCH --array=1-$(total_simulations)\")\n",
    "    println(io, \"#SBATCH --chdir=/work/spirandelli/MorphoMolMonteCarlo/\")\n",
    "    println(io, \"#SBATCH -o ./hpc/out/%a.out # STDOUT\")\n",
    "    println(io, \"\")\n",
    "    println(io, \"export http_proxy=http://proxy2.uni-potsdam.de:3128 #Setting proxy, due to lack of Internet on compute nodes.\")\n",
    "    println(io, \"export https_proxy=http://proxy2.uni-potsdam.de:3128\")\n",
    "    println(io, \"\")\n",
    "    println(io, \"module purge\")\n",
    "    println(io, \"module load lang/Julia/1.7.3-linux-x86_64\")\n",
    "    println(io, \"\")\n",
    "    println(io, \"# Specify the path to the config file\")\n",
    "    println(io, \"config=hpc/configs/$(input_specifier)_config.txt\")\n",
    "    println(io, \"\")\n",
    "    println(io, \"# Extract the variables from config file\")\n",
    "    println(io, \"config_string=\\$(awk -v ArrayTaskID=\\$SLURM_ARRAY_TASK_ID '\\$1==ArrayTaskID {print \\$2}' \\$config)\")\n",
    "    println(io, \"\")\n",
    "    println(io, \"julia -e \\\"$(escape_string(\"include(\\\"hpc/hmc_call.jl\\\"); hmc_call(\\\"\\$config_string\\\")\"))\\\"\")\n",
    "    println(io, \"\")\n",
    "    println(io, \"# copy back results\")\n",
    "    println(io, \"mkdir -p ~/output/ && cp -r assets/output/* ~/output/\")\n",
    "end"
   ]
  }
 ],
 "metadata": {
  "kernelspec": {
   "display_name": "Julia 1.10.4",
   "language": "julia",
   "name": "julia-1.10"
  },
  "language_info": {
   "file_extension": ".jl",
   "mimetype": "application/julia",
   "name": "julia",
   "version": "1.10.4"
  },
  "orig_nbformat": 4
 },
 "nbformat": 4,
 "nbformat_minor": 2
}
